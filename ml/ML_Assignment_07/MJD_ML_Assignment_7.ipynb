{
 "cells": [
  {
   "cell_type": "markdown",
   "id": "2e1e4f4a",
   "metadata": {},
   "source": [
    "# ML Assignment 7: Decision Tree Classification with Performance Comparison\n",
    "\n",
    "**AICTE Faculty ID:** 1-3241967546  \n",
    "**Faculty Name:** Milav Jayeshkumar Dabgar\n",
    "\n",
    "---\n",
    "\n",
    "## Objective\n",
    "Implement Decision Tree classifier and compare its performance with Naive Bayes classifier on car evaluation dataset.\n",
    "\n",
    "## Assignment Tasks:\n",
    "1. Build Decision Tree classifier for car evaluation dataset\n",
    "2. Measure accuracy, precision, recall, and F1 score for Decision Tree\n",
    "3. Compare Decision Tree performance with Naive Bayes classifier\n",
    "4. Analyze performance metrics and identify best performing algorithm\n",
    "5. Generate comprehensive conclusions based on experimental results"
   ]
  },
  {
   "cell_type": "markdown",
   "id": "81734e00",
   "metadata": {},
   "source": [
    "## 1. Import Required Libraries"
   ]
  },
  {
   "cell_type": "code",
   "execution_count": 1,
   "id": "43a141ff",
   "metadata": {},
   "outputs": [],
   "source": [
    "import numpy as np\n",
    "import pandas as pd\n",
    "import matplotlib.pyplot as plt\n",
    "from sklearn.model_selection import train_test_split\n",
    "from sklearn.tree import DecisionTreeClassifier\n",
    "from sklearn.naive_bayes import GaussianNB\n",
    "from sklearn.preprocessing import LabelEncoder\n",
    "from sklearn.metrics import accuracy_score, precision_score, recall_score, f1_score, confusion_matrix, classification_report"
   ]
  },
  {
   "cell_type": "markdown",
   "id": "b86fbe7b",
   "metadata": {},
   "source": [
    "## 2. Load and Explore Dataset"
   ]
  },
  {
   "cell_type": "code",
   "execution_count": 2,
   "id": "4af3d958",
   "metadata": {},
   "outputs": [
    {
     "name": "stdout",
     "output_type": "stream",
     "text": [
      "=== DATASET OVERVIEW ===\n",
      "Dataset shape: (1728, 7)\n",
      "Features: ['buying', 'maint', 'doors', 'persons', 'lug_boot', 'safety']\n",
      "Target: class\n",
      "\n",
      "=== SAMPLE DATA ===\n",
      "  buying  maint doors persons lug_boot safety  class\n",
      "0  vhigh  vhigh     2       2    small    low  unacc\n",
      "1  vhigh  vhigh     2       2    small    med  unacc\n",
      "2  vhigh  vhigh     2       2    small   high  unacc\n",
      "3  vhigh  vhigh     2       2      med    low  unacc\n",
      "4  vhigh  vhigh     2       2      med    med  unacc\n",
      "\n",
      "=== TARGET DISTRIBUTION ===\n",
      "class\n",
      "unacc    1210\n",
      "acc       384\n",
      "good       69\n",
      "vgood      65\n",
      "Name: count, dtype: int64\n",
      "\n",
      "=== FEATURE INFO ===\n",
      "buying: ['vhigh' 'high' 'med' 'low']\n",
      "maint: ['vhigh' 'high' 'med' 'low']\n",
      "doors: ['2' '3' '4' '5more']\n",
      "persons: ['2' '4' 'more']\n",
      "lug_boot: ['small' 'med' 'big']\n",
      "safety: ['low' 'med' 'high']\n",
      "class: ['unacc' 'acc' 'vgood' 'good']\n"
     ]
    }
   ],
   "source": [
    "# Load the car evaluation dataset\n",
    "columns = ['buying', 'maint', 'doors', 'persons', 'lug_boot', 'safety', 'class']\n",
    "data = pd.read_csv('car_evaluation.csv', names=columns)\n",
    "\n",
    "print(\"=== DATASET OVERVIEW ===\")\n",
    "print(f\"Dataset shape: {data.shape}\")\n",
    "print(f\"Features: {list(data.columns[:-1])}\")\n",
    "print(f\"Target: {data.columns[-1]}\")\n",
    "\n",
    "print(\"\\n=== SAMPLE DATA ===\")\n",
    "print(data.head())\n",
    "\n",
    "print(\"\\n=== TARGET DISTRIBUTION ===\")\n",
    "print(data['class'].value_counts())\n",
    "\n",
    "print(\"\\n=== FEATURE INFO ===\")\n",
    "for col in data.columns:\n",
    "    print(f\"{col}: {data[col].unique()}\")"
   ]
  },
  {
   "cell_type": "markdown",
   "id": "0405b4ff",
   "metadata": {},
   "source": [
    "## 3. Data Preprocessing"
   ]
  },
  {
   "cell_type": "code",
   "execution_count": 3,
   "id": "cd26be6f",
   "metadata": {},
   "outputs": [
    {
     "name": "stdout",
     "output_type": "stream",
     "text": [
      "=== DATA PREPROCESSING SUMMARY ===\n",
      "Training samples: 1209\n",
      "Testing samples: 519\n",
      "Number of features: 6\n",
      "✅ Data preprocessing completed!\n"
     ]
    }
   ],
   "source": [
    "# Encode categorical variables\n",
    "label_encoders = {}\n",
    "data_encoded = data.copy()\n",
    "\n",
    "for column in data.columns:\n",
    "    le = LabelEncoder()\n",
    "    data_encoded[column] = le.fit_transform(data[column])\n",
    "    label_encoders[column] = le\n",
    "\n",
    "# Separate features and target\n",
    "X = data_encoded.drop('class', axis=1)\n",
    "y = data_encoded['class']\n",
    "\n",
    "# Split data into training and testing sets (70-30 split)\n",
    "X_train, X_test, y_train, y_test = train_test_split(\n",
    "    X, y, test_size=0.3, random_state=42, stratify=y\n",
    ")\n",
    "\n",
    "print(\"=== DATA PREPROCESSING SUMMARY ===\")\n",
    "print(f\"Training samples: {X_train.shape[0]}\")\n",
    "print(f\"Testing samples: {X_test.shape[0]}\")\n",
    "print(f\"Number of features: {X_train.shape[1]}\")\n",
    "print(\"✅ Data preprocessing completed!\")"
   ]
  },
  {
   "cell_type": "markdown",
   "id": "7f80a680",
   "metadata": {},
   "source": [
    "## 4. Decision Tree Classifier"
   ]
  },
  {
   "cell_type": "code",
   "execution_count": 4,
   "id": "209f0ffd",
   "metadata": {},
   "outputs": [
    {
     "name": "stdout",
     "output_type": "stream",
     "text": [
      "=== DECISION TREE CLASSIFIER RESULTS ===\n",
      "Accuracy:  0.9788 (97.88%)\n",
      "Precision: 0.9798\n",
      "Recall:    0.9788\n",
      "F1-Score:  0.9790\n",
      "\n",
      "=== CONFUSION MATRIX ===\n",
      "[[112   2   1   0]\n",
      " [  0  21   0   0]\n",
      " [  7   0 356   0]\n",
      " [  1   0   0  19]]\n"
     ]
    }
   ],
   "source": [
    "# Train Decision Tree Classifier\n",
    "dt_classifier = DecisionTreeClassifier(random_state=42)\n",
    "dt_classifier.fit(X_train, y_train)\n",
    "\n",
    "# Make predictions\n",
    "dt_pred = dt_classifier.predict(X_test)\n",
    "\n",
    "# Calculate metrics\n",
    "dt_accuracy = accuracy_score(y_test, dt_pred)\n",
    "dt_precision = precision_score(y_test, dt_pred, average='weighted')\n",
    "dt_recall = recall_score(y_test, dt_pred, average='weighted')\n",
    "dt_f1 = f1_score(y_test, dt_pred, average='weighted')\n",
    "\n",
    "print(\"=== DECISION TREE CLASSIFIER RESULTS ===\")\n",
    "print(f\"Accuracy:  {dt_accuracy:.4f} ({dt_accuracy*100:.2f}%)\")\n",
    "print(f\"Precision: {dt_precision:.4f}\")\n",
    "print(f\"Recall:    {dt_recall:.4f}\")\n",
    "print(f\"F1-Score:  {dt_f1:.4f}\")\n",
    "\n",
    "print(\"\\n=== CONFUSION MATRIX ===\")\n",
    "print(confusion_matrix(y_test, dt_pred))"
   ]
  },
  {
   "cell_type": "markdown",
   "id": "3e92e56e",
   "metadata": {},
   "source": [
    "## 5. Naive Bayes Classifier"
   ]
  },
  {
   "cell_type": "code",
   "execution_count": 5,
   "id": "0212c4ce",
   "metadata": {},
   "outputs": [
    {
     "name": "stdout",
     "output_type": "stream",
     "text": [
      "=== NAIVE BAYES CLASSIFIER RESULTS ===\n",
      "Accuracy:  0.6146 (61.46%)\n",
      "Precision: 0.6967\n",
      "Recall:    0.6146\n",
      "F1-Score:  0.6146\n",
      "\n",
      "=== CONFUSION MATRIX ===\n",
      "[[ 10   0  45  60]\n",
      " [  5   0   8   8]\n",
      " [  7   0 289  67]\n",
      " [  0   0   0  20]]\n"
     ]
    }
   ],
   "source": [
    "# Train Naive Bayes Classifier\n",
    "nb_classifier = GaussianNB()\n",
    "nb_classifier.fit(X_train, y_train)\n",
    "\n",
    "# Make predictions\n",
    "nb_pred = nb_classifier.predict(X_test)\n",
    "\n",
    "# Calculate metrics (with warning suppression)\n",
    "nb_accuracy = accuracy_score(y_test, nb_pred)\n",
    "nb_precision = precision_score(y_test, nb_pred, average='weighted', zero_division=0)\n",
    "nb_recall = recall_score(y_test, nb_pred, average='weighted', zero_division=0)\n",
    "nb_f1 = f1_score(y_test, nb_pred, average='weighted', zero_division=0)\n",
    "\n",
    "print(\"=== NAIVE BAYES CLASSIFIER RESULTS ===\")\n",
    "print(f\"Accuracy:  {nb_accuracy:.4f} ({nb_accuracy*100:.2f}%)\")\n",
    "print(f\"Precision: {nb_precision:.4f}\")\n",
    "print(f\"Recall:    {nb_recall:.4f}\")\n",
    "print(f\"F1-Score:  {nb_f1:.4f}\")\n",
    "\n",
    "print(\"\\n=== CONFUSION MATRIX ===\")\n",
    "print(confusion_matrix(y_test, nb_pred))"
   ]
  },
  {
   "cell_type": "markdown",
   "id": "218f1e22",
   "metadata": {},
   "source": [
    "## 6. Performance Comparison"
   ]
  },
  {
   "cell_type": "code",
   "execution_count": 6,
   "id": "e00e424d",
   "metadata": {},
   "outputs": [
    {
     "name": "stdout",
     "output_type": "stream",
     "text": [
      "=== PERFORMANCE COMPARISON ===\n",
      "   Classifier  Accuracy  Precision  Recall  F1-Score\n",
      "Decision Tree    0.9788     0.9798  0.9788    0.9790\n",
      "  Naive Bayes    0.6146     0.6967  0.6146    0.6146\n"
     ]
    },
    {
     "data": {
      "image/png": "[encoded data removed]",
      "text/plain": [
       "<Figure size 1000x600 with 1 Axes>"
      ]
     },
     "metadata": {},
     "output_type": "display_data"
    },
    {
     "name": "stdout",
     "output_type": "stream",
     "text": [
      "\n",
      "=== PERFORMANCE ANALYSIS ===\n",
      "Decision Tree is better by 36.42% in accuracy\n",
      "Decision Tree is better by 36.44% in F1-score\n"
     ]
    }
   ],
   "source": [
    "# Create comparison table\n",
    "comparison_data = {\n",
    "    'Classifier': ['Decision Tree', 'Naive Bayes'],\n",
    "    'Accuracy': [dt_accuracy, nb_accuracy],\n",
    "    'Precision': [dt_precision, nb_precision],\n",
    "    'Recall': [dt_recall, nb_recall],\n",
    "    'F1-Score': [dt_f1, nb_f1]\n",
    "}\n",
    "\n",
    "comparison_df = pd.DataFrame(comparison_data)\n",
    "comparison_df = comparison_df.round(4)\n",
    "\n",
    "print(\"=== PERFORMANCE COMPARISON ===\")\n",
    "print(comparison_df.to_string(index=False))\n",
    "\n",
    "# Visualize comparison\n",
    "metrics = ['Accuracy', 'Precision', 'Recall', 'F1-Score']\n",
    "dt_scores = [dt_accuracy, dt_precision, dt_recall, dt_f1]\n",
    "nb_scores = [nb_accuracy, nb_precision, nb_recall, nb_f1]\n",
    "\n",
    "x = range(len(metrics))\n",
    "width = 0.35\n",
    "\n",
    "plt.figure(figsize=(10, 6))\n",
    "plt.bar([i - width/2 for i in x], dt_scores, width, label='Decision Tree', alpha=0.8)\n",
    "plt.bar([i + width/2 for i in x], nb_scores, width, label='Naive Bayes', alpha=0.8)\n",
    "\n",
    "plt.xlabel('Metrics')\n",
    "plt.ylabel('Score')\n",
    "plt.title('Decision Tree vs Naive Bayes Performance Comparison')\n",
    "plt.xticks(x, metrics)\n",
    "plt.legend()\n",
    "plt.grid(axis='y', alpha=0.3)\n",
    "plt.tight_layout()\n",
    "plt.show()\n",
    "\n",
    "# Performance difference\n",
    "print(f\"\\n=== PERFORMANCE ANALYSIS ===\")\n",
    "print(f\"Decision Tree is better by {(dt_accuracy - nb_accuracy)*100:.2f}% in accuracy\")\n",
    "print(f\"Decision Tree is better by {(dt_f1 - nb_f1)*100:.2f}% in F1-score\")"
   ]
  },
  {
   "cell_type": "markdown",
   "id": "179d884c",
   "metadata": {},
   "source": [
    "## 7. Conclusions\n",
    "\n",
    "### Assignment Requirements Completed:\n",
    "**(a) Decision Tree Classifier:** Successfully built Decision Tree classifier for car evaluation dataset with comprehensive performance metrics.\n",
    "\n",
    "**(b) Performance Comparison:** Compared Decision Tree and Naive Bayes classifiers across all required metrics.\n",
    "\n",
    "### Key Findings:\n",
    "- **Dataset:** 1,728 car evaluation records with 6 categorical features\n",
    "- **Target Classes:** 4 categories (unacc, acc, good, vgood)\n",
    "- **Best Performer:** Decision Tree classifier outperforms Naive Bayes\n",
    "\n",
    "### Performance Summary:\n",
    "| Classifier | Accuracy | Precision | Recall | F1-Score |\n",
    "|------------|----------|-----------|--------|---------|\n",
    "| Decision Tree | Higher | Higher | Higher | Higher |\n",
    "| Naive Bayes | Lower | Lower | Lower | Lower |\n",
    "\n",
    "### Analysis:\n",
    "1. **Decision Tree Advantages:**\n",
    "   - Better handles categorical features\n",
    "   - Captures feature interactions effectively\n",
    "   - More suitable for rule-based decision making\n",
    "\n",
    "2. **Naive Bayes Limitations:**\n",
    "   - Assumes feature independence (violated in car evaluation)\n",
    "   - Less effective with categorical features\n",
    "   - May struggle with complex feature relationships\n",
    "\n",
    "### Conclusion:\n",
    "**Decision Tree classifier is the superior choice** for the car evaluation dataset, demonstrating better performance across all metrics. This is expected given the categorical nature of features and their interdependencies in car evaluation decisions.\n",
    "\n",
    "✅ **Assignment 7 completed successfully!**"
   ]
  }
 ],
 "metadata": {
  "kernelspec": {
   "display_name": ".venv",
   "language": "python",
   "name": "python3"
  },
  "language_info": {
   "codemirror_mode": {
    "name": "ipython",
    "version": 3
   },
   "file_extension": ".py",
   "mimetype": "text/x-python",
   "name": "python",
   "nbconvert_exporter": "python",
   "pygments_lexer": "ipython3",
   "version": "3.13.5"
  }
 },
 "nbformat": 4,
 "nbformat_minor": 5
}

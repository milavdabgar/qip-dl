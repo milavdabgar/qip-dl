{
 "cells": [
  {
   "cell_type": "markdown",
   "id": "6bb135ec",
   "metadata": {},
   "source": [
    "# ML Assignment 8: Random Forest Classification with Multi-Algorithm Comparison\n",
    "\n",
    "**AICTE Faculty ID:** 1-3241967546  \n",
    "**Faculty Name:** Milav Jayeshkumar Dabgar\n",
    "\n",
    "---\n",
    "\n",
    "## Objective\n",
    "Implement Random Forest classifier and conduct comprehensive performance comparison with Decision Tree and Naive Bayes algorithms.\n",
    "\n",
    "## Assignment Tasks:\n",
    "1. Apply Random Forest classifier to car evaluation dataset\n",
    "2. Obtain accuracy score and quantitative performance parameters\n",
    "3. Compare Random Forest with Decision Tree and Naive Bayes classifiers\n",
    "4. Analyze performance metrics across all three algorithms\n",
    "5. Generate detailed conclusions on algorithm effectiveness"
   ]
  },
  {
   "cell_type": "markdown",
   "id": "b83cc243",
   "metadata": {},
   "source": [
    "## 1. Import Required Libraries"
   ]
  },
  {
   "cell_type": "code",
   "execution_count": 1,
   "id": "0da66aa2",
   "metadata": {},
   "outputs": [],
   "source": [
    "import numpy as np\n",
    "import pandas as pd\n",
    "import matplotlib.pyplot as plt\n",
    "import warnings\n",
    "from sklearn.model_selection import train_test_split\n",
    "from sklearn.ensemble import RandomForestClassifier\n",
    "from sklearn.tree import DecisionTreeClassifier\n",
    "from sklearn.naive_bayes import GaussianNB\n",
    "from sklearn.preprocessing import LabelEncoder\n",
    "from sklearn.metrics import accuracy_score, precision_score, recall_score, f1_score, confusion_matrix, classification_report\n",
    "\n",
    "# Suppress sklearn warnings\n",
    "warnings.filterwarnings('ignore', category=UserWarning, module='sklearn')"
   ]
  },
  {
   "cell_type": "markdown",
   "id": "d373a18b",
   "metadata": {},
   "source": [
    "## 2. Load and Preprocess Dataset"
   ]
  },
  {
   "cell_type": "code",
   "execution_count": 2,
   "id": "0d2fb9c9",
   "metadata": {},
   "outputs": [
    {
     "name": "stdout",
     "output_type": "stream",
     "text": [
      "=== DATASET OVERVIEW ===\n",
      "Dataset shape: (1728, 7)\n",
      "Features: ['buying', 'maint', 'doors', 'persons', 'lug_boot', 'safety']\n",
      "Target classes: ['unacc' 'acc' 'vgood' 'good']\n",
      "Class distribution: {'unacc': 1210, 'acc': 384, 'good': 69, 'vgood': 65}\n",
      "\n",
      "=== DATA SPLIT ===\n",
      "Training samples: 1209\n",
      "Testing samples: 519\n",
      "✅ Data preprocessing completed!\n"
     ]
    }
   ],
   "source": [
    "# Load the car evaluation dataset\n",
    "columns = ['buying', 'maint', 'doors', 'persons', 'lug_boot', 'safety', 'class']\n",
    "data = pd.read_csv('car_evaluation.csv', names=columns)\n",
    "\n",
    "print(\"=== DATASET OVERVIEW ===\")\n",
    "print(f\"Dataset shape: {data.shape}\")\n",
    "print(f\"Features: {list(data.columns[:-1])}\")\n",
    "print(f\"Target classes: {data['class'].unique()}\")\n",
    "print(f\"Class distribution: {data['class'].value_counts().to_dict()}\")\n",
    "\n",
    "# Encode categorical variables\n",
    "label_encoders = {}\n",
    "data_encoded = data.copy()\n",
    "\n",
    "for column in data.columns:\n",
    "    le = LabelEncoder()\n",
    "    data_encoded[column] = le.fit_transform(data[column])\n",
    "    label_encoders[column] = le\n",
    "\n",
    "# Separate features and target\n",
    "X = data_encoded.drop('class', axis=1)\n",
    "y = data_encoded['class']\n",
    "\n",
    "# Split data (70-30 split)\n",
    "X_train, X_test, y_train, y_test = train_test_split(\n",
    "    X, y, test_size=0.3, random_state=42, stratify=y\n",
    ")\n",
    "\n",
    "print(f\"\\n=== DATA SPLIT ===\")\n",
    "print(f\"Training samples: {X_train.shape[0]}\")\n",
    "print(f\"Testing samples: {X_test.shape[0]}\")\n",
    "print(\"✅ Data preprocessing completed!\")"
   ]
  },
  {
   "cell_type": "markdown",
   "id": "f6bee8b0",
   "metadata": {},
   "source": [
    "## 3. Random Forest Classifier"
   ]
  },
  {
   "cell_type": "code",
   "execution_count": 3,
   "id": "c8f5d163",
   "metadata": {},
   "outputs": [
    {
     "name": "stdout",
     "output_type": "stream",
     "text": [
      "=== RANDOM FOREST CLASSIFIER RESULTS ===\n",
      "Number of trees: 100\n",
      "Accuracy:  0.9672 (96.72%)\n",
      "Precision: 0.9674\n",
      "Recall:    0.9672\n",
      "F1-Score:  0.9673\n",
      "\n",
      "=== FEATURE IMPORTANCE ===\n",
      "buying: 0.1836\n",
      "maint: 0.1592\n",
      "doors: 0.0672\n",
      "persons: 0.2235\n",
      "lug_boot: 0.0896\n",
      "safety: 0.2769\n",
      "\n",
      "=== CONFUSION MATRIX ===\n",
      "[[107   2   6   0]\n",
      " [  2  19   0   0]\n",
      " [  6   0 357   0]\n",
      " [  1   0   0  19]]\n"
     ]
    }
   ],
   "source": [
    "# Train Random Forest Classifier\n",
    "rf_classifier = RandomForestClassifier(n_estimators=100, random_state=42)\n",
    "rf_classifier.fit(X_train, y_train)\n",
    "\n",
    "# Make predictions\n",
    "rf_pred = rf_classifier.predict(X_test)\n",
    "\n",
    "# Calculate metrics\n",
    "rf_accuracy = accuracy_score(y_test, rf_pred)\n",
    "rf_precision = precision_score(y_test, rf_pred, average='weighted')\n",
    "rf_recall = recall_score(y_test, rf_pred, average='weighted')\n",
    "rf_f1 = f1_score(y_test, rf_pred, average='weighted')\n",
    "\n",
    "print(\"=== RANDOM FOREST CLASSIFIER RESULTS ===\")\n",
    "print(f\"Number of trees: {rf_classifier.n_estimators}\")\n",
    "print(f\"Accuracy:  {rf_accuracy:.4f} ({rf_accuracy*100:.2f}%)\")\n",
    "print(f\"Precision: {rf_precision:.4f}\")\n",
    "print(f\"Recall:    {rf_recall:.4f}\")\n",
    "print(f\"F1-Score:  {rf_f1:.4f}\")\n",
    "\n",
    "print(\"\\n=== FEATURE IMPORTANCE ===\")\n",
    "feature_names = ['buying', 'maint', 'doors', 'persons', 'lug_boot', 'safety']\n",
    "importances = rf_classifier.feature_importances_\n",
    "for name, importance in zip(feature_names, importances):\n",
    "    print(f\"{name}: {importance:.4f}\")\n",
    "\n",
    "print(\"\\n=== CONFUSION MATRIX ===\")\n",
    "print(confusion_matrix(y_test, rf_pred))"
   ]
  },
  {
   "cell_type": "markdown",
   "id": "5492461f",
   "metadata": {},
   "source": [
    "## 4. Decision Tree Classifier (for comparison)"
   ]
  },
  {
   "cell_type": "code",
   "execution_count": 4,
   "id": "697a1e1b",
   "metadata": {},
   "outputs": [
    {
     "name": "stdout",
     "output_type": "stream",
     "text": [
      "=== DECISION TREE CLASSIFIER RESULTS ===\n",
      "Accuracy:  0.9788 (97.88%)\n",
      "Precision: 0.9798\n",
      "Recall:    0.9788\n",
      "F1-Score:  0.9790\n"
     ]
    }
   ],
   "source": [
    "# Train Decision Tree Classifier\n",
    "dt_classifier = DecisionTreeClassifier(random_state=42)\n",
    "dt_classifier.fit(X_train, y_train)\n",
    "dt_pred = dt_classifier.predict(X_test)\n",
    "\n",
    "# Calculate metrics\n",
    "dt_accuracy = accuracy_score(y_test, dt_pred)\n",
    "dt_precision = precision_score(y_test, dt_pred, average='weighted')\n",
    "dt_recall = recall_score(y_test, dt_pred, average='weighted')\n",
    "dt_f1 = f1_score(y_test, dt_pred, average='weighted')\n",
    "\n",
    "print(\"=== DECISION TREE CLASSIFIER RESULTS ===\")\n",
    "print(f\"Accuracy:  {dt_accuracy:.4f} ({dt_accuracy*100:.2f}%)\")\n",
    "print(f\"Precision: {dt_precision:.4f}\")\n",
    "print(f\"Recall:    {dt_recall:.4f}\")\n",
    "print(f\"F1-Score:  {dt_f1:.4f}\")"
   ]
  },
  {
   "cell_type": "markdown",
   "id": "35b3271b",
   "metadata": {},
   "source": [
    "## 5. Naive Bayes Classifier (for comparison)"
   ]
  },
  {
   "cell_type": "code",
   "execution_count": 5,
   "id": "6eb8aca5",
   "metadata": {},
   "outputs": [
    {
     "name": "stdout",
     "output_type": "stream",
     "text": [
      "=== NAIVE BAYES CLASSIFIER RESULTS ===\n",
      "Accuracy:  0.6146 (61.46%)\n",
      "Precision: 0.6967\n",
      "Recall:    0.6146\n",
      "F1-Score:  0.6146\n"
     ]
    }
   ],
   "source": [
    "# Train Naive Bayes Classifier\n",
    "nb_classifier = GaussianNB()\n",
    "nb_classifier.fit(X_train, y_train)\n",
    "nb_pred = nb_classifier.predict(X_test)\n",
    "\n",
    "# Calculate metrics (with warning suppression)\n",
    "with warnings.catch_warnings():\n",
    "    warnings.simplefilter(\"ignore\")\n",
    "    nb_accuracy = accuracy_score(y_test, nb_pred)\n",
    "    nb_precision = precision_score(y_test, nb_pred, average='weighted', zero_division=0)\n",
    "    nb_recall = recall_score(y_test, nb_pred, average='weighted', zero_division=0)\n",
    "    nb_f1 = f1_score(y_test, nb_pred, average='weighted', zero_division=0)\n",
    "\n",
    "print(\"=== NAIVE BAYES CLASSIFIER RESULTS ===\")\n",
    "print(f\"Accuracy:  {nb_accuracy:.4f} ({nb_accuracy*100:.2f}%)\")\n",
    "print(f\"Precision: {nb_precision:.4f}\")\n",
    "print(f\"Recall:    {nb_recall:.4f}\")\n",
    "print(f\"F1-Score:  {nb_f1:.4f}\")"
   ]
  },
  {
   "cell_type": "markdown",
   "id": "fd23549e",
   "metadata": {},
   "source": [
    "## 6. Comprehensive Performance Comparison"
   ]
  },
  {
   "cell_type": "code",
   "execution_count": 6,
   "id": "6fd814ec",
   "metadata": {},
   "outputs": [
    {
     "name": "stdout",
     "output_type": "stream",
     "text": [
      "=== COMPREHENSIVE PERFORMANCE COMPARISON ===\n",
      "   Classifier  Accuracy  Precision  Recall  F1-Score\n",
      "Random Forest    0.9672     0.9674  0.9672    0.9673\n",
      "Decision Tree    0.9788     0.9798  0.9788    0.9790\n",
      "  Naive Bayes    0.6146     0.6967  0.6146    0.6146\n",
      "\n",
      "=== PERFORMANCE RANKING ===\n",
      "Best Overall Performer: Decision Tree\n",
      "Highest Accuracy: 0.9788\n",
      "Highest F1-Score: 0.9790\n",
      "\n",
      "=== RANDOM FOREST IMPROVEMENTS ===\n",
      "vs Decision Tree: +-1.16% accuracy\n",
      "vs Naive Bayes: +35.26% accuracy\n"
     ]
    }
   ],
   "source": [
    "# Create comprehensive comparison table\n",
    "comparison_data = {\n",
    "    'Classifier': ['Random Forest', 'Decision Tree', 'Naive Bayes'],\n",
    "    'Accuracy': [rf_accuracy, dt_accuracy, nb_accuracy],\n",
    "    'Precision': [rf_precision, dt_precision, nb_precision],\n",
    "    'Recall': [rf_recall, dt_recall, nb_recall],\n",
    "    'F1-Score': [rf_f1, dt_f1, nb_f1]\n",
    "}\n",
    "\n",
    "comparison_df = pd.DataFrame(comparison_data)\n",
    "comparison_df = comparison_df.round(4)\n",
    "\n",
    "print(\"=== COMPREHENSIVE PERFORMANCE COMPARISON ===\")\n",
    "print(comparison_df.to_string(index=False))\n",
    "\n",
    "# Find best performer\n",
    "best_accuracy_idx = comparison_df['Accuracy'].idxmax()\n",
    "best_f1_idx = comparison_df['F1-Score'].idxmax()\n",
    "best_classifier = comparison_df.loc[best_accuracy_idx, 'Classifier']\n",
    "\n",
    "print(f\"\\n=== PERFORMANCE RANKING ===\")\n",
    "print(f\"Best Overall Performer: {best_classifier}\")\n",
    "print(f\"Highest Accuracy: {comparison_df.loc[best_accuracy_idx, 'Accuracy']:.4f}\")\n",
    "print(f\"Highest F1-Score: {comparison_df.loc[best_f1_idx, 'F1-Score']:.4f}\")\n",
    "\n",
    "# Performance improvements\n",
    "print(f\"\\n=== RANDOM FOREST IMPROVEMENTS ===\")\n",
    "print(f\"vs Decision Tree: +{(rf_accuracy - dt_accuracy)*100:.2f}% accuracy\")\n",
    "print(f\"vs Naive Bayes: +{(rf_accuracy - nb_accuracy)*100:.2f}% accuracy\")"
   ]
  },
  {
   "cell_type": "markdown",
   "id": "595e58a5",
   "metadata": {},
   "source": [
    "## 7. Visualization"
   ]
  },
  {
   "cell_type": "code",
   "execution_count": 7,
   "id": "cbbe9825",
   "metadata": {},
   "outputs": [
    {
     "data": {
      "image/png": "[encoded data removed]",
      "text/plain": [
       "<Figure size 1200x800 with 3 Axes>"
      ]
     },
     "metadata": {},
     "output_type": "display_data"
    }
   ],
   "source": [
    "# Performance comparison visualization\n",
    "plt.figure(figsize=(12, 8))\n",
    "\n",
    "# Subplot 1: Performance metrics comparison\n",
    "plt.subplot(2, 2, 1)\n",
    "metrics = ['Accuracy', 'Precision', 'Recall', 'F1-Score']\n",
    "rf_scores = [rf_accuracy, rf_precision, rf_recall, rf_f1]\n",
    "dt_scores = [dt_accuracy, dt_precision, dt_recall, dt_f1]\n",
    "nb_scores = [nb_accuracy, nb_precision, nb_recall, nb_f1]\n",
    "\n",
    "x = range(len(metrics))\n",
    "width = 0.25\n",
    "\n",
    "plt.bar([i - width for i in x], rf_scores, width, label='Random Forest', alpha=0.8)\n",
    "plt.bar(x, dt_scores, width, label='Decision Tree', alpha=0.8)\n",
    "plt.bar([i + width for i in x], nb_scores, width, label='Naive Bayes', alpha=0.8)\n",
    "\n",
    "plt.xlabel('Metrics')\n",
    "plt.ylabel('Score')\n",
    "plt.title('Performance Comparison')\n",
    "plt.xticks(x, metrics, rotation=45)\n",
    "plt.legend()\n",
    "plt.grid(axis='y', alpha=0.3)\n",
    "\n",
    "# Subplot 2: Feature importance\n",
    "plt.subplot(2, 2, 2)\n",
    "plt.bar(feature_names, importances)\n",
    "plt.xlabel('Features')\n",
    "plt.ylabel('Importance')\n",
    "plt.title('Random Forest Feature Importance')\n",
    "plt.xticks(rotation=45)\n",
    "plt.grid(axis='y', alpha=0.3)\n",
    "\n",
    "# Subplot 3: Accuracy comparison\n",
    "plt.subplot(2, 2, 3)\n",
    "classifiers = ['Random Forest', 'Decision Tree', 'Naive Bayes']\n",
    "accuracies = [rf_accuracy, dt_accuracy, nb_accuracy]\n",
    "colors = ['green', 'blue', 'orange']\n",
    "\n",
    "bars = plt.bar(classifiers, accuracies, color=colors, alpha=0.7)\n",
    "plt.ylabel('Accuracy')\n",
    "plt.title('Accuracy Comparison')\n",
    "plt.ylim(0, 1.05)\n",
    "\n",
    "# Add value labels on bars\n",
    "for bar, acc in zip(bars, accuracies):\n",
    "    plt.text(bar.get_x() + bar.get_width()/2, bar.get_height() + 0.01, \n",
    "             f'{acc:.3f}', ha='center', va='bottom')\n",
    "\n",
    "plt.tight_layout()\n",
    "plt.show()"
   ]
  },
  {
   "cell_type": "markdown",
   "id": "ed2070bf",
   "metadata": {},
   "source": [
    "## 8. Conclusions\n",
    "\n",
    "### Assignment Requirements Completed:\n",
    "**(a) Random Forest Performance:** Successfully implemented Random Forest classifier achieving 96.72% accuracy with comprehensive quantitative parameters.\n",
    "\n",
    "**(b) Comparative Analysis:** Thorough comparison of Random Forest with Decision Tree and Naive Bayes classifiers across all performance metrics.\n",
    "\n",
    "### Key Findings:\n",
    "- **Dataset:** 1,728 car evaluation records with 6 categorical features\n",
    "- **Target Classes:** 4 categories (unacc, acc, good, vgood)\n",
    "- **Surprising Result:** Decision Tree outperformed Random Forest in this specific dataset\n",
    "\n",
    "### Actual Performance Results:\n",
    "| Classifier | Accuracy | Precision | Recall | F1-Score |\n",
    "|------------|----------|-----------|--------|---------|\n",
    "| **Decision Tree** | **97.88%** | **0.9798** | **0.9788** | **0.9790** |\n",
    "| Random Forest | 96.72% | 0.9674 | 0.9672 | 0.9673 |\n",
    "| Naive Bayes | 61.46% | 0.6967 | 0.6146 | 0.6146 |\n",
    "\n",
    "### Unexpected Observation - Decision Tree Superiority:\n",
    "**Decision Tree achieved higher performance than Random Forest** by 1.16% accuracy difference, which contradicts the typical expectation that ensemble methods outperform single models.\n",
    "\n",
    "### Analysis of Results:\n",
    "\n",
    "**1. Why Decision Tree Outperformed Random Forest:**\n",
    "- **Dataset Size:** 1,728 samples may be insufficient to fully benefit from ensemble averaging\n",
    "- **Low Noise:** Clean categorical features with clear decision boundaries favor single trees\n",
    "- **Feature Simplicity:** Only 6 categorical features create straightforward decision rules\n",
    "- **Overfitting Control:** The dataset's clear patterns don't require Random Forest's variance reduction\n",
    "\n",
    "**2. Random Forest Performance (96.72%):**\n",
    "- **Still Excellent:** Nearly 97% accuracy demonstrates strong performance\n",
    "- **Feature Importance:** Revealed safety (27.69%) and persons (22.35%) as most critical factors\n",
    "- **Ensemble Benefit:** More robust predictions despite slightly lower accuracy\n",
    "- **Generalization:** Likely better performance on unseen data due to reduced overfitting\n",
    "\n",
    "**3. Naive Bayes Limitations (61.46%):**\n",
    "- **Independence Violation:** Car evaluation features are highly interdependent\n",
    "- **Categorical Challenge:** Struggles with multi-class categorical relationships\n",
    "- **Performance Gap:** 35.26% lower accuracy than Random Forest\n",
    "\n",
    "### Feature Importance Insights (Random Forest):\n",
    "1. **Safety (27.69%):** Most critical factor for car evaluation\n",
    "2. **Persons (22.35%):** Capacity significantly influences acceptability\n",
    "3. **Buying (18.36%):** Purchase price importance\n",
    "4. **Maintenance (15.92%):** Ongoing cost considerations\n",
    "5. **Luggage Boot (8.96%):** Storage capacity factor\n",
    "6. **Doors (6.72%):** Least influential feature\n",
    "\n",
    "### Practical Implications:\n",
    "1. **Model Selection:** For this specific dataset, Decision Tree provides optimal performance\n",
    "2. **Ensemble Value:** Random Forest offers better robustness and interpretability through feature importance\n",
    "3. **Production Systems:** Decision Tree for maximum accuracy, Random Forest for stability\n",
    "4. **Feature Engineering:** Focus on safety and capacity features for car evaluation systems\n",
    "\n",
    "### Real-World Lessons:\n",
    "- **Context Matters:** Dataset characteristics determine optimal algorithm choice\n",
    "- **Ensemble ≠ Always Better:** Simple models can outperform complex ensembles on clean data\n",
    "- **Multiple Metrics:** Both models excel with >96% accuracy, choice depends on specific requirements\n",
    "- **Feature Insights:** Random Forest's feature importance provides valuable domain knowledge\n",
    "\n",
    "### Final Recommendation:\n",
    "While **Decision Tree achieved highest accuracy (97.88%)**, **Random Forest (96.72%) offers better interpretability through feature importance and likely superior generalization**. For production car evaluation systems, consider Decision Tree for maximum accuracy or Random Forest for robustness and insights.\n",
    "\n",
    "✅ **Assignment 8 completed successfully with realistic analysis of unexpected but valid results!**"
   ]
  }
 ],
 "metadata": {
  "kernelspec": {
   "display_name": ".venv",
   "language": "python",
   "name": "python3"
  },
  "language_info": {
   "codemirror_mode": {
    "name": "ipython",
    "version": 3
   },
   "file_extension": ".py",
   "mimetype": "text/x-python",
   "name": "python",
   "nbconvert_exporter": "python",
   "pygments_lexer": "ipython3",
   "version": "3.13.5"
  }
 },
 "nbformat": 4,
 "nbformat_minor": 5
}

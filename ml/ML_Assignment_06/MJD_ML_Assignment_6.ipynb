{
 "cells": [
  {
   "cell_type": "markdown",
   "id": "1e344de4",
   "metadata": {},
   "source": [
    "# ML Assignment 6: Naive Bayes Feature Analysis on Gender Classification Dataset\n",
    "\n",
    "**AICTE Faculty ID:** 1-3241967546  \n",
    "**Faculty Name:** Milav Jayeshkumar Dabgar\n",
    "\n",
    "---\n",
    "\n",
    "## Objective\n",
    "Implement and compare Naive Bayes classifiers using different feature combinations on gender classification dataset.\n",
    "\n",
    "## Assignment Tasks:\n",
    "1. Build Naive Bayes classifier for categorical features only\n",
    "2. Build Naive Bayes classifier for continuous features only  \n",
    "3. Build Naive Bayes classifier for all features combined\n",
    "4. Compare performance across different feature types\n",
    "5. Generate comprehensive analysis and conclusions"
   ]
  },
  {
   "cell_type": "markdown",
   "id": "4d25fb54",
   "metadata": {},
   "source": [
    "## 1. Import Libraries and Dataset"
   ]
  },
  {
   "cell_type": "code",
   "execution_count": 1,
   "id": "4f26ee98",
   "metadata": {},
   "outputs": [
    {
     "name": "stdout",
     "output_type": "stream",
     "text": [
      "Dataset shape: (5001, 8)\n",
      "   long_hair  forehead_width_cm  forehead_height_cm  nose_wide  nose_long  \\\n",
      "0          1               11.8                 6.1          1          0   \n",
      "1          0               14.0                 5.4          0          0   \n",
      "2          0               11.8                 6.3          1          1   \n",
      "3          0               14.4                 6.1          0          1   \n",
      "4          1               13.5                 5.9          0          0   \n",
      "\n",
      "   lips_thin  distance_nose_to_lip_long  gender  \n",
      "0          1                          1    Male  \n",
      "1          1                          0  Female  \n",
      "2          1                          1    Male  \n",
      "3          1                          1    Male  \n",
      "4          0                          0  Female  \n"
     ]
    }
   ],
   "source": [
    "import pandas as pd\n",
    "from sklearn.model_selection import train_test_split\n",
    "from sklearn.naive_bayes import GaussianNB, CategoricalNB\n",
    "from sklearn.preprocessing import LabelEncoder\n",
    "from sklearn.metrics import accuracy_score, precision_score, recall_score, f1_score\n",
    "\n",
    "# Load dataset\n",
    "data = pd.read_csv('gender_classification_v7.csv')\n",
    "print(f\"Dataset shape: {data.shape}\")\n",
    "print(data.head())"
   ]
  },
  {
   "cell_type": "markdown",
   "id": "eab659e1",
   "metadata": {},
   "source": [
    "## 2. Feature Engineering"
   ]
  },
  {
   "cell_type": "code",
   "execution_count": 2,
   "id": "cd622758",
   "metadata": {},
   "outputs": [
    {
     "name": "stdout",
     "output_type": "stream",
     "text": [
      "Categorical features: ['long_hair', 'nose_wide', 'nose_long', 'lips_thin', 'distance_nose_to_lip_long']\n",
      "Continuous features: ['forehead_width_cm', 'forehead_height_cm']\n",
      "Target encoding: {'Female': 0, 'Male': 1}\n"
     ]
    }
   ],
   "source": [
    "# Define feature types\n",
    "categorical_features = ['long_hair', 'nose_wide', 'nose_long', 'lips_thin', 'distance_nose_to_lip_long']\n",
    "continuous_features = ['forehead_width_cm', 'forehead_height_cm']\n",
    "\n",
    "# Prepare feature sets\n",
    "X_categorical = data[categorical_features]\n",
    "X_continuous = data[continuous_features]\n",
    "X_all = data[categorical_features + continuous_features]\n",
    "\n",
    "# Encode target\n",
    "le = LabelEncoder()\n",
    "y = le.fit_transform(data['gender'])\n",
    "\n",
    "print(f\"Categorical features: {categorical_features}\")\n",
    "print(f\"Continuous features: {continuous_features}\")\n",
    "print(f\"Target encoding: {dict(zip(le.classes_, [0, 1]))}\")"
   ]
  },
  {
   "cell_type": "markdown",
   "id": "bbcf646d",
   "metadata": {},
   "source": [
    "## 3. (a) NB Classifier - Categorical Features Only"
   ]
  },
  {
   "cell_type": "code",
   "execution_count": 3,
   "id": "e2af1000",
   "metadata": {},
   "outputs": [
    {
     "name": "stdout",
     "output_type": "stream",
     "text": [
      "=== CATEGORICAL FEATURES ONLY ===\n",
      "Accuracy:  0.9554\n",
      "Precision: 0.9449\n",
      "Recall:    0.9685\n",
      "F1-Score:  0.9566\n"
     ]
    }
   ],
   "source": [
    "# Split data\n",
    "X_cat_train, X_cat_test, y_cat_train, y_cat_test = train_test_split(\n",
    "    X_categorical, y, test_size=0.3, random_state=42\n",
    ")\n",
    "\n",
    "# Train Categorical Naive Bayes\n",
    "nb_cat = CategoricalNB()\n",
    "nb_cat.fit(X_cat_train, y_cat_train)\n",
    "y_cat_pred = nb_cat.predict(X_cat_test)\n",
    "\n",
    "# Calculate metrics\n",
    "cat_accuracy = accuracy_score(y_cat_test, y_cat_pred)\n",
    "cat_precision = precision_score(y_cat_test, y_cat_pred)\n",
    "cat_recall = recall_score(y_cat_test, y_cat_pred)\n",
    "cat_f1 = f1_score(y_cat_test, y_cat_pred)\n",
    "\n",
    "print(\"=== CATEGORICAL FEATURES ONLY ===\")\n",
    "print(f\"Accuracy:  {cat_accuracy:.4f}\")\n",
    "print(f\"Precision: {cat_precision:.4f}\")\n",
    "print(f\"Recall:    {cat_recall:.4f}\")\n",
    "print(f\"F1-Score:  {cat_f1:.4f}\")"
   ]
  },
  {
   "cell_type": "markdown",
   "id": "caed158a",
   "metadata": {},
   "source": [
    "## 4. (b) NB Classifier - Continuous Features Only"
   ]
  },
  {
   "cell_type": "code",
   "execution_count": 4,
   "id": "9e47c332",
   "metadata": {},
   "outputs": [
    {
     "name": "stdout",
     "output_type": "stream",
     "text": [
      "=== CONTINUOUS FEATURES ONLY ===\n",
      "Accuracy:  0.6995\n",
      "Precision: 0.7352\n",
      "Recall:    0.6378\n",
      "F1-Score:  0.6831\n"
     ]
    }
   ],
   "source": [
    "# Split data\n",
    "X_cont_train, X_cont_test, y_cont_train, y_cont_test = train_test_split(\n",
    "    X_continuous, y, test_size=0.3, random_state=42\n",
    ")\n",
    "\n",
    "# Train Gaussian Naive Bayes\n",
    "nb_cont = GaussianNB()\n",
    "nb_cont.fit(X_cont_train, y_cont_train)\n",
    "y_cont_pred = nb_cont.predict(X_cont_test)\n",
    "\n",
    "# Calculate metrics\n",
    "cont_accuracy = accuracy_score(y_cont_test, y_cont_pred)\n",
    "cont_precision = precision_score(y_cont_test, y_cont_pred)\n",
    "cont_recall = recall_score(y_cont_test, y_cont_pred)\n",
    "cont_f1 = f1_score(y_cont_test, y_cont_pred)\n",
    "\n",
    "print(\"=== CONTINUOUS FEATURES ONLY ===\")\n",
    "print(f\"Accuracy:  {cont_accuracy:.4f}\")\n",
    "print(f\"Precision: {cont_precision:.4f}\")\n",
    "print(f\"Recall:    {cont_recall:.4f}\")\n",
    "print(f\"F1-Score:  {cont_f1:.4f}\")"
   ]
  },
  {
   "cell_type": "markdown",
   "id": "fb37c4dc",
   "metadata": {},
   "source": [
    "## 5. (c) NB Classifier - All Features"
   ]
  },
  {
   "cell_type": "code",
   "execution_count": 5,
   "id": "4c9fc626",
   "metadata": {},
   "outputs": [
    {
     "name": "stdout",
     "output_type": "stream",
     "text": [
      "=== ALL FEATURES ===\n",
      "Accuracy:  0.9654\n",
      "Precision: 0.9683\n",
      "Recall:    0.9633\n",
      "F1-Score:  0.9658\n"
     ]
    }
   ],
   "source": [
    "# Split data\n",
    "X_all_train, X_all_test, y_all_train, y_all_test = train_test_split(\n",
    "    X_all, y, test_size=0.3, random_state=42\n",
    ")\n",
    "\n",
    "# Train Gaussian Naive Bayes\n",
    "nb_all = GaussianNB()\n",
    "nb_all.fit(X_all_train, y_all_train)\n",
    "y_all_pred = nb_all.predict(X_all_test)\n",
    "\n",
    "# Calculate metrics\n",
    "all_accuracy = accuracy_score(y_all_test, y_all_pred)\n",
    "all_precision = precision_score(y_all_test, y_all_pred)\n",
    "all_recall = recall_score(y_all_test, y_all_pred)\n",
    "all_f1 = f1_score(y_all_test, y_all_pred)\n",
    "\n",
    "print(\"=== ALL FEATURES ===\")\n",
    "print(f\"Accuracy:  {all_accuracy:.4f}\")\n",
    "print(f\"Precision: {all_precision:.4f}\")\n",
    "print(f\"Recall:    {all_recall:.4f}\")\n",
    "print(f\"F1-Score:  {all_f1:.4f}\")"
   ]
  },
  {
   "cell_type": "markdown",
   "id": "9d675a08",
   "metadata": {},
   "source": [
    "## 6. Performance Comparison"
   ]
  },
  {
   "cell_type": "code",
   "execution_count": 6,
   "id": "3182d64c",
   "metadata": {},
   "outputs": [
    {
     "name": "stdout",
     "output_type": "stream",
     "text": [
      "=== COMPARISON RESULTS ===\n",
      "           Model  Accuracy  Precision  Recall  F1-Score\n",
      "Categorical Only    0.9554     0.9449  0.9685    0.9566\n",
      " Continuous Only    0.6995     0.7352  0.6378    0.6831\n",
      "    All Features    0.9654     0.9683  0.9633    0.9658\n",
      "\n",
      "Best Model: All Features with 0.9654 accuracy\n"
     ]
    }
   ],
   "source": [
    "# Create comparison table\n",
    "results = pd.DataFrame({\n",
    "    'Model': ['Categorical Only', 'Continuous Only', 'All Features'],\n",
    "    'Accuracy': [cat_accuracy, cont_accuracy, all_accuracy],\n",
    "    'Precision': [cat_precision, cont_precision, all_precision],\n",
    "    'Recall': [cat_recall, cont_recall, all_recall],\n",
    "    'F1-Score': [cat_f1, cont_f1, all_f1]\n",
    "})\n",
    "\n",
    "results = results.round(4)\n",
    "print(\"=== COMPARISON RESULTS ===\")\n",
    "print(results.to_string(index=False))\n",
    "\n",
    "# Find best model\n",
    "best_idx = results['Accuracy'].idxmax()\n",
    "best_model = results.loc[best_idx, 'Model']\n",
    "best_accuracy = results.loc[best_idx, 'Accuracy']\n",
    "\n",
    "print(f\"\\nBest Model: {best_model} with {best_accuracy:.4f} accuracy\")"
   ]
  },
  {
   "cell_type": "code",
   "execution_count": 7,
   "id": "fa1d66e4",
   "metadata": {},
   "outputs": [
    {
     "data": {
      "image/png": "[encoded data removed]",
      "text/plain": [
       "<Figure size 1200x400 with 2 Axes>"
      ]
     },
     "metadata": {},
     "output_type": "display_data"
    }
   ],
   "source": [
    "# Simple visualizations\n",
    "import matplotlib.pyplot as plt\n",
    "\n",
    "plt.figure(figsize=(12, 4))\n",
    "\n",
    "# Accuracy comparison\n",
    "plt.subplot(1, 2, 1)\n",
    "plt.bar(results['Model'], results['Accuracy'], color=['skyblue', 'lightcoral', 'lightgreen'], alpha=0.8)\n",
    "plt.title('Accuracy Comparison')\n",
    "plt.ylabel('Accuracy')\n",
    "plt.ylim(0, 1)\n",
    "for i, v in enumerate(results['Accuracy']):\n",
    "    plt.text(i, v + 0.02, f'{v:.3f}', ha='center', fontweight='bold')\n",
    "plt.xticks(rotation=45)\n",
    "\n",
    "# All metrics comparison\n",
    "plt.subplot(1, 2, 2)\n",
    "metrics = ['Accuracy', 'Precision', 'Recall', 'F1-Score']\n",
    "x_pos = range(len(metrics))\n",
    "width = 0.25\n",
    "\n",
    "for i, model in enumerate(results['Model']):\n",
    "    values = [results.iloc[i]['Accuracy'], results.iloc[i]['Precision'], \n",
    "              results.iloc[i]['Recall'], results.iloc[i]['F1-Score']]\n",
    "    plt.bar([x + i*width for x in x_pos], values, width, \n",
    "            label=model, alpha=0.8)\n",
    "\n",
    "plt.xlabel('Metrics')\n",
    "plt.ylabel('Score')\n",
    "plt.title('All Metrics Comparison')\n",
    "plt.xticks([x + width for x in x_pos], metrics)\n",
    "plt.legend()\n",
    "plt.grid(axis='y', alpha=0.3)\n",
    "\n",
    "plt.tight_layout()\n",
    "plt.show()"
   ]
  },
  {
   "cell_type": "markdown",
   "id": "d040a5b7",
   "metadata": {},
   "source": [
    "## 7. Conclusion\n",
    "\n",
    "### Assignment Requirements Completed:\n",
    "**(a) Categorical Features NB:** CategoricalNB achieved **95.54% accuracy** with 5 binary features  \n",
    "**(b) Continuous Features NB:** GaussianNB achieved **69.95% accuracy** with 2 numerical features  \n",
    "**(c) All Features NB:** GaussianNB achieved **96.54% accuracy** with all 7 features combined\n",
    "\n",
    "### Actual Performance Results:\n",
    "| Model | Accuracy | Precision | Recall | F1-Score |\n",
    "|-------|----------|-----------|--------|----------|\n",
    "| **All Features** | **96.54%** | **96.83%** | **96.33%** | **96.58%** |\n",
    "| Categorical Only | 95.54% | 94.49% | 96.85% | 95.66% |\n",
    "| Continuous Only | 69.95% | 73.52% | 63.78% | 68.31% |\n",
    "\n",
    "### Key Observations:\n",
    "\n",
    "**1. Feature Type Effectiveness:**\n",
    "- **Categorical features (95.54%)** are highly predictive for gender classification\n",
    "- **Continuous features (69.95%)** provide limited discriminative power alone\n",
    "- **Combined features (96.54%)** achieve the best overall performance\n",
    "\n",
    "**2. Performance Analysis:**\n",
    "- **All Features vs Categorical:** +1.00% accuracy improvement\n",
    "- **All Features vs Continuous:** +26.59% accuracy improvement  \n",
    "- **Categorical vs Continuous:** +25.59% accuracy difference\n",
    "\n",
    "**3. Model Insights:**\n",
    "- **CategoricalNB** perfectly suited for binary gender traits (hair, nose, lips features)\n",
    "- **GaussianNB** handles forehead measurements but with limited predictive value\n",
    "- **Combined approach** leverages both behavioral traits and physical measurements\n",
    "\n",
    "**4. Real-World Implications:**\n",
    "- **Primary predictors:** Categorical features (hair length, facial features) are most reliable\n",
    "- **Secondary predictors:** Forehead dimensions provide supplementary information\n",
    "- **Optimal strategy:** Use all available features for maximum accuracy\n",
    "\n",
    "### Final Recommendation:\n",
    "**All Features model (96.54% accuracy) is the best choice**, providing superior performance by combining categorical traits with continuous measurements. However, if simplicity is preferred, the Categorical-only model (95.54%) offers nearly comparable performance with just binary features.\n",
    "\n",
    "✅ **Assignment completed successfully with excellent performance across all models!**"
   ]
  }
 ],
 "metadata": {
  "kernelspec": {
   "display_name": ".venv",
   "language": "python",
   "name": "python3"
  },
  "language_info": {
   "codemirror_mode": {
    "name": "ipython",
    "version": 3
   },
   "file_extension": ".py",
   "mimetype": "text/x-python",
   "name": "python",
   "nbconvert_exporter": "python",
   "pygments_lexer": "ipython3",
   "version": "3.13.5"
  }
 },
 "nbformat": 4,
 "nbformat_minor": 5
}

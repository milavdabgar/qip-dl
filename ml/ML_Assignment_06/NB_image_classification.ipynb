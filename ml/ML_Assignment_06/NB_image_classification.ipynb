{
 "cells": [
  {
   "cell_type": "code",
   "execution_count": null,
   "id": "8cbd1ae7",
   "metadata": {},
   "outputs": [],
   "source": [
    "# 1. Import libraries\n",
    "import numpy as np\n",
    "import matplotlib.pyplot as plt\n",
    "from sklearn.datasets import fetch_openml\n",
    "from sklearn.model_selection import train_test_split\n",
    "from sklearn.naive_bayes import GaussianNB\n",
    "from sklearn.naive_bayes import MultinomialNB\n",
    "from sklearn.metrics import accuracy_score, classification_report, confusion_matrix\n",
    "\n",
    "\n"
   ]
  },
  {
   "cell_type": "code",
   "execution_count": 9,
   "id": "2a002f37",
   "metadata": {},
   "outputs": [
    {
     "name": "stdout",
     "output_type": "stream",
     "text": [
      "Downloading MNIST dataset...\n"
     ]
    },
    {
     "name": "stderr",
     "output_type": "stream",
     "text": [
      "c:\\Users\\anjal\\anaconda3\\envs\\Anjali\\Lib\\site-packages\\sklearn\\datasets\\_openml.py:1002: FutureWarning: The default value of `parser` will change from `'liac-arff'` to `'auto'` in 1.4. You can set `parser='auto'` to silence this warning. Therefore, an `ImportError` will be raised from 1.4 if the dataset is dense and pandas is not installed. Note that the pandas parser may return different data types. See the Notes Section in fetch_openml's API doc for details.\n",
      "  warn(\n"
     ]
    }
   ],
   "source": [
    "# 2. Load MNIST dataset (70,000 images)\n",
    "print(\"Downloading MNIST dataset...\")\n",
    "X, y = fetch_openml('mnist_784', version=1, return_X_y=True, as_frame=False)\n",
    "#as_frame=False : Loads the data as a NumPy array, not a Pandas DataFrame (faster for ML).\n"
   ]
  },
  {
   "cell_type": "code",
   "execution_count": 10,
   "id": "f5a564ff",
   "metadata": {},
   "outputs": [
    {
     "name": "stdout",
     "output_type": "stream",
     "text": [
      "X shape: (70000, 784)\n"
     ]
    }
   ],
   "source": [
    "print(\"X shape:\", X.shape) \n",
    "#70000 → total images (60,000 training + 10,000 testing in standard MNIST split).\n",
    "#784 → flattened pixels."
   ]
  },
  {
   "cell_type": "code",
   "execution_count": 11,
   "id": "6c89173c",
   "metadata": {},
   "outputs": [
    {
     "name": "stdout",
     "output_type": "stream",
     "text": [
      "(28, 28)\n"
     ]
    }
   ],
   "source": [
    "image = X[0].reshape(28, 28)\n",
    "print(image.shape)"
   ]
  },
  {
   "cell_type": "code",
   "execution_count": 12,
   "id": "bb0c8d46",
   "metadata": {},
   "outputs": [
    {
     "data": {
      "image/png": "[encoded data removed]",
      "text/plain": [
       "<Figure size 600x600 with 9 Axes>"
      ]
     },
     "metadata": {},
     "output_type": "display_data"
    }
   ],
   "source": [
    "plt.figure(figsize=(6, 6))\n",
    "for i in range(9):\n",
    "    img = X[i].reshape(28, 28)  # Reshape 784 pixels to 28x28\n",
    "    plt.subplot(3, 3, i + 1)\n",
    "    plt.imshow(img, cmap='gray')\n",
    "    plt.title(f\"Label: {y[i]}\")\n",
    "    plt.axis('off')\n",
    "plt.suptitle(\"Sample MNIST Images\", fontsize=14)\n",
    "plt.show()"
   ]
  },
  {
   "cell_type": "code",
   "execution_count": 13,
   "id": "39e4e71e",
   "metadata": {},
   "outputs": [],
   "source": [
    "# Normalize pixel values (0-255 → 0-1 range)\n",
    "X = X / 255.0\n",
    "\n"
   ]
  },
  {
   "cell_type": "code",
   "execution_count": 14,
   "id": "fb5f1512",
   "metadata": {},
   "outputs": [],
   "source": [
    "# 3. Split into training and testing sets\n",
    "X_train, X_test, y_train, y_test = train_test_split(X, y, test_size=0.2, random_state=42)\n",
    "\n"
   ]
  },
  {
   "cell_type": "code",
   "execution_count": 25,
   "id": "774727fb",
   "metadata": {},
   "outputs": [
    {
     "name": "stdout",
     "output_type": "stream",
     "text": [
      "Training Gaussian Naive Bayes...\n"
     ]
    },
    {
     "data": {
      "text/html": [
       "<style>#sk-container-id-3 {color: black;}#sk-container-id-3 pre{padding: 0;}#sk-container-id-3 div.sk-toggleable {background-color: white;}#sk-container-id-3 label.sk-toggleable__label {cursor: pointer;display: block;width: 100%;margin-bottom: 0;padding: 0.3em;box-sizing: border-box;text-align: center;}#sk-container-id-3 label.sk-toggleable__label-arrow:before {content: \"▸\";float: left;margin-right: 0.25em;color: #696969;}#sk-container-id-3 label.sk-toggleable__label-arrow:hover:before {color: black;}#sk-container-id-3 div.sk-estimator:hover label.sk-toggleable__label-arrow:before {color: black;}#sk-container-id-3 div.sk-toggleable__content {max-height: 0;max-width: 0;overflow: hidden;text-align: left;background-color: #f0f8ff;}#sk-container-id-3 div.sk-toggleable__content pre {margin: 0.2em;color: black;border-radius: 0.25em;background-color: #f0f8ff;}#sk-container-id-3 input.sk-toggleable__control:checked~div.sk-toggleable__content {max-height: 200px;max-width: 100%;overflow: auto;}#sk-container-id-3 input.sk-toggleable__control:checked~label.sk-toggleable__label-arrow:before {content: \"▾\";}#sk-container-id-3 div.sk-estimator input.sk-toggleable__control:checked~label.sk-toggleable__label {background-color: #d4ebff;}#sk-container-id-3 div.sk-label input.sk-toggleable__control:checked~label.sk-toggleable__label {background-color: #d4ebff;}#sk-container-id-3 input.sk-hidden--visually {border: 0;clip: rect(1px 1px 1px 1px);clip: rect(1px, 1px, 1px, 1px);height: 1px;margin: -1px;overflow: hidden;padding: 0;position: absolute;width: 1px;}#sk-container-id-3 div.sk-estimator {font-family: monospace;background-color: #f0f8ff;border: 1px dotted black;border-radius: 0.25em;box-sizing: border-box;margin-bottom: 0.5em;}#sk-container-id-3 div.sk-estimator:hover {background-color: #d4ebff;}#sk-container-id-3 div.sk-parallel-item::after {content: \"\";width: 100%;border-bottom: 1px solid gray;flex-grow: 1;}#sk-container-id-3 div.sk-label:hover label.sk-toggleable__label {background-color: #d4ebff;}#sk-container-id-3 div.sk-serial::before {content: \"\";position: absolute;border-left: 1px solid gray;box-sizing: border-box;top: 0;bottom: 0;left: 50%;z-index: 0;}#sk-container-id-3 div.sk-serial {display: flex;flex-direction: column;align-items: center;background-color: white;padding-right: 0.2em;padding-left: 0.2em;position: relative;}#sk-container-id-3 div.sk-item {position: relative;z-index: 1;}#sk-container-id-3 div.sk-parallel {display: flex;align-items: stretch;justify-content: center;background-color: white;position: relative;}#sk-container-id-3 div.sk-item::before, #sk-container-id-3 div.sk-parallel-item::before {content: \"\";position: absolute;border-left: 1px solid gray;box-sizing: border-box;top: 0;bottom: 0;left: 50%;z-index: -1;}#sk-container-id-3 div.sk-parallel-item {display: flex;flex-direction: column;z-index: 1;position: relative;background-color: white;}#sk-container-id-3 div.sk-parallel-item:first-child::after {align-self: flex-end;width: 50%;}#sk-container-id-3 div.sk-parallel-item:last-child::after {align-self: flex-start;width: 50%;}#sk-container-id-3 div.sk-parallel-item:only-child::after {width: 0;}#sk-container-id-3 div.sk-dashed-wrapped {border: 1px dashed gray;margin: 0 0.4em 0.5em 0.4em;box-sizing: border-box;padding-bottom: 0.4em;background-color: white;}#sk-container-id-3 div.sk-label label {font-family: monospace;font-weight: bold;display: inline-block;line-height: 1.2em;}#sk-container-id-3 div.sk-label-container {text-align: center;}#sk-container-id-3 div.sk-container {/* jupyter's `normalize.less` sets `[hidden] { display: none; }` but bootstrap.min.css set `[hidden] { display: none !important; }` so we also need the `!important` here to be able to override the default hidden behavior on the sphinx rendered scikit-learn.org. See: https://github.com/scikit-learn/scikit-learn/issues/21755 */display: inline-block !important;position: relative;}#sk-container-id-3 div.sk-text-repr-fallback {display: none;}</style><div id=\"sk-container-id-3\" class=\"sk-top-container\"><div class=\"sk-text-repr-fallback\"><pre>MultinomialNB()</pre><b>In a Jupyter environment, please rerun this cell to show the HTML representation or trust the notebook. <br />On GitHub, the HTML representation is unable to render, please try loading this page with nbviewer.org.</b></div><div class=\"sk-container\" hidden><div class=\"sk-item\"><div class=\"sk-estimator sk-toggleable\"><input class=\"sk-toggleable__control sk-hidden--visually\" id=\"sk-estimator-id-3\" type=\"checkbox\" checked><label for=\"sk-estimator-id-3\" class=\"sk-toggleable__label sk-toggleable__label-arrow\">MultinomialNB</label><div class=\"sk-toggleable__content\"><pre>MultinomialNB()</pre></div></div></div></div></div>"
      ],
      "text/plain": [
       "MultinomialNB()"
      ]
     },
     "execution_count": 25,
     "metadata": {},
     "output_type": "execute_result"
    }
   ],
   "source": [
    "# 4. Train Gaussian Naive Bayes model\n",
    "print(\"Training Gaussian Naive Bayes...\")\n",
    "model = MultinomialNB()\n",
    "model.fit(X_train, y_train)\n",
    "\n"
   ]
  },
  {
   "cell_type": "code",
   "execution_count": 26,
   "id": "805115ce",
   "metadata": {},
   "outputs": [],
   "source": [
    "# 5. Predict on test data\n",
    "y_pred = model.predict(X_test)\n",
    "\n"
   ]
  },
  {
   "cell_type": "code",
   "execution_count": 27,
   "id": "cba0ab1a",
   "metadata": {},
   "outputs": [
    {
     "name": "stdout",
     "output_type": "stream",
     "text": [
      "\n",
      "Accuracy: 0.8280714285714286\n",
      "\n",
      "Classification Report:\n",
      "               precision    recall  f1-score   support\n",
      "\n",
      "           0       0.93      0.90      0.91      1343\n",
      "           1       0.87      0.94      0.90      1600\n",
      "           2       0.88      0.82      0.85      1380\n",
      "           3       0.80      0.82      0.81      1433\n",
      "           4       0.83      0.74      0.78      1295\n",
      "           5       0.86      0.67      0.75      1273\n",
      "           6       0.88      0.91      0.89      1396\n",
      "           7       0.94      0.83      0.88      1503\n",
      "           8       0.67      0.78      0.72      1357\n",
      "           9       0.70      0.84      0.76      1420\n",
      "\n",
      "    accuracy                           0.83     14000\n",
      "   macro avg       0.83      0.82      0.83     14000\n",
      "weighted avg       0.84      0.83      0.83     14000\n",
      "\n",
      "\n",
      "Confusion Matrix:\n",
      " [[1215    1    8    4    2   21   29    1   60    2]\n",
      " [   0 1498    6   13    1   10    5    1   63    3]\n",
      " [  13   25 1135   31   18    4   62   10   78    4]\n",
      " [   4   24   69 1174    2   24   12   12   63   49]\n",
      " [   5    2    8    4  957    5   30    5   43  236]\n",
      " [  34   15   10  161   29  853   28    4  104   35]\n",
      " [  16   33   20    1   12   26 1276    0   12    0]\n",
      " [  15   25   10    5   24    0    1 1242   47  134]\n",
      " [   4   78   22   62   12   49   14    6 1057   53]\n",
      " [   7   15    8   12   93    5    0   38   56 1186]]\n"
     ]
    }
   ],
   "source": [
    "# 6. Evaluate performance\n",
    "print(\"\\nAccuracy:\", accuracy_score(y_test, y_pred))\n",
    "print(\"\\nClassification Report:\\n\", classification_report(y_test, y_pred))\n",
    "print(\"\\nConfusion Matrix:\\n\", confusion_matrix(y_test, y_pred))"
   ]
  },
  {
   "cell_type": "code",
   "execution_count": 19,
   "id": "25630578",
   "metadata": {},
   "outputs": [
    {
     "data": {
      "image/png": "[encoded data removed]",
      "text/plain": [
       "<Figure size 300x300 with 1 Axes>"
      ]
     },
     "metadata": {},
     "output_type": "display_data"
    }
   ],
   "source": [
    "# ✅ 7. Predict a single test sample and show it\n",
    "sample_index = 9  # change this index to see different test samples\n",
    "sample_image = X_test[sample_index].reshape(28, 28)\n",
    "predicted_label = model.predict([X_test[sample_index]])[0]\n",
    "\n",
    "plt.figure(figsize=(3, 3))\n",
    "plt.imshow(sample_image, cmap='gray')\n",
    "plt.title(f\"Predicted Label: {predicted_label}\\nTrue Label: {y_test[sample_index]}\")\n",
    "plt.axis('off')\n",
    "plt.show()"
   ]
  },
  {
   "cell_type": "code",
   "execution_count": 20,
   "id": "f52f8880",
   "metadata": {},
   "outputs": [
    {
     "data": {
      "image/png": "[encoded data removed]",
      "text/plain": [
       "<Figure size 600x600 with 9 Axes>"
      ]
     },
     "metadata": {},
     "output_type": "display_data"
    }
   ],
   "source": [
    "# ✅ 7. Predict 9 random test samples\n",
    "indices = np.random.choice(len(X_test), 9, replace=False)\n",
    "\n",
    "plt.figure(figsize=(6, 6))\n",
    "for i, idx in enumerate(indices):\n",
    "    img = X_test[idx].reshape(28, 28)\n",
    "    pred_label = model.predict([X_test[idx]])[0]\n",
    "    true_label = y_test[idx]\n",
    "    plt.subplot(3, 3, i + 1)\n",
    "    plt.imshow(img, cmap='gray')\n",
    "    plt.title(f\"P:{pred_label} | T:{true_label}\", fontsize=10)\n",
    "    plt.axis('off')\n",
    "\n",
    "plt.suptitle(\"Random Test Predictions\\n(P = Predicted, T = True)\", fontsize=14)\n",
    "plt.show()"
   ]
  },
  {
   "cell_type": "code",
   "execution_count": 30,
   "id": "a6d9bd93",
   "metadata": {},
   "outputs": [
    {
     "name": "stdout",
     "output_type": "stream",
     "text": [
      "Training model... (This may take some time)\n"
     ]
    },
    {
     "name": "stderr",
     "output_type": "stream",
     "text": [
      "c:\\Users\\anjal\\anaconda3\\envs\\Anjali\\Lib\\site-packages\\sklearn\\datasets\\_openml.py:1002: FutureWarning: The default value of `parser` will change from `'liac-arff'` to `'auto'` in 1.4. You can set `parser='auto'` to silence this warning. Therefore, an `ImportError` will be raised from 1.4 if the dataset is dense and pandas is not installed. Note that the pandas parser may return different data types. See the Notes Section in fetch_openml's API doc for details.\n",
      "  warn(\n"
     ]
    },
    {
     "name": "stdout",
     "output_type": "stream",
     "text": [
      "Model trained. Test Accuracy: 0.8280714285714286\n"
     ]
    }
   ],
   "source": [
    "import cv2\n",
    "import numpy as np\n",
    "from sklearn.datasets import fetch_openml\n",
    "from sklearn.model_selection import train_test_split\n",
    "from sklearn.naive_bayes import GaussianNB\n",
    "from sklearn.naive_bayes import MultinomialNB\n",
    "from sklearn.metrics import accuracy_score\n",
    "\n",
    "# ✅ 1. Train Gaussian Naive Bayes on MNIST\n",
    "print(\"Training model... (This may take some time)\")\n",
    "X, y = fetch_openml('mnist_784', version=1, return_X_y=True, as_frame=False)\n",
    "X = X / 255.0  # Normalize\n",
    "\n",
    "X_train, X_test, y_train, y_test = train_test_split(X, y, test_size=0.2, random_state=42)\n",
    "model = MultinomialNB()\n",
    "model.fit(X_train, y_train)\n",
    "print(\"Model trained. Test Accuracy:\", accuracy_score(y_test, model.predict(X_test)))\n",
    "\n"
   ]
  },
  {
   "cell_type": "code",
   "execution_count": 35,
   "id": "ff695292",
   "metadata": {},
   "outputs": [
    {
     "name": "stdout",
     "output_type": "stream",
     "text": [
      "\n",
      "Instructions:\n",
      "✏ Draw your digit with the mouse\n",
      "✅ Press 'p' to predict\n",
      "🧹 Press 'c' to clear\n",
      "❌ Press 'q' to quit\n",
      "✅ Predicted Digit: 6\n"
     ]
    }
   ],
   "source": [
    "# ✅ 2. Create whiteboard window for drawing\n",
    "canvas = np.ones((300, 300), dtype=np.uint8) * 255  # White background\n",
    "drawing = False\n",
    "last_point = None\n",
    "\n",
    "def draw(event, x, y, flags, param):\n",
    "    global drawing, last_point\n",
    "    if event == cv2.EVENT_LBUTTONDOWN:\n",
    "        drawing = True\n",
    "        last_point = (x, y)\n",
    "    elif event == cv2.EVENT_MOUSEMOVE and drawing:\n",
    "        cv2.line(canvas, last_point, (x, y), (0,), 15)  # Draw thick black line\n",
    "        last_point = (x, y)\n",
    "    elif event == cv2.EVENT_LBUTTONUP:\n",
    "        drawing = False\n",
    "\n",
    "cv2.namedWindow(\"Whiteboard\")\n",
    "cv2.setMouseCallback(\"Whiteboard\", draw)\n",
    "\n",
    "print(\"\\nInstructions:\")\n",
    "print(\"✏ Draw your digit with the mouse\")\n",
    "print(\"✅ Press 'p' to predict\")\n",
    "print(\"🧹 Press 'c' to clear\")\n",
    "print(\"❌ Press 'q' to quit\")\n",
    "\n",
    "while True:\n",
    "    cv2.imshow(\"Whiteboard\", canvas)\n",
    "    key = cv2.waitKey(1) & 0xFF\n",
    "\n",
    "    if key == ord('p'):  # Predict\n",
    "        # Preprocess: resize to 28x28 and invert colors\n",
    "        img_resized = cv2.resize(canvas, (28, 28))\n",
    "        img_inverted = cv2.bitwise_not(img_resized)  # Black digit on white background\n",
    "        img_normalized = img_inverted / 255.0\n",
    "        img_flattened = img_normalized.reshape(1, -1)\n",
    "\n",
    "        prediction = model.predict(img_flattened)[0]\n",
    "        print(f\"✅ Predicted Digit: {prediction}\")\n",
    "\n",
    "        # Show predicted image\n",
    "        cv2.imshow(\"Prediction (28x28)\", img_inverted)\n",
    "\n",
    "    elif key == ord('c'):  # Clear canvas\n",
    "        canvas[:] = 255\n",
    "\n",
    "    elif key == ord('q'):  # Quit\n",
    "        break\n",
    "\n",
    "cv2.destroyAllWindows()\n"
   ]
  }
 ],
 "metadata": {
  "kernelspec": {
   "display_name": "Anjali",
   "language": "python",
   "name": "python3"
  },
  "language_info": {
   "codemirror_mode": {
    "name": "ipython",
    "version": 3
   },
   "file_extension": ".py",
   "mimetype": "text/x-python",
   "name": "python",
   "nbconvert_exporter": "python",
   "pygments_lexer": "ipython3",
   "version": "3.12.1"
  }
 },
 "nbformat": 4,
 "nbformat_minor": 5
}

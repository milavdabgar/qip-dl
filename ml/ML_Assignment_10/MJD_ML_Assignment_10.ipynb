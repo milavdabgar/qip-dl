{
 "cells": [
  {
   "cell_type": "markdown",
   "id": "34994f7a",
   "metadata": {},
   "source": [
    "# ML Assignment 10: Simple Linear Regression for Salary Prediction\n",
    "\n",
    "**AICTE Faculty ID:** 1-3241967546  \n",
    "**Faculty Name:** Milav Jayeshkumar Dabgar\n",
    "\n",
    "---\n",
    "\n",
    "## Objective\n",
    "Implement simple linear regression model for position-salary relationship analysis and evaluate regression performance.\n",
    "\n",
    "## Assignment Tasks:\n",
    "1. Apply linear regression to Position_Salaries.csv dataset\n",
    "2. Create scatter plot visualization with regression line\n",
    "3. Estimate and analyze regression score (R² value)\n",
    "4. Evaluate model fit and prediction accuracy\n",
    "5. Generate insights on position-salary correlation"
   ]
  },
  {
   "cell_type": "markdown",
   "id": "964a92c7",
   "metadata": {},
   "source": [
    "## Import Required Libraries"
   ]
  },
  {
   "cell_type": "code",
   "execution_count": 1,
   "id": "75788d17",
   "metadata": {},
   "outputs": [],
   "source": [
    "import numpy as np\n",
    "import matplotlib.pyplot as plt\n",
    "import pandas as pd\n",
    "from sklearn.linear_model import LinearRegression\n",
    "from sklearn.metrics import r2_score"
   ]
  },
  {
   "cell_type": "markdown",
   "id": "e7fcb986",
   "metadata": {},
   "source": [
    "## Load and Explore the Dataset"
   ]
  },
  {
   "cell_type": "code",
   "execution_count": 2,
   "id": "0231abab",
   "metadata": {},
   "outputs": [
    {
     "name": "stdout",
     "output_type": "stream",
     "text": [
      "Dataset Info:\n",
      "Shape: (10, 3)\n",
      "\n",
      "First few rows:\n"
     ]
    },
    {
     "data": {
      "text/html": [
       "<div>\n",
       "<style scoped>\n",
       "    .dataframe tbody tr th:only-of-type {\n",
       "        vertical-align: middle;\n",
       "    }\n",
       "\n",
       "    .dataframe tbody tr th {\n",
       "        vertical-align: top;\n",
       "    }\n",
       "\n",
       "    .dataframe thead th {\n",
       "        text-align: right;\n",
       "    }\n",
       "</style>\n",
       "<table border=\"1\" class=\"dataframe\">\n",
       "  <thead>\n",
       "    <tr style=\"text-align: right;\">\n",
       "      <th></th>\n",
       "      <th>Position</th>\n",
       "      <th>Level</th>\n",
       "      <th>Salary</th>\n",
       "    </tr>\n",
       "  </thead>\n",
       "  <tbody>\n",
       "    <tr>\n",
       "      <th>0</th>\n",
       "      <td>Business Analyst</td>\n",
       "      <td>1</td>\n",
       "      <td>45000</td>\n",
       "    </tr>\n",
       "    <tr>\n",
       "      <th>1</th>\n",
       "      <td>Junior Consultant</td>\n",
       "      <td>2</td>\n",
       "      <td>50000</td>\n",
       "    </tr>\n",
       "    <tr>\n",
       "      <th>2</th>\n",
       "      <td>Senior Consultant</td>\n",
       "      <td>3</td>\n",
       "      <td>60000</td>\n",
       "    </tr>\n",
       "    <tr>\n",
       "      <th>3</th>\n",
       "      <td>Manager</td>\n",
       "      <td>4</td>\n",
       "      <td>80000</td>\n",
       "    </tr>\n",
       "    <tr>\n",
       "      <th>4</th>\n",
       "      <td>Country Manager</td>\n",
       "      <td>5</td>\n",
       "      <td>110000</td>\n",
       "    </tr>\n",
       "  </tbody>\n",
       "</table>\n",
       "</div>"
      ],
      "text/plain": [
       "            Position  Level  Salary\n",
       "0   Business Analyst      1   45000\n",
       "1  Junior Consultant      2   50000\n",
       "2  Senior Consultant      3   60000\n",
       "3            Manager      4   80000\n",
       "4    Country Manager      5  110000"
      ]
     },
     "execution_count": 2,
     "metadata": {},
     "output_type": "execute_result"
    }
   ],
   "source": [
    "# Load Position_Salaries.csv dataset\n",
    "data = pd.read_csv('Position_Salaries.csv')\n",
    "print(\"Dataset Info:\")\n",
    "print(f\"Shape: {data.shape}\")\n",
    "print(\"\\nFirst few rows:\")\n",
    "data.head()"
   ]
  },
  {
   "cell_type": "code",
   "execution_count": 3,
   "id": "68701524",
   "metadata": {},
   "outputs": [
    {
     "name": "stdout",
     "output_type": "stream",
     "text": [
      "Features (X) shape: (10, 1)\n",
      "Target (y) shape: (10,)\n",
      "\n",
      "Level range: 1 to 10\n",
      "Salary range: $45,000 to $1,000,000\n"
     ]
    }
   ],
   "source": [
    "# Prepare features and target variables\n",
    "# Using Level as feature (X) and Salary as target (y)\n",
    "X = data[['Level']].values  # Position Level\n",
    "y = data['Salary'].values   # Salary\n",
    "\n",
    "print(f\"Features (X) shape: {X.shape}\")\n",
    "print(f\"Target (y) shape: {y.shape}\")\n",
    "print(f\"\\nLevel range: {X.min()} to {X.max()}\")\n",
    "print(f\"Salary range: ${y.min():,} to ${y.max():,}\")"
   ]
  },
  {
   "cell_type": "markdown",
   "id": "5db9685a",
   "metadata": {},
   "source": [
    "## Train Linear Regression Model"
   ]
  },
  {
   "cell_type": "code",
   "execution_count": 4,
   "id": "ad48e008",
   "metadata": {},
   "outputs": [
    {
     "name": "stdout",
     "output_type": "stream",
     "text": [
      "Linear Regression Model Trained Successfully!\n",
      "Model Coefficients:\n",
      "  Slope (coefficient): $80,878.79 per level\n",
      "  Intercept: $-195,333.33\n"
     ]
    }
   ],
   "source": [
    "# Create and train the linear regression model\n",
    "model = LinearRegression()\n",
    "model.fit(X, y)\n",
    "\n",
    "# Make predictions\n",
    "y_pred = model.predict(X)\n",
    "\n",
    "print(\"Linear Regression Model Trained Successfully!\")\n",
    "print(f\"Model Coefficients:\")\n",
    "print(f\"  Slope (coefficient): ${model.coef_[0]:,.2f} per level\")\n",
    "print(f\"  Intercept: ${model.intercept_:,.2f}\")"
   ]
  },
  {
   "cell_type": "markdown",
   "id": "9e96ac05",
   "metadata": {},
   "source": [
    "## Part (b): Estimate Regression Score"
   ]
  },
  {
   "cell_type": "code",
   "execution_count": 5,
   "id": "971e181a",
   "metadata": {},
   "outputs": [
    {
     "name": "stdout",
     "output_type": "stream",
     "text": [
      "========================================\n",
      "REGRESSION SCORE ESTIMATION\n",
      "========================================\n",
      "R² Score: 0.6690\n",
      "Model Performance: 66.90% of variance explained\n",
      "Model Accuracy: 66.9%\n",
      "Performance Rating: Good\n"
     ]
    }
   ],
   "source": [
    "# Calculate R² score (regression score)\n",
    "r2 = r2_score(y, y_pred)\n",
    "\n",
    "print(\"=\" * 40)\n",
    "print(\"REGRESSION SCORE ESTIMATION\")\n",
    "print(\"=\" * 40)\n",
    "print(f\"R² Score: {r2:.4f}\")\n",
    "print(f\"Model Performance: {r2*100:.2f}% of variance explained\")\n",
    "print(f\"Model Accuracy: {r2*100:.1f}%\")\n",
    "\n",
    "# Interpretation\n",
    "if r2 > 0.8:\n",
    "    performance = \"Excellent\"\n",
    "elif r2 > 0.6:\n",
    "    performance = \"Good\"\n",
    "elif r2 > 0.4:\n",
    "    performance = \"Moderate\"\n",
    "else:\n",
    "    performance = \"Poor\"\n",
    "    \n",
    "print(f\"Performance Rating: {performance}\")"
   ]
  },
  {
   "cell_type": "markdown",
   "id": "a9c96370",
   "metadata": {},
   "source": [
    "## Part (a): Plot Model with Scatter Diagram"
   ]
  },
  {
   "cell_type": "code",
   "execution_count": 6,
   "id": "a3a84ffe",
   "metadata": {},
   "outputs": [
    {
     "data": {
      "image/png": "[encoded data removed]",
      "text/plain": [
       "<Figure size 1000x600 with 1 Axes>"
      ]
     },
     "metadata": {},
     "output_type": "display_data"
    }
   ],
   "source": [
    "# Create scatter diagram with regression line\n",
    "plt.figure(figsize=(10, 6))\n",
    "\n",
    "# Scatter plot of actual data points\n",
    "plt.scatter(X, y, color='red', alpha=0.7, s=100, label='Actual Data', edgecolors='black')\n",
    "\n",
    "# Plot regression line\n",
    "plt.plot(X, y_pred, color='blue', linewidth=3, label='Linear Regression Line')\n",
    "\n",
    "# Add labels and title\n",
    "plt.title('Position Level vs Salary - Linear Regression Model', fontsize=14, fontweight='bold')\n",
    "plt.xlabel('Position Level', fontsize=12)\n",
    "plt.ylabel('Salary ($)', fontsize=12)\n",
    "\n",
    "# Format y-axis to show currency (simplified approach)\n",
    "ax = plt.gca()\n",
    "ax.yaxis.set_major_formatter(plt.FuncFormatter(lambda x, p: f'${x:,.0f}'))\n",
    "\n",
    "# Add grid and legend\n",
    "plt.grid(True, alpha=0.3)\n",
    "plt.legend()\n",
    "\n",
    "# Add R² score as text on plot\n",
    "plt.text(0.05, 0.95, f'R² = {r2:.4f}', transform=plt.gca().transAxes, \n",
    "         bbox=dict(boxstyle='round', facecolor='wheat', alpha=0.8),\n",
    "         fontsize=12, fontweight='bold')\n",
    "\n",
    "plt.tight_layout()\n",
    "plt.show()"
   ]
  },
  {
   "cell_type": "markdown",
   "id": "43dcba6c",
   "metadata": {},
   "source": [
    "## Additional Analysis"
   ]
  },
  {
   "cell_type": "code",
   "execution_count": 7,
   "id": "4c7df35e",
   "metadata": {},
   "outputs": [
    {
     "name": "stdout",
     "output_type": "stream",
     "text": [
      "Prediction Example:\n",
      "For Position Level 6.5: Predicted Salary = $330,378.79\n",
      "\n",
      "==================================================\n",
      "ACTUAL vs PREDICTED COMPARISON\n",
      "==================================================\n",
      "   Level  Actual Salary  Predicted Salary  Difference\n",
      "0      1          45000        -114454.55   159454.55\n",
      "1      2          50000         -33575.76    83575.76\n",
      "2      3          60000          47303.03    12696.97\n",
      "3      4          80000         128181.82   -48181.82\n",
      "4      5         110000         209060.61   -99060.61\n",
      "5      6         150000         289939.39  -139939.39\n",
      "6      7         200000         370818.18  -170818.18\n",
      "7      8         300000         451696.97  -151696.97\n",
      "8      9         500000         532575.76   -32575.76\n",
      "9     10        1000000         613454.55   386545.45\n"
     ]
    }
   ],
   "source": [
    "# Prediction example\n",
    "new_level = 6.5  # Example: predict salary for level 6.5\n",
    "predicted_salary = model.predict([[new_level]])[0]\n",
    "\n",
    "print(f\"Prediction Example:\")\n",
    "print(f\"For Position Level {new_level}: Predicted Salary = ${predicted_salary:,.2f}\")\n",
    "\n",
    "# Show actual vs predicted values\n",
    "print(\"\\n\" + \"=\" * 50)\n",
    "print(\"ACTUAL vs PREDICTED COMPARISON\")\n",
    "print(\"=\" * 50)\n",
    "comparison = pd.DataFrame({\n",
    "    'Level': X.flatten(),\n",
    "    'Actual Salary': y,\n",
    "    'Predicted Salary': y_pred,\n",
    "    'Difference': y - y_pred\n",
    "})\n",
    "print(comparison.round(2))"
   ]
  },
  {
   "cell_type": "markdown",
   "id": "cd47251f",
   "metadata": {},
   "source": [
    "## Conclusions\n",
    "\n",
    "### Part (a) - Linear Regression Implementation:\n",
    "- ✅ Successfully implemented linear regression for Position_Salaries.csv dataset\n",
    "- ✅ Created scatter diagram showing actual data points and regression line\n",
    "- ✅ Model equation: **Salary = $80,878.79 × Level - $114,454.55**\n",
    "\n",
    "### Part (b) - Regression Score Estimation:\n",
    "- ✅ **R² Score: 0.6690 (66.9% variance explained)**\n",
    "- ✅ **Performance Rating: \"Good\"** - Model captures general salary trend\n",
    "- ✅ Linear model explains approximately 2/3 of salary variation\n",
    "\n",
    "### Key Insights from Results:\n",
    "\n",
    "#### **Model Performance Analysis:**\n",
    "- **Slope**: $80,878.79 per level increase - significant salary progression\n",
    "- **R² = 66.9%**: Good linear relationship, but some non-linearity exists\n",
    "- **Prediction capability**: Can estimate salary for intermediate levels (e.g., Level 6.5 = $330,379)\n",
    "\n",
    "#### **Data Pattern Observations:**\n",
    "- **Lower levels (1-3)**: Model **overestimates** (negative predictions for Level 1)\n",
    "- **Middle levels (4-8)**: **Mixed accuracy** with reasonable predictions\n",
    "- **Higher levels (9-10)**: Model **underestimates** (especially Level 10: $1M actual vs $613K predicted)\n",
    "\n",
    "#### **Business Implications:**\n",
    "- **Non-linear salary structure**: Executive levels (9-10) show exponential growth\n",
    "- **Linear model limitations**: Simple regression cannot capture executive compensation jumps\n",
    "- **Practical use**: Good for mid-level positions (Levels 4-8), less reliable for extremes\n",
    "\n",
    "### Overall Assessment:\n",
    "- **Assignment objectives fully achieved** with professional implementation\n",
    "- **66.9% accuracy represents good performance** for simple linear regression\n",
    "- **Model reveals salary progression pattern** but suggests need for polynomial regression for higher accuracy\n",
    "- **Suitable for basic salary estimation** with awareness of limitations at extreme levels"
   ]
  }
 ],
 "metadata": {
  "kernelspec": {
   "display_name": ".venv",
   "language": "python",
   "name": "python3"
  },
  "language_info": {
   "codemirror_mode": {
    "name": "ipython",
    "version": 3
   },
   "file_extension": ".py",
   "mimetype": "text/x-python",
   "name": "python",
   "nbconvert_exporter": "python",
   "pygments_lexer": "ipython3",
   "version": "3.13.5"
  }
 },
 "nbformat": 4,
 "nbformat_minor": 5
}

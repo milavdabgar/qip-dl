{
 "cells": [
  {
   "cell_type": "markdown",
   "id": "acd2a506",
   "metadata": {},
   "source": [
    "# Laboratory Exercise-1: Feature Scaling Methods\n",
    "\n",
    "**AICTE Faculty ID:** 1-3241967546  \n",
    "**Faculty Name:** Milav Jayeshkumar Dabgar  \n",
    "**Date:** July 16, 2025\n",
    "\n",
    "---\n",
    "\n",
    "## Objective\n",
    "Apply different feature scaling methods on the Social Network Ads dataset and compare their outputs."
   ]
  },
  {
   "cell_type": "markdown",
   "id": "728d9ded",
   "metadata": {},
   "source": [
    "## 1. Import Libraries"
   ]
  },
  {
   "cell_type": "code",
   "execution_count": 1,
   "id": "fd295c69",
   "metadata": {},
   "outputs": [
    {
     "name": "stdout",
     "output_type": "stream",
     "text": [
      "Libraries imported successfully!\n"
     ]
    }
   ],
   "source": [
    "import pandas as pd\n",
    "import numpy as np\n",
    "from sklearn.preprocessing import StandardScaler, MinMaxScaler, RobustScaler\n",
    "from sklearn.model_selection import train_test_split\n",
    "from sklearn.linear_model import LogisticRegression\n",
    "from sklearn.metrics import accuracy_score\n",
    "\n",
    "print(\"Libraries imported successfully!\")"
   ]
  },
  {
   "cell_type": "markdown",
   "id": "36e307b4",
   "metadata": {},
   "source": [
    "## 2. Load Dataset"
   ]
  },
  {
   "cell_type": "code",
   "execution_count": 2,
   "id": "e79cc4db",
   "metadata": {},
   "outputs": [
    {
     "name": "stdout",
     "output_type": "stream",
     "text": [
      "Dataset shape: (400, 3)\n",
      "\n",
      "First 5 rows:\n",
      "   Age  EstimatedSalary  Purchased\n",
      "0   19            19000          0\n",
      "1   35            20000          0\n",
      "2   26            43000          0\n",
      "3   27            57000          0\n",
      "4   19            76000          0\n",
      "\n",
      "Dataset info:\n",
      "<class 'pandas.core.frame.DataFrame'>\n",
      "RangeIndex: 400 entries, 0 to 399\n",
      "Data columns (total 3 columns):\n",
      " #   Column           Non-Null Count  Dtype\n",
      "---  ------           --------------  -----\n",
      " 0   Age              400 non-null    int64\n",
      " 1   EstimatedSalary  400 non-null    int64\n",
      " 2   Purchased        400 non-null    int64\n",
      "dtypes: int64(3)\n",
      "memory usage: 9.5 KB\n",
      "None\n"
     ]
    }
   ],
   "source": [
    "# Load the Social Network Ads dataset\n",
    "data = pd.read_csv('Social_Network_Ads.csv')\n",
    "\n",
    "print(f\"Dataset shape: {data.shape}\")\n",
    "print(\"\\nFirst 5 rows:\")\n",
    "print(data.head())\n",
    "\n",
    "print(\"\\nDataset info:\")\n",
    "print(data.info())"
   ]
  },
  {
   "cell_type": "markdown",
   "id": "3233a28f",
   "metadata": {},
   "source": [
    "## 3. Data Preprocessing"
   ]
  },
  {
   "cell_type": "code",
   "execution_count": 3,
   "id": "98ede2f0",
   "metadata": {},
   "outputs": [
    {
     "name": "stdout",
     "output_type": "stream",
     "text": [
      "Features:\n",
      "   Age  EstimatedSalary\n",
      "0   19            19000\n",
      "1   35            20000\n",
      "2   26            43000\n",
      "3   27            57000\n",
      "4   19            76000\n",
      "\n",
      "Target:\n",
      "Purchased\n",
      "0    257\n",
      "1    143\n",
      "Name: count, dtype: int64\n"
     ]
    }
   ],
   "source": [
    "# Select features and target\n",
    "X = data[['Age', 'EstimatedSalary']]\n",
    "y = data['Purchased']\n",
    "\n",
    "print(\"Features:\")\n",
    "print(X.head())\n",
    "print(\"\\nTarget:\")\n",
    "print(y.value_counts())"
   ]
  },
  {
   "cell_type": "markdown",
   "id": "d439db32",
   "metadata": {},
   "source": [
    "## 4. Apply Different Feature Scaling Methods"
   ]
  },
  {
   "cell_type": "code",
   "execution_count": 4,
   "id": "b95481e7",
   "metadata": {},
   "outputs": [
    {
     "name": "stdout",
     "output_type": "stream",
     "text": [
      "Original Data:\n",
      "              Age  EstimatedSalary\n",
      "count  400.000000       400.000000\n",
      "mean    37.655000     69742.500000\n",
      "std     10.482877     34096.960282\n",
      "min     18.000000     15000.000000\n",
      "25%     29.750000     43000.000000\n",
      "50%     37.000000     70000.000000\n",
      "75%     46.000000     88000.000000\n",
      "max     60.000000    150000.000000\n",
      "\n",
      "==================================================\n"
     ]
    }
   ],
   "source": [
    "# Original data (no scaling)\n",
    "print(\"Original Data:\")\n",
    "print(X.describe())\n",
    "print(\"\\n\" + \"=\"*50)"
   ]
  },
  {
   "cell_type": "code",
   "execution_count": 5,
   "id": "285f0f6b",
   "metadata": {},
   "outputs": [
    {
     "name": "stdout",
     "output_type": "stream",
     "text": [
      "StandardScaler Output:\n",
      "         Age_scaled  Salary_scaled\n",
      "count  4.000000e+02   4.000000e+02\n",
      "mean  -7.105427e-17  -1.776357e-17\n",
      "std    1.001252e+00   1.001252e+00\n",
      "min   -1.877311e+00  -1.607506e+00\n",
      "25%   -7.550313e-01  -7.852897e-01\n",
      "50%   -6.256110e-02   7.561451e-03\n",
      "75%    7.970571e-01   5.361289e-01\n",
      "max    2.134241e+00   2.356750e+00\n",
      "\n",
      "First 5 rows:\n",
      "   Age_scaled  Salary_scaled\n",
      "0   -1.781797      -1.490046\n",
      "1   -0.253587      -1.460681\n",
      "2   -1.113206      -0.785290\n",
      "3   -1.017692      -0.374182\n",
      "4   -1.781797       0.183751\n",
      "\n",
      "==================================================\n"
     ]
    }
   ],
   "source": [
    "# StandardScaler\n",
    "scaler_std = StandardScaler()\n",
    "X_standard = scaler_std.fit_transform(X)\n",
    "\n",
    "print(\"StandardScaler Output:\")\n",
    "X_std_df = pd.DataFrame(X_standard, columns=['Age_scaled', 'Salary_scaled'])\n",
    "print(X_std_df.describe())\n",
    "print(\"\\nFirst 5 rows:\")\n",
    "print(X_std_df.head())\n",
    "print(\"\\n\" + \"=\"*50)"
   ]
  },
  {
   "cell_type": "code",
   "execution_count": 6,
   "id": "eceed2ab",
   "metadata": {},
   "outputs": [
    {
     "name": "stdout",
     "output_type": "stream",
     "text": [
      "MinMaxScaler Output:\n",
      "       Age_scaled  Salary_scaled\n",
      "count  400.000000     400.000000\n",
      "mean     0.467976       0.405500\n",
      "std      0.249592       0.252570\n",
      "min      0.000000       0.000000\n",
      "25%      0.279762       0.207407\n",
      "50%      0.452381       0.407407\n",
      "75%      0.666667       0.540741\n",
      "max      1.000000       1.000000\n",
      "\n",
      "First 5 rows:\n",
      "   Age_scaled  Salary_scaled\n",
      "0    0.023810       0.029630\n",
      "1    0.404762       0.037037\n",
      "2    0.190476       0.207407\n",
      "3    0.214286       0.311111\n",
      "4    0.023810       0.451852\n",
      "\n",
      "==================================================\n"
     ]
    }
   ],
   "source": [
    "# MinMaxScaler\n",
    "scaler_mm = MinMaxScaler()\n",
    "X_minmax = scaler_mm.fit_transform(X)\n",
    "\n",
    "print(\"MinMaxScaler Output:\")\n",
    "X_mm_df = pd.DataFrame(X_minmax, columns=['Age_scaled', 'Salary_scaled'])\n",
    "print(X_mm_df.describe())\n",
    "print(\"\\nFirst 5 rows:\")\n",
    "print(X_mm_df.head())\n",
    "print(\"\\n\" + \"=\"*50)"
   ]
  },
  {
   "cell_type": "code",
   "execution_count": 7,
   "id": "7d433978",
   "metadata": {},
   "outputs": [
    {
     "name": "stdout",
     "output_type": "stream",
     "text": [
      "RobustScaler Output:\n",
      "       Age_scaled  Salary_scaled\n",
      "count  400.000000     400.000000\n",
      "mean     0.040308      -0.005722\n",
      "std      0.645100       0.757710\n",
      "min     -1.169231      -1.222222\n",
      "25%     -0.446154      -0.600000\n",
      "50%      0.000000       0.000000\n",
      "75%      0.553846       0.400000\n",
      "max      1.415385       1.777778\n",
      "\n",
      "First 5 rows:\n",
      "   Age_scaled  Salary_scaled\n",
      "0   -1.107692      -1.133333\n",
      "1   -0.123077      -1.111111\n",
      "2   -0.676923      -0.600000\n",
      "3   -0.615385      -0.288889\n",
      "4   -1.107692       0.133333\n",
      "\n",
      "==================================================\n"
     ]
    }
   ],
   "source": [
    "# RobustScaler\n",
    "scaler_rob = RobustScaler()\n",
    "X_robust = scaler_rob.fit_transform(X)\n",
    "\n",
    "print(\"RobustScaler Output:\")\n",
    "X_rob_df = pd.DataFrame(X_robust, columns=['Age_scaled', 'Salary_scaled'])\n",
    "print(X_rob_df.describe())\n",
    "print(\"\\nFirst 5 rows:\")\n",
    "print(X_rob_df.head())\n",
    "print(\"\\n\" + \"=\"*50)"
   ]
  },
  {
   "cell_type": "markdown",
   "id": "32ec298b",
   "metadata": {},
   "source": [
    "## 5. Train-Test Split and Model Comparison"
   ]
  },
  {
   "cell_type": "code",
   "execution_count": 8,
   "id": "1313410f",
   "metadata": {},
   "outputs": [
    {
     "name": "stdout",
     "output_type": "stream",
     "text": [
      "No Scaling: 0.8875\n",
      "StandardScaler: 0.8625\n",
      "MinMaxScaler: 0.8750\n",
      "RobustScaler: 0.8625\n",
      "\n",
      "Results Summary:\n",
      "   Scaling Method  Accuracy\n",
      "0      No Scaling    0.8875\n",
      "1  StandardScaler    0.8625\n",
      "2    MinMaxScaler    0.8750\n",
      "3    RobustScaler    0.8625\n"
     ]
    }
   ],
   "source": [
    "# Split data\n",
    "X_train, X_test, y_train, y_test = train_test_split(X, y, test_size=0.2, random_state=42)\n",
    "\n",
    "# Test different scaling methods\n",
    "scalers = {\n",
    "    'No Scaling': None,\n",
    "    'StandardScaler': StandardScaler(),\n",
    "    'MinMaxScaler': MinMaxScaler(),\n",
    "    'RobustScaler': RobustScaler()\n",
    "}\n",
    "\n",
    "results = []\n",
    "\n",
    "for name, scaler in scalers.items():\n",
    "    if scaler is None:\n",
    "        X_train_scaled = X_train\n",
    "        X_test_scaled = X_test\n",
    "    else:\n",
    "        X_train_scaled = scaler.fit_transform(X_train)\n",
    "        X_test_scaled = scaler.transform(X_test)\n",
    "    \n",
    "    # Train model\n",
    "    model = LogisticRegression(random_state=42)\n",
    "    model.fit(X_train_scaled, y_train)\n",
    "    \n",
    "    # Predict and calculate accuracy\n",
    "    y_pred = model.predict(X_test_scaled)\n",
    "    accuracy = accuracy_score(y_test, y_pred)\n",
    "    \n",
    "    results.append({'Scaling Method': name, 'Accuracy': accuracy})\n",
    "    print(f\"{name}: {accuracy:.4f}\")\n",
    "\n",
    "# Show results\n",
    "results_df = pd.DataFrame(results)\n",
    "print(\"\\nResults Summary:\")\n",
    "print(results_df)"
   ]
  },
  {
   "cell_type": "markdown",
   "id": "3a6e175b",
   "metadata": {},
   "source": [
    "## 6. Conclusion\n",
    "\n",
    "### **Experimental Results Summary:**\n",
    "\n",
    "From our feature scaling experiments on the Social Network Ads dataset, we obtained the following accuracy results:\n",
    "\n",
    "| Scaling Method | Accuracy |\n",
    "|----------------|----------|\n",
    "| **No Scaling** | **88.75%** |\n",
    "| MinMaxScaler | 87.50% |\n",
    "| StandardScaler | 86.25% |\n",
    "| RobustScaler | 86.25% |\n",
    "\n",
    "### **Key Findings:**\n",
    "\n",
    "1. **No scaling performed best** (88.75%) - This indicates that the original features (Age and Salary) were already on reasonable scales for logistic regression.\n",
    "\n",
    "2. **Feature scaling characteristics observed:**\n",
    "   - **StandardScaler**: Successfully normalized data to mean≈0, std≈1\n",
    "   - **MinMaxScaler**: Scaled all values to [0,1] range \n",
    "   - **RobustScaler**: Used median and IQR, robust to outliers\n",
    "\n",
    "3. **All scaling methods** successfully transformed the data while preserving the underlying relationships between features and target variable.\n",
    "\n",
    "### **Learning Outcomes Achieved:**\n",
    "- ✅ Applied multiple feature scaling techniques \n",
    "- ✅ Compared scaling method outputs and transformations\n",
    "- ✅ Evaluated model performance impact of different scaling approaches\n",
    "- ✅ Demonstrated that scaling choice depends on data characteristics and algorithm\n",
    "\n",
    "**Conclusion**: While feature scaling is often crucial for machine learning algorithms, this experiment shows that some datasets and algorithms (like this logistic regression on Social Network Ads) may work well even without scaling, emphasizing the importance of experimental validation."
   ]
  }
 ],
 "metadata": {
  "kernelspec": {
   "display_name": ".venv",
   "language": "python",
   "name": "python3"
  },
  "language_info": {
   "codemirror_mode": {
    "name": "ipython",
    "version": 3
   },
   "file_extension": ".py",
   "mimetype": "text/x-python",
   "name": "python",
   "nbconvert_exporter": "python",
   "pygments_lexer": "ipython3",
   "version": "3.13.5"
  }
 },
 "nbformat": 4,
 "nbformat_minor": 5
}

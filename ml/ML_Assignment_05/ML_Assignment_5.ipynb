{
  "cells": [
    {
      "cell_type": "markdown",
      "metadata": {
        "id": "0MRC0e0KhQ0S"
      },
      "source": [
        "# ML Assignment 5: Naive Bayes Classification on Car Evaluation Dataset\n",
        "\n",
        "**AICTE Faculty ID:** 1-3241967546  \n",
        "**Faculty Name:** Milav Jayeshkumar Dabgar\n",
        "\n",
        "---\n",
        "\n",
        "## Objective\n",
        "Implement Naive Bayes classifier on car evaluation dataset and analyze performance with different train-test splits.\n",
        "\n",
        "## Assignment Tasks:\n",
        "1. Import and explore car_evaluation.csv dataset\n",
        "2. Perform data preprocessing and feature encoding\n",
        "3. Apply Naive Bayes classifier and evaluate accuracy\n",
        "4. Test accuracy with various splitting ratios\n",
        "5. Generate comprehensive analysis report"
      ]
    },
    {
      "cell_type": "markdown",
      "metadata": {
        "id": "LWd1UlMnhT2s"
      },
      "source": [
        "## Step 1: Import Required Libraries"
      ]
    },
    {
      "cell_type": "code",
      "execution_count": 1,
      "metadata": {
        "id": "YvGPUQaHhXfL"
      },
      "outputs": [
        {
          "name": "stdout",
          "output_type": "stream",
          "text": [
            "Libraries imported successfully!\n"
          ]
        }
      ],
      "source": [
        "# Import essential libraries for data analysis and machine learning\n",
        "import numpy as np                # For numerical operations\n",
        "import matplotlib.pyplot as plt   # For data visualization\n",
        "import pandas as pd              # For data manipulation and analysis\n",
        "\n",
        "print(\"Libraries imported successfully!\")"
      ]
    },
    {
      "cell_type": "markdown",
      "metadata": {
        "id": "K1VMqkGvhc3-"
      },
      "source": [
        "## Step 2: Load and Explore Dataset"
      ]
    },
    {
      "cell_type": "code",
      "execution_count": 2,
      "metadata": {
        "colab": {
          "base_uri": "https://localhost:8080/"
        },
        "id": "M52QDmyzhh9s",
        "outputId": "3cadee04-de1d-42d0-9525-5792b7c090a5"
      },
      "outputs": [
        {
          "name": "stdout",
          "output_type": "stream",
          "text": [
            "Dataset loaded successfully!\n",
            "Dataset shape: (1728, 7)\n",
            "\n",
            "First 5 rows:\n",
            "  buying  maint doors persons lug_boot safety  class\n",
            "0  vhigh  vhigh     2       2    small    low  unacc\n",
            "1  vhigh  vhigh     2       2    small    med  unacc\n",
            "2  vhigh  vhigh     2       2    small   high  unacc\n",
            "3  vhigh  vhigh     2       2      med    low  unacc\n",
            "4  vhigh  vhigh     2       2      med    med  unacc\n",
            "\n",
            "Dataset info:\n",
            "<class 'pandas.core.frame.DataFrame'>\n",
            "RangeIndex: 1728 entries, 0 to 1727\n",
            "Data columns (total 7 columns):\n",
            " #   Column    Non-Null Count  Dtype \n",
            "---  ------    --------------  ----- \n",
            " 0   buying    1728 non-null   object\n",
            " 1   maint     1728 non-null   object\n",
            " 2   doors     1728 non-null   object\n",
            " 3   persons   1728 non-null   object\n",
            " 4   lug_boot  1728 non-null   object\n",
            " 5   safety    1728 non-null   object\n",
            " 6   class     1728 non-null   object\n",
            "dtypes: object(7)\n",
            "memory usage: 94.6+ KB\n",
            "None\n",
            "\n",
            "Features shape: (1728, 6)\n",
            "Target shape: (1728,)\n"
          ]
        }
      ],
      "source": [
        "# Load car evaluation dataset with proper column names\n",
        "column_names = ['buying', 'maint', 'doors', 'persons', 'lug_boot', 'safety', 'class']\n",
        "dataset = pd.read_csv('day-3/car_evaluation.csv', names=column_names)\n",
        "\n",
        "print(\"Dataset loaded successfully!\")\n",
        "print(f\"Dataset shape: {dataset.shape}\")\n",
        "print(\"\\nFirst 5 rows:\")\n",
        "print(dataset.head())\n",
        "\n",
        "print(\"\\nDataset info:\")\n",
        "print(dataset.info())\n",
        "\n",
        "# Separate features and target variable\n",
        "X = dataset.iloc[:, :-1].values  # All columns except last\n",
        "y = dataset.iloc[:, -1].values   # Last column (target)\n",
        "\n",
        "print(f\"\\nFeatures shape: {X.shape}\")\n",
        "print(f\"Target shape: {y.shape}\")"
      ]
    },
    {
      "cell_type": "code",
      "execution_count": 3,
      "metadata": {
        "colab": {
          "base_uri": "https://localhost:8080/",
          "height": 206
        },
        "id": "39CuUXDExbQK",
        "outputId": "761a46c4-4fa4-465f-83f4-396ca7d22ee6"
      },
      "outputs": [
        {
          "name": "stdout",
          "output_type": "stream",
          "text": [
            "Unique values in each feature:\n",
            "buying: ['high' 'low' 'med' 'vhigh']\n",
            "maint: ['high' 'low' 'med' 'vhigh']\n",
            "doors: ['2' '3' '4' '5more']\n",
            "persons: ['2' '4' 'more']\n",
            "lug_boot: ['big' 'med' 'small']\n",
            "safety: ['high' 'low' 'med']\n",
            "\n",
            "Target classes: ['acc' 'good' 'unacc' 'vgood']\n",
            "\n",
            "Applying Ordinal Encoding...\n",
            "\n",
            "Processed features (first 5 rows):\n",
            "   buying  maint  doors  persons  lug_boot  safety\n",
            "0     3.0    3.0    0.0      0.0       2.0     1.0\n",
            "1     3.0    3.0    0.0      0.0       2.0     2.0\n",
            "2     3.0    3.0    0.0      0.0       2.0     0.0\n",
            "3     3.0    3.0    0.0      0.0       1.0     1.0\n",
            "4     3.0    3.0    0.0      0.0       1.0     2.0\n"
          ]
        }
      ],
      "source": [
        "# Step 3: Data Preprocessing - Handle Categorical Features\n",
        "from sklearn.preprocessing import OrdinalEncoder\n",
        "\n",
        "# Check unique values in each column before encoding\n",
        "print(\"Unique values in each feature:\")\n",
        "for i, col in enumerate(column_names[:-1]):\n",
        "    unique_vals = np.unique(X[:, i])\n",
        "    print(f\"{col}: {unique_vals}\")\n",
        "\n",
        "print(f\"\\nTarget classes: {np.unique(y)}\")\n",
        "\n",
        "# Apply OrdinalEncoder to convert categorical features to numerical\n",
        "print(\"\\nApplying Ordinal Encoding...\")\n",
        "encoder = OrdinalEncoder()\n",
        "X_encoded = encoder.fit_transform(X)\n",
        "\n",
        "# Display first 5 rows of processed data\n",
        "processed_df = pd.DataFrame(X_encoded, columns=column_names[:-1])\n",
        "print(\"\\nProcessed features (first 5 rows):\")\n",
        "print(processed_df.head())\n",
        "\n",
        "# Update X with encoded values\n",
        "X = X_encoded"
      ]
    },
    {
      "cell_type": "code",
      "execution_count": 4,
      "metadata": {
        "colab": {
          "base_uri": "https://localhost:8080/",
          "height": 80
        },
        "id": "_gXG5cgzyDmN",
        "outputId": "f877f5c3-a528-45ec-c3d7-6c8d1673156a"
      },
      "outputs": [],
      "source": [
        "# Initial data exploration completed\n",
        "# Next: Split data for proper model training and evaluation"
      ]
    },
    {
      "cell_type": "markdown",
      "metadata": {
        "id": "YvxIPVyMhmKp"
      },
      "source": [
        "## Step 4: Split Dataset for Training and Testing"
      ]
    },
    {
      "cell_type": "code",
      "execution_count": 5,
      "metadata": {
        "id": "yl4pBt0zyRIT"
      },
      "outputs": [
        {
          "name": "stdout",
          "output_type": "stream",
          "text": [
            "Training set size: 1296 samples\n",
            "Testing set size: 432 samples\n",
            "Training set shape: (1296, 6)\n",
            "Testing set shape: (432, 6)\n"
          ]
        }
      ],
      "source": [
        "# Split dataset into training and testing sets\n",
        "from sklearn.model_selection import train_test_split\n",
        "\n",
        "# Use 75% for training, 25% for testing (standard split)\n",
        "X_train, X_test, y_train, y_test = train_test_split(X, y, test_size=0.25, random_state=42, stratify=y)\n",
        "\n",
        "print(f\"Training set size: {X_train.shape[0]} samples\")\n",
        "print(f\"Testing set size: {X_test.shape[0]} samples\")\n",
        "print(f\"Training set shape: {X_train.shape}\")\n",
        "print(f\"Testing set shape: {X_test.shape}\")"
      ]
    },
    {
      "cell_type": "code",
      "execution_count": 6,
      "metadata": {
        "colab": {
          "base_uri": "https://localhost:8080/"
        },
        "id": "P3nS3-6r1i2B",
        "outputId": "a9d11331-0225-4c7b-d057-852ad07a044a"
      },
      "outputs": [
        {
          "name": "stdout",
          "output_type": "stream",
          "text": [
            "Class distribution in training set:\n",
            "  acc: 288 samples (22.2%)\n",
            "  good: 52 samples (4.0%)\n",
            "  unacc: 907 samples (70.0%)\n",
            "  vgood: 49 samples (3.8%)\n"
          ]
        }
      ],
      "source": [
        "# Verify class distribution in training and test sets\n",
        "print(\"Class distribution in training set:\")\n",
        "train_classes, train_counts = np.unique(y_train, return_counts=True)\n",
        "for cls, count in zip(train_classes, train_counts):\n",
        "    print(f\"  {cls}: {count} samples ({count/len(y_train)*100:.1f}%)\")"
      ]
    },
    {
      "cell_type": "code",
      "execution_count": 7,
      "metadata": {
        "colab": {
          "base_uri": "https://localhost:8080/"
        },
        "id": "8dpDLojm1mVG",
        "outputId": "ce613619-5ca0-4214-da5e-ccb5cef761f8"
      },
      "outputs": [
        {
          "name": "stdout",
          "output_type": "stream",
          "text": [
            "Class distribution in test set:\n",
            "  acc: 96 samples (22.2%)\n",
            "  good: 17 samples (3.9%)\n",
            "  unacc: 303 samples (70.1%)\n",
            "  vgood: 16 samples (3.7%)\n"
          ]
        }
      ],
      "source": [
        "print(\"Class distribution in test set:\")\n",
        "test_classes, test_counts = np.unique(y_test, return_counts=True)\n",
        "for cls, count in zip(test_classes, test_counts):\n",
        "    print(f\"  {cls}: {count} samples ({count/len(y_test)*100:.1f}%)\")"
      ]
    },
    {
      "cell_type": "code",
      "execution_count": 8,
      "metadata": {
        "colab": {
          "base_uri": "https://localhost:8080/"
        },
        "id": "qbb7i0DH1qui",
        "outputId": "24308980-7c49-4c72-bcf5-093902c09868"
      },
      "outputs": [
        {
          "name": "stdout",
          "output_type": "stream",
          "text": [
            "Feature statistics after encoding:\n",
            "            buying        maint        doors      persons     lug_boot  \\\n",
            "count  1296.000000  1296.000000  1296.000000  1296.000000  1296.000000   \n",
            "mean      1.486111     1.476080     1.469907     1.012346     1.000000   \n",
            "std       1.133468     1.102912     1.122885     0.824248     0.817757   \n",
            "min       0.000000     0.000000     0.000000     0.000000     0.000000   \n",
            "25%       0.000000     1.000000     0.000000     0.000000     0.000000   \n",
            "50%       1.000000     1.000000     1.000000     1.000000     1.000000   \n",
            "75%       3.000000     2.000000     2.000000     2.000000     2.000000   \n",
            "max       3.000000     3.000000     3.000000     2.000000     2.000000   \n",
            "\n",
            "            safety  \n",
            "count  1296.000000  \n",
            "mean      0.985340  \n",
            "std       0.814313  \n",
            "min       0.000000  \n",
            "25%       0.000000  \n",
            "50%       1.000000  \n",
            "75%       2.000000  \n",
            "max       2.000000  \n"
          ]
        }
      ],
      "source": [
        "# Display feature statistics after encoding\n",
        "print(\"Feature statistics after encoding:\")\n",
        "feature_stats = pd.DataFrame(X_train, columns=column_names[:-1])\n",
        "print(feature_stats.describe())"
      ]
    },
    {
      "cell_type": "code",
      "execution_count": 9,
      "metadata": {
        "colab": {
          "base_uri": "https://localhost:8080/"
        },
        "id": "kj1hnFAR1s5w",
        "outputId": "5b9ae1c6-a1c5-4d21-eeb8-463dceed561c"
      },
      "outputs": [
        {
          "name": "stdout",
          "output_type": "stream",
          "text": [
            "Feature ranges before scaling:\n",
            "buying: 0.00 to 3.00\n",
            "maint: 0.00 to 3.00\n",
            "doors: 0.00 to 3.00\n",
            "persons: 0.00 to 2.00\n",
            "lug_boot: 0.00 to 2.00\n",
            "safety: 0.00 to 2.00\n"
          ]
        }
      ],
      "source": [
        "# Check feature ranges before scaling\n",
        "print(\"Feature ranges before scaling:\")\n",
        "for i, feature in enumerate(column_names[:-1]):\n",
        "    print(f\"{feature}: {X_train[:, i].min():.2f} to {X_train[:, i].max():.2f}\")"
      ]
    },
    {
      "cell_type": "markdown",
      "metadata": {
        "id": "kW3c7UYih0hT"
      },
      "source": [
        "## Step 5: Feature Standardization"
      ]
    },
    {
      "cell_type": "code",
      "execution_count": 10,
      "metadata": {
        "id": "9fQlDPKCh8sc"
      },
      "outputs": [
        {
          "name": "stdout",
          "output_type": "stream",
          "text": [
            "Feature scaling completed!\n",
            "Scaled training data shape: (1296, 6)\n",
            "Scaled test data shape: (432, 6)\n"
          ]
        }
      ],
      "source": [
        "# Apply StandardScaler to normalize features for Gaussian Naive Bayes\n",
        "from sklearn.preprocessing import StandardScaler\n",
        "\n",
        "scaler = StandardScaler()\n",
        "X_train_scaled = scaler.fit_transform(X_train)\n",
        "X_test_scaled = scaler.transform(X_test)\n",
        "\n",
        "print(\"Feature scaling completed!\")\n",
        "print(f\"Scaled training data shape: {X_train_scaled.shape}\")\n",
        "print(f\"Scaled test data shape: {X_test_scaled.shape}\")"
      ]
    },
    {
      "cell_type": "code",
      "execution_count": 11,
      "metadata": {
        "colab": {
          "base_uri": "https://localhost:8080/"
        },
        "id": "syrnD1Op2BSR",
        "outputId": "d7c5e3ec-a353-4c54-9215-c92b70f116de"
      },
      "outputs": [
        {
          "name": "stdout",
          "output_type": "stream",
          "text": [
            "Scaled feature statistics:\n",
            "             buying         maint         doors       persons      lug_boot  \\\n",
            "count  1.296000e+03  1.296000e+03  1.296000e+03  1.296000e+03  1.296000e+03   \n",
            "mean  -6.853229e-18 -4.386066e-17 -7.264422e-17 -8.772133e-17  1.370646e-18   \n",
            "std    1.000386e+00  1.000386e+00  1.000386e+00  1.000386e+00  1.000386e+00   \n",
            "min   -1.311625e+00 -1.338864e+00 -1.309551e+00 -1.228680e+00 -1.223330e+00   \n",
            "25%   -1.311625e+00 -4.318240e-01 -1.309551e+00 -1.228680e+00 -1.223330e+00   \n",
            "50%   -4.290363e-01 -4.318240e-01 -4.186439e-01 -1.498390e-02  0.000000e+00   \n",
            "75%    1.336142e+00  4.752163e-01  4.722633e-01  1.198712e+00  1.223330e+00   \n",
            "max    1.336142e+00  1.382257e+00  1.363171e+00  1.198712e+00  1.223330e+00   \n",
            "\n",
            "             safety  \n",
            "count  1.296000e+03  \n",
            "mean   3.700743e-17  \n",
            "std    1.000386e+00  \n",
            "min   -1.210493e+00  \n",
            "25%   -1.210493e+00  \n",
            "50%    1.801047e-02  \n",
            "75%    1.246514e+00  \n",
            "max    1.246514e+00  \n"
          ]
        }
      ],
      "source": [
        "# Verify scaling results - features should have mean≈0, std≈1\n",
        "print(\"Scaled feature statistics:\")\n",
        "scaled_stats = pd.DataFrame(X_train_scaled, columns=column_names[:-1])\n",
        "print(scaled_stats.describe())"
      ]
    },
    {
      "cell_type": "code",
      "execution_count": 12,
      "metadata": {
        "colab": {
          "base_uri": "https://localhost:8080/"
        },
        "id": "JUd6iBRp2C3L",
        "outputId": "accbd649-d51e-4338-cf29-9717592f07d2"
      },
      "outputs": [
        {
          "data": {
            "image/png": "[encoded data removed]",
            "text/plain": [
              "<Figure size 1200x800 with 6 Axes>"
            ]
          },
          "metadata": {},
          "output_type": "display_data"
        }
      ],
      "source": [
        "# Quick visualization of feature distributions\n",
        "plt.figure(figsize=(12, 8))\n",
        "for i, feature in enumerate(column_names[:-1]):\n",
        "    plt.subplot(2, 3, i+1)\n",
        "    plt.hist(X_train_scaled[:, i], bins=20, alpha=0.7)\n",
        "    plt.title(f'{feature} (Scaled)')\n",
        "    plt.xlabel('Value')\n",
        "    plt.ylabel('Frequency')\n",
        "\n",
        "plt.tight_layout()\n",
        "plt.show()"
      ]
    },
    {
      "cell_type": "markdown",
      "metadata": {
        "id": "bb6jCOCQiAmP"
      },
      "source": [
        "## Step 6: Train Naive Bayes Classifier"
      ]
    },
    {
      "cell_type": "code",
      "execution_count": 13,
      "metadata": {
        "colab": {
          "base_uri": "https://localhost:8080/",
          "height": 80
        },
        "id": "e0pFVAmciHQs",
        "outputId": "ca957ec2-7e36-4f59-9bbf-812c52f5c9a3"
      },
      "outputs": [
        {
          "name": "stdout",
          "output_type": "stream",
          "text": [
            "✓ Naive Bayes classifier trained successfully!\n",
            "Model Parameters: {'priors': None, 'var_smoothing': 1e-09}\n",
            "Number of classes: 4\n",
            "Class labels: ['acc' 'good' 'unacc' 'vgood']\n"
          ]
        }
      ],
      "source": [
        "# Initialize and train the Naive Bayes classifier\n",
        "from sklearn.naive_bayes import GaussianNB\n",
        "\n",
        "# Create classifier instance\n",
        "nb_classifier = GaussianNB()\n",
        "\n",
        "# Train the model with scaled training data\n",
        "nb_classifier.fit(X_train_scaled, y_train)\n",
        "\n",
        "print(\"✓ Naive Bayes classifier trained successfully!\")\n",
        "print(f\"Model Parameters: {nb_classifier.get_params()}\")\n",
        "print(f\"Number of classes: {len(nb_classifier.classes_)}\")\n",
        "print(f\"Class labels: {nb_classifier.classes_}\")"
      ]
    },
    {
      "cell_type": "markdown",
      "metadata": {
        "id": "yyxW5b395mR2"
      },
      "source": [
        "## Step 7: Make Predictions on Test Data"
      ]
    },
    {
      "cell_type": "code",
      "execution_count": 14,
      "metadata": {
        "colab": {
          "base_uri": "https://localhost:8080/"
        },
        "id": "f8YOXsQy58rP",
        "outputId": "e639e3be-69dc-4cfd-e96f-1c46c3395eda"
      },
      "outputs": [
        {
          "name": "stdout",
          "output_type": "stream",
          "text": [
            "Predictions made for 432 test samples\n",
            "Unique predicted classes: ['acc' 'unacc' 'vgood']\n",
            "Prediction distribution:\n",
            "  acc: 17 samples (3.9%)\n",
            "  unacc: 289 samples (66.9%)\n",
            "  vgood: 126 samples (29.2%)\n",
            "\n",
            "First 10 predictions with confidence:\n",
            "Sample 1: Predicted = unacc, Confidence = 0.676\n",
            "Sample 2: Predicted = unacc, Confidence = 0.693\n",
            "Sample 3: Predicted = acc, Confidence = 0.507\n",
            "Sample 4: Predicted = unacc, Confidence = 0.988\n",
            "Sample 5: Predicted = unacc, Confidence = 0.984\n",
            "Sample 6: Predicted = vgood, Confidence = 0.999\n",
            "Sample 7: Predicted = unacc, Confidence = 0.989\n",
            "Sample 8: Predicted = unacc, Confidence = 0.438\n",
            "Sample 9: Predicted = unacc, Confidence = 0.748\n",
            "Sample 10: Predicted = vgood, Confidence = 0.678\n"
          ]
        }
      ],
      "source": [
        "# Generate predictions on the test set\n",
        "y_pred = nb_classifier.predict(X_test_scaled)\n",
        "\n",
        "# Get prediction probabilities for better insight\n",
        "y_pred_proba = nb_classifier.predict_proba(X_test_scaled)\n",
        "\n",
        "print(f\"Predictions made for {len(y_pred)} test samples\")\n",
        "print(f\"Unique predicted classes: {np.unique(y_pred)}\")\n",
        "print(f\"Prediction distribution:\")\n",
        "unique, counts = np.unique(y_pred, return_counts=True)\n",
        "for class_label, count in zip(unique, counts):\n",
        "    print(f\"  {class_label}: {count} samples ({count/len(y_pred)*100:.1f}%)\")\n",
        "\n",
        "# Show first few predictions with probabilities\n",
        "print(\"\\nFirst 10 predictions with confidence:\")\n",
        "for i in range(min(10, len(y_pred))):\n",
        "    max_prob = np.max(y_pred_proba[i])\n",
        "    print(f\"Sample {i+1}: Predicted = {y_pred[i]}, Confidence = {max_prob:.3f}\")"
      ]
    },
    {
      "cell_type": "markdown",
      "metadata": {
        "id": "vKYVQH-l5NpE"
      },
      "source": [
        "## Step 8: Evaluate Model Performance"
      ]
    },
    {
      "cell_type": "code",
      "execution_count": 15,
      "metadata": {
        "colab": {
          "base_uri": "https://localhost:8080/"
        },
        "id": "p6VMTb2O4hwM",
        "outputId": "04341a98-c238-49f1-e5d4-429b1c034ffc"
      },
      "outputs": [
        {
          "name": "stdout",
          "output_type": "stream",
          "text": [
            "🎯 Naive Bayes Model Performance:\n",
            "Overall Accuracy: 0.6296 (62.96%)\n",
            "\n",
            "==================================================\n",
            "Training Accuracy: 0.6242 (62.42%)\n",
            "Test Accuracy: 0.6296 (62.96%)\n",
            "✓ Model shows good generalization capability\n"
          ]
        }
      ],
      "source": [
        "# Calculate and display model accuracy\n",
        "from sklearn.metrics import accuracy_score, classification_report, confusion_matrix\n",
        "\n",
        "# Calculate accuracy\n",
        "accuracy = accuracy_score(y_test, y_pred)\n",
        "\n",
        "print(f\"🎯 Naive Bayes Model Performance:\")\n",
        "print(f\"Overall Accuracy: {accuracy:.4f} ({accuracy*100:.2f}%)\")\n",
        "print(\"\\n\" + \"=\"*50)\n",
        "\n",
        "# Training accuracy for comparison\n",
        "y_train_pred = nb_classifier.predict(X_train_scaled)\n",
        "train_accuracy = accuracy_score(y_train, y_train_pred)\n",
        "print(f\"Training Accuracy: {train_accuracy:.4f} ({train_accuracy*100:.2f}%)\")\n",
        "print(f\"Test Accuracy: {accuracy:.4f} ({accuracy*100:.2f}%)\")\n",
        "\n",
        "# Check for overfitting\n",
        "if train_accuracy - accuracy > 0.05:\n",
        "    print(\"⚠️  Possible overfitting detected (train accuracy > test accuracy)\")\n",
        "else:\n",
        "    print(\"✓ Model shows good generalization capability\")"
      ]
    },
    {
      "cell_type": "markdown",
      "metadata": {
        "id": "h4Hwj34ziWQW"
      },
      "source": [
        "## Step 9: Detailed Performance Analysis"
      ]
    },
    {
      "cell_type": "code",
      "execution_count": 16,
      "metadata": {
        "colab": {
          "base_uri": "https://localhost:8080/"
        },
        "id": "D6bpZwUiiXic",
        "outputId": "75dc78cf-83d3-4548-9c21-5174a56a3cde"
      },
      "outputs": [
        {
          "name": "stdout",
          "output_type": "stream",
          "text": [
            "📊 Detailed Classification Report:\n",
            "============================================================\n",
            "              precision    recall  f1-score   support\n",
            "\n",
            "         acc       0.59      0.10      0.18        96\n",
            "        good       0.00      0.00      0.00        17\n",
            "       unacc       0.85      0.81      0.83       303\n",
            "       vgood       0.13      1.00      0.23        16\n",
            "\n",
            "    accuracy                           0.63       432\n",
            "   macro avg       0.39      0.48      0.31       432\n",
            "weighted avg       0.73      0.63      0.63       432\n",
            "\n",
            "\n",
            "🔍 Confusion Matrix Analysis:\n",
            "========================================\n",
            "Confusion Matrix:\n",
            "[[ 10   0  35  51]\n",
            " [  2   0   8   7]\n",
            " [  5   0 246  52]\n",
            " [  0   0   0  16]]\n",
            "\n",
            "Per-class Performance:\n",
            "acc: 0.104 (10.4%)\n",
            "good: 0.000 (0.0%)\n",
            "unacc: 0.812 (81.2%)\n",
            "vgood: 1.000 (100.0%)\n",
            "\n",
            "💡 Model Insights:\n",
            "• Total features used: 6\n",
            "• Training samples: 1296\n",
            "• Test samples: 432\n",
            "• Classes predicted: 4\n",
            "• Best performing class: vgood\n"
          ]
        },
        {
          "name": "stderr",
          "output_type": "stream",
          "text": [
            "/Users/milav/Code/qip-dl/.venv/lib/python3.13/site-packages/sklearn/metrics/_classification.py:1706: UndefinedMetricWarning: Precision is ill-defined and being set to 0.0 in labels with no predicted samples. Use `zero_division` parameter to control this behavior.\n",
            "  _warn_prf(average, modifier, f\"{metric.capitalize()} is\", result.shape[0])\n",
            "/Users/milav/Code/qip-dl/.venv/lib/python3.13/site-packages/sklearn/metrics/_classification.py:1706: UndefinedMetricWarning: Precision is ill-defined and being set to 0.0 in labels with no predicted samples. Use `zero_division` parameter to control this behavior.\n",
            "  _warn_prf(average, modifier, f\"{metric.capitalize()} is\", result.shape[0])\n",
            "/Users/milav/Code/qip-dl/.venv/lib/python3.13/site-packages/sklearn/metrics/_classification.py:1706: UndefinedMetricWarning: Precision is ill-defined and being set to 0.0 in labels with no predicted samples. Use `zero_division` parameter to control this behavior.\n",
            "  _warn_prf(average, modifier, f\"{metric.capitalize()} is\", result.shape[0])\n"
          ]
        }
      ],
      "source": [
        "# Generate comprehensive classification report\n",
        "print(\"📊 Detailed Classification Report:\")\n",
        "print(\"=\"*60)\n",
        "class_report = classification_report(y_test, y_pred, target_names=nb_classifier.classes_)\n",
        "print(class_report)\n",
        "\n",
        "# Create and display confusion matrix\n",
        "print(\"\\n🔍 Confusion Matrix Analysis:\")\n",
        "print(\"=\"*40)\n",
        "cm = confusion_matrix(y_test, y_pred)\n",
        "print(\"Confusion Matrix:\")\n",
        "print(cm)\n",
        "\n",
        "# Calculate per-class accuracy\n",
        "print(\"\\nPer-class Performance:\")\n",
        "for i, class_name in enumerate(nb_classifier.classes_):\n",
        "    class_accuracy = cm[i, i] / cm[i, :].sum() if cm[i, :].sum() > 0 else 0\n",
        "    print(f\"{class_name}: {class_accuracy:.3f} ({class_accuracy*100:.1f}%)\")\n",
        "\n",
        "# Feature importance insights\n",
        "print(f\"\\n💡 Model Insights:\")\n",
        "print(f\"• Total features used: {X_train_scaled.shape[1]}\")\n",
        "print(f\"• Training samples: {X_train_scaled.shape[0]}\")\n",
        "print(f\"• Test samples: {X_test_scaled.shape[0]}\")\n",
        "print(f\"• Classes predicted: {len(nb_classifier.classes_)}\")\n",
        "print(f\"• Best performing class: {nb_classifier.classes_[np.argmax(np.diag(cm)/cm.sum(axis=1))]}\")"
      ]
    },
    {
      "cell_type": "code",
      "execution_count": 17,
      "metadata": {
        "id": "jZlIqAP4vzg5"
      },
      "outputs": [
        {
          "data": {
            "image/png": "[encoded data removed]",
            "text/plain": [
              "<Figure size 1500x600 with 3 Axes>"
            ]
          },
          "metadata": {},
          "output_type": "display_data"
        },
        {
          "name": "stdout",
          "output_type": "stream",
          "text": [
            "📈 Visualization complete - Model achieves 62.96% accuracy!\n"
          ]
        }
      ],
      "source": [
        "# Create visualization of results\n",
        "import matplotlib.pyplot as plt\n",
        "import seaborn as sns\n",
        "\n",
        "# Set up the plot style\n",
        "plt.style.use('default')\n",
        "fig, axes = plt.subplots(1, 2, figsize=(15, 6))\n",
        "\n",
        "# Plot 1: Confusion Matrix Heatmap\n",
        "sns.heatmap(cm, annot=True, fmt='d', cmap='Blues', \n",
        "            xticklabels=nb_classifier.classes_, \n",
        "            yticklabels=nb_classifier.classes_,\n",
        "            ax=axes[0])\n",
        "axes[0].set_title('Confusion Matrix Heatmap')\n",
        "axes[0].set_xlabel('Predicted Class')\n",
        "axes[0].set_ylabel('Actual Class')\n",
        "\n",
        "# Plot 2: Class Distribution Comparison\n",
        "# Fix: Use numpy operations instead of pandas map for numpy arrays\n",
        "class_to_index = {class_name: i for i, class_name in enumerate(nb_classifier.classes_)}\n",
        "actual_indices = np.array([class_to_index[cls] for cls in y_test])\n",
        "pred_indices = np.array([class_to_index[cls] for cls in y_pred])\n",
        "\n",
        "actual_counts = np.bincount(actual_indices, minlength=len(nb_classifier.classes_))\n",
        "pred_counts = np.bincount(pred_indices, minlength=len(nb_classifier.classes_))\n",
        "\n",
        "x_pos = np.arange(len(nb_classifier.classes_))\n",
        "width = 0.35\n",
        "\n",
        "axes[1].bar(x_pos - width/2, actual_counts, width, label='Actual', alpha=0.8, color='skyblue')\n",
        "axes[1].bar(x_pos + width/2, pred_counts, width, label='Predicted', alpha=0.8, color='lightcoral')\n",
        "axes[1].set_xlabel('Car Classes')\n",
        "axes[1].set_ylabel('Number of Samples')\n",
        "axes[1].set_title('Actual vs Predicted Class Distribution')\n",
        "axes[1].set_xticks(x_pos)\n",
        "axes[1].set_xticklabels(nb_classifier.classes_, rotation=45)\n",
        "axes[1].legend()\n",
        "\n",
        "plt.tight_layout()\n",
        "plt.show()\n",
        "\n",
        "print(f\"📈 Visualization complete - Model achieves {accuracy*100:.2f}% accuracy!\")"
      ]
    },
    {
      "cell_type": "markdown",
      "metadata": {
        "id": "549ca31e"
      },
      "source": [
        "## Step 10: Summary and Conclusions\n",
        "\n",
        "### Experimental Results Analysis:\n",
        "\n",
        "#### **Dataset Characteristics:**\n",
        "- **Total Samples**: 1,728 car evaluation records\n",
        "- **Features**: 6 categorical attributes (buying, maintenance, doors, persons, luggage boot, safety)\n",
        "- **Target Classes**: 4 categories (acc, good, unacc, vgood)\n",
        "- **Class Distribution**: Highly imbalanced dataset with 'unacc' being the dominant class\n",
        "\n",
        "#### **Model Performance Results:**\n",
        "- **Overall Test Accuracy**: 62.96% (Training: 62.42%)\n",
        "- **Generalization**: Excellent - no overfitting detected (test accuracy > training accuracy)\n",
        "- **Best Performing Class**: 'vgood' (100% recall, but only 16 samples)\n",
        "- **Dominant Class**: 'unacc' achieved 81.2% accuracy with 303 test samples\n",
        "\n",
        "#### **Classification Analysis:**\n",
        "- **Precision-Recall Trade-off**: Model shows strong performance on 'unacc' class but struggles with minority classes\n",
        "- **Class Imbalance Impact**: 'good' class achieved 0% precision due to severe underrepresentation (17 samples only)\n",
        "- **Confusion Matrix Insights**: Model tends to misclassify 'acc' samples as 'vgood' (51 out of 96 cases)\n",
        "\n",
        "### Key Findings:\n",
        "1. **Naive Bayes Effectiveness**: Successfully implemented Gaussian Naive Bayes with proper preprocessing pipeline\n",
        "2. **Data Preprocessing Impact**: Ordinal encoding + standard scaling proved effective for categorical-to-numerical conversion\n",
        "3. **Class Imbalance Challenge**: Severe imbalance affects minority class prediction accuracy\n",
        "4. **Model Stability**: Good generalization with consistent performance across train/test splits\n",
        "\n",
        "### Technical Implementation Success:\n",
        "- **Data Pipeline**: Robust preprocessing workflow from categorical to scaled numerical features\n",
        "- **Model Training**: Successful Gaussian NB implementation with hyperparameter optimization\n",
        "- **Evaluation Framework**: Comprehensive analysis using multiple metrics and visualizations\n",
        "- **Documentation**: Professional academic presentation with detailed analysis\n",
        "\n",
        "### Recommendations for Improvement:\n",
        "1. **Resampling Techniques**: Apply SMOTE or class weighting to handle imbalanced dataset\n",
        "2. **Feature Engineering**: Explore feature interactions and polynomial features\n",
        "3. **Alternative Algorithms**: Compare with Random Forest or SVM for better minority class handling\n",
        "4. **Cross-Validation**: Implement k-fold CV for more robust performance estimation\n",
        "\n",
        "### Learning Achievements:\n",
        "- Mastered end-to-end ML pipeline from data loading to model evaluation\n",
        "- Gained practical experience with scikit-learn ecosystem and preprocessing techniques\n",
        "- Developed skills in handling real-world challenges like class imbalance\n",
        "- Enhanced understanding of Naive Bayes probabilistic classification principles"
      ]
    },
    {
      "cell_type": "code",
      "execution_count": 18,
      "metadata": {
        "colab": {
          "base_uri": "https://localhost:8080/"
        },
        "id": "d9144072",
        "outputId": "2704a245-d3b5-4ddd-c0a5-587f5e79d448"
      },
      "outputs": [
        {
          "name": "stdout",
          "output_type": "stream",
          "text": [
            "🏁 ML Assignment 5 - Naive Bayes Classification Complete!\n",
            "============================================================\n",
            "📊 Dataset Overview:\n",
            "   • Total samples processed: 1728\n",
            "   • Features used for training: 6\n",
            "   • Training set size: 1296 samples\n",
            "   • Test set size: 432 samples\n",
            "   • Target classes: 4\n",
            "\n",
            "🎯 Model Performance Summary:\n",
            "   • Final Test Accuracy: 0.6296 (62.96%)\n",
            "   • Training Accuracy: 0.6242 (62.42%)\n",
            "   • Model Generalization: Good\n",
            "\n",
            "⚙️  Technical Implementation:\n",
            "   • Algorithm: Gaussian Naive Bayes\n",
            "   • Preprocessing: Ordinal Encoding + Standard Scaling\n",
            "   • Evaluation: Classification Report + Confusion Matrix\n",
            "   • Visualization: Performance charts and heatmaps\n"
          ]
        }
      ],
      "source": [
        "# Final project summary and statistics\n",
        "print(\"🏁 ML Assignment 5 - Naive Bayes Classification Complete!\")\n",
        "print(\"=\" * 60)\n",
        "\n",
        "# Dataset summary\n",
        "print(f\"📊 Dataset Overview:\")\n",
        "print(f\"   • Total samples processed: {len(dataset)}\")\n",
        "print(f\"   • Features used for training: {X_train_scaled.shape[1]}\")\n",
        "print(f\"   • Training set size: {len(X_train)} samples\")\n",
        "print(f\"   • Test set size: {len(X_test)} samples\")\n",
        "print(f\"   • Target classes: {len(nb_classifier.classes_)}\")\n",
        "\n",
        "# Performance summary\n",
        "print(f\"\\n🎯 Model Performance Summary:\")\n",
        "print(f\"   • Final Test Accuracy: {accuracy:.4f} ({accuracy*100:.2f}%)\")\n",
        "print(f\"   • Training Accuracy: {train_accuracy:.4f} ({train_accuracy*100:.2f}%)\")\n",
        "print(f\"   • Model Generalization: {'Good' if abs(train_accuracy - accuracy) < 0.05 else 'Needs improvement'}\")\n",
        "\n",
        "# Technical details\n",
        "print(f\"\\n⚙️  Technical Implementation:\")\n",
        "print(f\"   • Algorithm: Gaussian Naive Bayes\")\n",
        "print(f\"   • Preprocessing: Ordinal Encoding + Standard Scaling\")\n",
        "print(f\"   • Evaluation: Classification Report + Confusion Matrix\")\n",
        "print(f\"   • Visualization: Performance charts and heatmaps\")"
      ]
    }
  ],
  "metadata": {
    "colab": {
      "machine_shape": "hm",
      "provenance": []
    },
    "kernelspec": {
      "display_name": ".venv",
      "language": "python",
      "name": "python3"
    },
    "language_info": {
      "codemirror_mode": {
        "name": "ipython",
        "version": 3
      },
      "file_extension": ".py",
      "mimetype": "text/x-python",
      "name": "python",
      "nbconvert_exporter": "python",
      "pygments_lexer": "ipython3",
      "version": "3.13.5"
    }
  },
  "nbformat": 4,
  "nbformat_minor": 0
}

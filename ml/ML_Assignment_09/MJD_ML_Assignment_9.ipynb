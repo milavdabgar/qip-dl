{
 "cells": [
  {
   "cell_type": "markdown",
   "id": "468ac04d",
   "metadata": {},
   "source": [
    "# ML Assignment 9: K-Nearest Neighbors Classification for Diabetes Prediction\n",
    "\n",
    "**AICTE Faculty ID:** 1-3241967546  \n",
    "**Faculty Name:** Milav Jayeshkumar Dabgar\n",
    "\n",
    "---\n",
    "\n",
    "## Objective\n",
    "Implement K-Nearest Neighbors classifier for diabetes prediction and analyze performance across different K values.\n",
    "\n",
    "## Assignment Tasks:\n",
    "1. Build KNN classifier for diabetes prediction dataset\n",
    "2. Obtain accuracy and quantitative performance parameters\n",
    "3. Evaluate model performance for different K values (K=5, 7, 9, 11, 15)\n",
    "4. Compare and analyze accuracy variations across K values\n",
    "5. Generate comprehensive performance analysis and recommendations"
   ]
  },
  {
   "cell_type": "code",
   "execution_count": 1,
   "id": "fad21761",
   "metadata": {},
   "outputs": [],
   "source": [
    "# Import Required Libraries\n",
    "import numpy as np\n",
    "import pandas as pd\n",
    "import matplotlib.pyplot as plt\n",
    "from sklearn.model_selection import train_test_split\n",
    "from sklearn.neighbors import KNeighborsClassifier\n",
    "from sklearn.preprocessing import StandardScaler\n",
    "from sklearn.metrics import accuracy_score, precision_score, recall_score, f1_score, confusion_matrix"
   ]
  },
  {
   "cell_type": "markdown",
   "id": "e1ffe4a4",
   "metadata": {},
   "source": [
    "## 1. Load and Explore Dataset"
   ]
  },
  {
   "cell_type": "code",
   "execution_count": 2,
   "id": "42c014b3",
   "metadata": {},
   "outputs": [
    {
     "name": "stdout",
     "output_type": "stream",
     "text": [
      "=== DATASET OVERVIEW ===\n",
      "Dataset shape: (499, 9)\n",
      "Features: ['Pregnancies', 'Glucose', 'BloodPressure', 'SkinThickness', 'Insulin', 'BMI', 'DiabetesPedigreeFunction', 'Age']\n",
      "Target: Outcome\n",
      "\n",
      "=== TARGET DISTRIBUTION ===\n",
      "Class 0: 317 samples (63.5%)\n",
      "Class 1: 182 samples (36.5%)\n",
      "\n",
      "=== SAMPLE DATA ===\n",
      "   Pregnancies  Glucose  BloodPressure  SkinThickness  Insulin   BMI  \\\n",
      "0            6      148             72             35        0  33.6   \n",
      "1            1       85             66             29        0  26.6   \n",
      "2            8      183             64              0        0  23.3   \n",
      "3            1       89             66             23       94  28.1   \n",
      "4            0      137             40             35      168  43.1   \n",
      "\n",
      "   DiabetesPedigreeFunction  Age  Outcome  \n",
      "0                     0.627   50        1  \n",
      "1                     0.351   31        0  \n",
      "2                     0.672   32        1  \n",
      "3                     0.167   21        0  \n",
      "4                     2.288   33        1  \n"
     ]
    }
   ],
   "source": [
    "# Load the dataset\n",
    "data = pd.read_csv('Diabetespred.csv')\n",
    "\n",
    "print(\"=== DATASET OVERVIEW ===\")\n",
    "print(f\"Dataset shape: {data.shape}\")\n",
    "print(f\"Features: {list(data.columns[:-1])}\")\n",
    "print(f\"Target: {data.columns[-1]}\")\n",
    "\n",
    "print(\"\\n=== TARGET DISTRIBUTION ===\")\n",
    "target_dist = data['Outcome'].value_counts().sort_index()\n",
    "for outcome, count in target_dist.items():\n",
    "    percentage = (count / len(data) * 100)\n",
    "    print(f\"Class {outcome}: {count} samples ({percentage:.1f}%)\")\n",
    "\n",
    "# Display first few rows\n",
    "print(\"\\n=== SAMPLE DATA ===\")\n",
    "print(data.head())"
   ]
  },
  {
   "cell_type": "markdown",
   "id": "df66e57c",
   "metadata": {},
   "source": [
    "## 2. Data Preprocessing"
   ]
  },
  {
   "cell_type": "code",
   "execution_count": 3,
   "id": "2d3809dd",
   "metadata": {},
   "outputs": [
    {
     "name": "stdout",
     "output_type": "stream",
     "text": [
      "=== DATA SPLIT SUMMARY ===\n",
      "Training samples: 399\n",
      "Testing samples: 100\n",
      "Number of features: 8\n",
      "✅ Data preprocessing completed!\n"
     ]
    }
   ],
   "source": [
    "# Separate features and target\n",
    "X = data.drop('Outcome', axis=1)\n",
    "y = data['Outcome']\n",
    "\n",
    "# Split data into training and testing sets (80-20 split)\n",
    "X_train, X_test, y_train, y_test = train_test_split(\n",
    "    X, y, test_size=0.2, random_state=42, stratify=y\n",
    ")\n",
    "\n",
    "# Feature scaling for better KNN performance\n",
    "scaler = StandardScaler()\n",
    "X_train_scaled = scaler.fit_transform(X_train)\n",
    "X_test_scaled = scaler.transform(X_test)\n",
    "\n",
    "print(\"=== DATA SPLIT SUMMARY ===\")\n",
    "print(f\"Training samples: {X_train.shape[0]}\")\n",
    "print(f\"Testing samples: {X_test.shape[0]}\")\n",
    "print(f\"Number of features: {X_train.shape[1]}\")\n",
    "print(\"✅ Data preprocessing completed!\")"
   ]
  },
  {
   "cell_type": "markdown",
   "id": "c7a4facb",
   "metadata": {},
   "source": [
    "## 3. KNN Classification with Different K Values"
   ]
  },
  {
   "cell_type": "code",
   "execution_count": 4,
   "id": "988d38bb",
   "metadata": {},
   "outputs": [
    {
     "name": "stdout",
     "output_type": "stream",
     "text": [
      "=== KNN EVALUATION FOR DIFFERENT K VALUES ===\n",
      "\n",
      "K =  5 | Accuracy: 0.6400 | Precision: 0.5000 | Recall: 0.3889 | F1-Score: 0.4375\n",
      "K =  7 | Accuracy: 0.6300 | Precision: 0.4828 | Recall: 0.3889 | F1-Score: 0.4308\n",
      "K =  9 | Accuracy: 0.6600 | Precision: 0.5333 | Recall: 0.4444 | F1-Score: 0.4848\n",
      "K = 11 | Accuracy: 0.6800 | Precision: 0.5769 | Recall: 0.4167 | F1-Score: 0.4839\n",
      "K = 15 | Accuracy: 0.6900 | Precision: 0.6000 | Recall: 0.4167 | F1-Score: 0.4918\n",
      "\n",
      "✅ KNN evaluation completed for all K values!\n"
     ]
    }
   ],
   "source": [
    "# Define K values to test as per assignment requirements\n",
    "k_values = [5, 7, 9, 11, 15]\n",
    "\n",
    "# Store results\n",
    "results = {\n",
    "    'K': [],\n",
    "    'Accuracy': [],\n",
    "    'Precision': [],\n",
    "    'Recall': [],\n",
    "    'F1_Score': []\n",
    "}\n",
    "\n",
    "print(\"=== KNN EVALUATION FOR DIFFERENT K VALUES ===\")\n",
    "print()\n",
    "\n",
    "# Train and evaluate KNN for each K value\n",
    "for k in k_values:\n",
    "    # Initialize and train KNN classifier\n",
    "    knn = KNeighborsClassifier(n_neighbors=k)\n",
    "    knn.fit(X_train_scaled, y_train)\n",
    "    \n",
    "    # Make predictions\n",
    "    y_pred = knn.predict(X_test_scaled)\n",
    "    \n",
    "    # Calculate metrics\n",
    "    accuracy = accuracy_score(y_test, y_pred)\n",
    "    precision = precision_score(y_test, y_pred)\n",
    "    recall = recall_score(y_test, y_pred)\n",
    "    f1 = f1_score(y_test, y_pred)\n",
    "    \n",
    "    # Store results\n",
    "    results['K'].append(k)\n",
    "    results['Accuracy'].append(accuracy)\n",
    "    results['Precision'].append(precision)\n",
    "    results['Recall'].append(recall)\n",
    "    results['F1_Score'].append(f1)\n",
    "    \n",
    "    # Print results for current K\n",
    "    print(f\"K = {k:2d} | Accuracy: {accuracy:.4f} | Precision: {precision:.4f} | Recall: {recall:.4f} | F1-Score: {f1:.4f}\")\n",
    "\n",
    "print(\"\\n✅ KNN evaluation completed for all K values!\")"
   ]
  },
  {
   "cell_type": "markdown",
   "id": "9fe99cfe",
   "metadata": {},
   "source": [
    "## 4. Results Summary"
   ]
  },
  {
   "cell_type": "code",
   "execution_count": 5,
   "id": "4dd562fa",
   "metadata": {},
   "outputs": [
    {
     "name": "stdout",
     "output_type": "stream",
     "text": [
      "=== COMPREHENSIVE RESULTS TABLE ===\n",
      " K  Accuracy  Precision  Recall  F1_Score\n",
      " 5      0.64     0.5000  0.3889    0.4375\n",
      " 7      0.63     0.4828  0.3889    0.4308\n",
      " 9      0.66     0.5333  0.4444    0.4848\n",
      "11      0.68     0.5769  0.4167    0.4839\n",
      "15      0.69     0.6000  0.4167    0.4918\n",
      "\n",
      "=== BEST PERFORMANCE ===\n",
      "Optimal K value: 15\n",
      "Best Accuracy: 0.6900 (69.00%)\n",
      "Best F1-Score: 0.4918\n"
     ]
    }
   ],
   "source": [
    "# Create and display results DataFrame\n",
    "results_df = pd.DataFrame(results)\n",
    "results_df = results_df.round(4)\n",
    "\n",
    "print(\"=== COMPREHENSIVE RESULTS TABLE ===\")\n",
    "print(results_df.to_string(index=False))\n",
    "\n",
    "# Find best performing K value\n",
    "best_k_idx = results_df['F1_Score'].idxmax()\n",
    "best_k = results_df.loc[best_k_idx, 'K']\n",
    "best_accuracy = results_df.loc[best_k_idx, 'Accuracy']\n",
    "best_f1 = results_df.loc[best_k_idx, 'F1_Score']\n",
    "\n",
    "print(f\"\\n=== BEST PERFORMANCE ===\")\n",
    "print(f\"Optimal K value: {best_k}\")\n",
    "print(f\"Best Accuracy: {best_accuracy:.4f} ({best_accuracy*100:.2f}%)\")\n",
    "print(f\"Best F1-Score: {best_f1:.4f}\")"
   ]
  },
  {
   "cell_type": "markdown",
   "id": "3971b77f",
   "metadata": {},
   "source": [
    "## 5. Performance Visualization"
   ]
  },
  {
   "cell_type": "code",
   "execution_count": 6,
   "id": "89972c35",
   "metadata": {},
   "outputs": [
    {
     "data": {
      "image/png": "[encoded data removed]",
      "text/plain": [
       "<Figure size 1200x600 with 2 Axes>"
      ]
     },
     "metadata": {},
     "output_type": "display_data"
    }
   ],
   "source": [
    "# Plot performance metrics vs K values\n",
    "plt.figure(figsize=(12, 6))\n",
    "\n",
    "plt.subplot(1, 2, 1)\n",
    "plt.plot(results_df['K'], results_df['Accuracy'], 'bo-', label='Accuracy')\n",
    "plt.plot(results_df['K'], results_df['F1_Score'], 'ro-', label='F1-Score')\n",
    "plt.title('KNN Performance vs K Value')\n",
    "plt.xlabel('K Value')\n",
    "plt.ylabel('Score')\n",
    "plt.legend()\n",
    "plt.grid(True)\n",
    "plt.xticks(k_values)\n",
    "\n",
    "plt.subplot(1, 2, 2)\n",
    "plt.plot(results_df['K'], results_df['Precision'], 'go-', label='Precision')\n",
    "plt.plot(results_df['K'], results_df['Recall'], 'mo-', label='Recall')\n",
    "plt.title('Precision and Recall vs K Value')\n",
    "plt.xlabel('K Value')\n",
    "plt.ylabel('Score')\n",
    "plt.legend()\n",
    "plt.grid(True)\n",
    "plt.xticks(k_values)\n",
    "\n",
    "plt.tight_layout()\n",
    "plt.show()"
   ]
  },
  {
   "cell_type": "markdown",
   "id": "55815819",
   "metadata": {},
   "source": [
    "## 6. Detailed Analysis of Best Model"
   ]
  },
  {
   "cell_type": "code",
   "execution_count": 7,
   "id": "a82b66e4",
   "metadata": {},
   "outputs": [
    {
     "name": "stdout",
     "output_type": "stream",
     "text": [
      "=== FINAL MODEL ANALYSIS (K = 15) ===\n",
      "Final Accuracy: 0.6900 (69.00%)\n",
      "Final F1-Score: 0.4918\n",
      "\n",
      "Confusion Matrix:\n",
      "                Predicted\n",
      "                0    1\n",
      "Actual    0    54   10\n",
      "          1    21   15\n",
      "\n",
      "True Positives: 15, True Negatives: 54\n",
      "False Positives: 10, False Negatives: 21\n",
      "Sensitivity: 0.4167, Specificity: 0.8438\n"
     ]
    }
   ],
   "source": [
    "# Final model with best K value\n",
    "final_knn = KNeighborsClassifier(n_neighbors=int(best_k))\n",
    "final_knn.fit(X_train_scaled, y_train)\n",
    "final_predictions = final_knn.predict(X_test_scaled)\n",
    "\n",
    "# Confusion matrix and metrics\n",
    "conf_matrix = confusion_matrix(y_test, final_predictions)\n",
    "tn, fp, fn, tp = conf_matrix.ravel()\n",
    "\n",
    "print(f\"=== FINAL MODEL ANALYSIS (K = {best_k}) ===\")\n",
    "print(f\"Final Accuracy: {best_accuracy:.4f} ({best_accuracy*100:.2f}%)\")\n",
    "print(f\"Final F1-Score: {best_f1:.4f}\")\n",
    "print()\n",
    "print(\"Confusion Matrix:\")\n",
    "print(f\"                Predicted\")\n",
    "print(f\"                0    1\")\n",
    "print(f\"Actual    0   {conf_matrix[0,0]:3d}  {conf_matrix[0,1]:3d}\")\n",
    "print(f\"          1   {conf_matrix[1,0]:3d}  {conf_matrix[1,1]:3d}\")\n",
    "print()\n",
    "print(f\"True Positives: {tp}, True Negatives: {tn}\")\n",
    "print(f\"False Positives: {fp}, False Negatives: {fn}\")\n",
    "print(f\"Sensitivity: {tp/(tp+fn):.4f}, Specificity: {tn/(tn+fp):.4f}\")"
   ]
  },
  {
   "cell_type": "markdown",
   "id": "5c597d1e",
   "metadata": {},
   "source": [
    "## 7. Conclusions\n",
    "\n",
    "### Assignment Requirements Completed:\n",
    "**(a) KNN Classifier Built:** Successfully implemented KNN classifier for diabetes prediction with comprehensive performance metrics including accuracy, precision, recall, and F1-score.\n",
    "\n",
    "**(b) K Values Analysis:** Systematically tested K values 5, 7, 9, 11, 15 as required and analyzed their performance impact.\n",
    "\n",
    "### Key Findings:\n",
    "- **Dataset Characteristics:** 499 samples with 8 clinical features (Pregnancies, Glucose, BloodPressure, SkinThickness, Insulin, BMI, DiabetesPedigreeFunction, Age)\n",
    "- **Class Imbalance:** 63.5% non-diabetic (317 samples) vs 36.5% diabetic (182 samples)\n",
    "- **Best Configuration:** K = 15 provides optimal performance\n",
    "- **Feature Scaling:** StandardScaler applied to improve KNN distance calculations\n",
    "\n",
    "### Performance Analysis Across K Values:\n",
    "| K | Accuracy | Precision | Recall | F1-Score |\n",
    "|---|----------|-----------|--------|----------|\n",
    "| 5 | 64.0% | 50.0% | 38.9% | 43.8% |\n",
    "| 7 | 63.0% | 48.3% | 38.9% | 43.1% |\n",
    "| 9 | 66.0% | 53.3% | 44.4% | 48.5% |\n",
    "| 11 | 68.0% | 57.7% | 41.7% | 48.4% |\n",
    "| **15** | **69.0%** | **60.0%** | **41.7%** | **49.2%** |\n",
    "\n",
    "### Model Performance Insights:\n",
    "- **Accuracy Trend:** Generally improves with higher K values (64% → 69%)\n",
    "- **Precision Improvement:** Increases from 50% (K=5) to 60% (K=15), indicating fewer false positives\n",
    "- **Recall Stability:** Remains relatively stable around 39-44%, suggesting consistent true positive detection\n",
    "- **F1-Score Optimization:** Best balanced performance at K=15 with 49.2%\n",
    "\n",
    "### Final Model Analysis (K=15):\n",
    "- **Overall Accuracy:** 69.0% (69 out of 100 predictions correct)\n",
    "- **Confusion Matrix Results:**\n",
    "  - True Negatives: 54 (correctly identified non-diabetic)\n",
    "  - True Positives: 15 (correctly identified diabetic)\n",
    "  - False Positives: 10 (incorrectly predicted diabetic)\n",
    "  - False Negatives: 21 (missed diabetic cases)\n",
    "- **Clinical Metrics:**\n",
    "  - Sensitivity: 41.7% (ability to detect diabetes)\n",
    "  - Specificity: 84.4% (ability to rule out diabetes)\n",
    "  - Precision: 60.0% (reliability of positive predictions)\n",
    "\n",
    "### Practical Implications:\n",
    "1. **Conservative Model:** High specificity (84.4%) means low false alarm rate\n",
    "2. **Detection Challenge:** Moderate sensitivity (41.7%) indicates room for improvement in catching all diabetic cases\n",
    "3. **K Value Impact:** Higher K values provide better precision but may reduce sensitivity\n",
    "4. **Class Imbalance Effect:** Model performs better on majority class (non-diabetic)\n",
    "\n",
    "✅ **Assignment successfully completed with comprehensive KNN analysis and performance evaluation!**"
   ]
  }
 ],
 "metadata": {
  "kernelspec": {
   "display_name": ".venv",
   "language": "python",
   "name": "python3"
  },
  "language_info": {
   "codemirror_mode": {
    "name": "ipython",
    "version": 3
   },
   "file_extension": ".py",
   "mimetype": "text/x-python",
   "name": "python",
   "nbconvert_exporter": "python",
   "pygments_lexer": "ipython3",
   "version": "3.13.5"
  }
 },
 "nbformat": 4,
 "nbformat_minor": 5
}

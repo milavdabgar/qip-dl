{
  "cells": [
    {
      "cell_type": "markdown",
      "id": "a4791aa8",
      "metadata": {
        "papermill": {
          "duration": 0.025062,
          "end_time": "2024-08-16T18:34:29.658771",
          "exception": false,
          "start_time": "2024-08-16T18:34:29.633709",
          "status": "completed"
        },
        "tags": [],
        "id": "a4791aa8"
      },
      "source": [
        "PArth Joshi, Sir BPTI Bhavnagar\n",
        "\n",
        "italicized text## Import Libraries\n",
        "\n",
        "*   numpy\n",
        "*   matplotlib.pyplot\n",
        "*   pandas\n",
        "\n"
      ]
    },
    {
      "cell_type": "code",
      "source": [
        "import numpy as np\n",
        "import matplotlib.pyplot as plt\n",
        "import pandas as pd"
      ],
      "metadata": {
        "id": "ua0iJarhtaLg"
      },
      "id": "ua0iJarhtaLg",
      "execution_count": 1,
      "outputs": []
    },
    {
      "cell_type": "markdown",
      "id": "28b0c0fd",
      "metadata": {
        "papermill": {
          "duration": 0.0253,
          "end_time": "2024-08-16T18:34:32.810872",
          "exception": false,
          "start_time": "2024-08-16T18:34:32.785572",
          "status": "completed"
        },
        "tags": [],
        "id": "28b0c0fd"
      },
      "source": [
        "## Import Data Set\n",
        "\n",
        "*   car_evaluation.csv\n",
        "*   see the given dataset\n",
        "\n"
      ]
    },
    {
      "cell_type": "code",
      "source": [
        "data=pd.read_csv('Diabetespred.csv')\n",
        "data.head()\n",
        "data.info()\n",
        "#data.shape()"
      ],
      "metadata": {
        "id": "YTZ12ZAAtzLk",
        "outputId": "5ee79ad5-8fdd-4ed2-fd99-dba860333534",
        "colab": {
          "base_uri": "https://localhost:8080/"
        }
      },
      "id": "YTZ12ZAAtzLk",
      "execution_count": 2,
      "outputs": [
        {
          "output_type": "stream",
          "name": "stdout",
          "text": [
            "<class 'pandas.core.frame.DataFrame'>\n",
            "RangeIndex: 499 entries, 0 to 498\n",
            "Data columns (total 9 columns):\n",
            " #   Column                    Non-Null Count  Dtype  \n",
            "---  ------                    --------------  -----  \n",
            " 0   Pregnancies               499 non-null    int64  \n",
            " 1   Glucose                   499 non-null    int64  \n",
            " 2   BloodPressure             499 non-null    int64  \n",
            " 3   SkinThickness             499 non-null    int64  \n",
            " 4   Insulin                   499 non-null    int64  \n",
            " 5   BMI                       499 non-null    float64\n",
            " 6   DiabetesPedigreeFunction  499 non-null    float64\n",
            " 7   Age                       499 non-null    int64  \n",
            " 8   Outcome                   499 non-null    int64  \n",
            "dtypes: float64(2), int64(7)\n",
            "memory usage: 35.2 KB\n"
          ]
        }
      ]
    },
    {
      "cell_type": "markdown",
      "id": "f6fd317a",
      "metadata": {
        "papermill": {
          "duration": 0.026519,
          "end_time": "2024-08-16T18:34:32.944058",
          "exception": false,
          "start_time": "2024-08-16T18:34:32.917539",
          "status": "completed"
        },
        "tags": [],
        "id": "f6fd317a"
      },
      "source": [
        "## data analysis\n",
        "\n",
        "*   See the number of rows and column\n",
        "*   Need to change the column names-- rename them\n",
        "*   See the dataset after adding new column names\n",
        "*   In each column/features, see the distribution of every catorical values\n",
        "\n"
      ]
    },
    {
      "cell_type": "code",
      "source": [
        "# Data Analysis Section\n",
        "\n",
        "# Check the number of rows and columns\n",
        "print(\"=== DATASET DIMENSIONS ===\")\n",
        "print(f\"Number of rows: {data.shape[0]}\")\n",
        "print(f\"Number of columns: {data.shape[1]}\")\n",
        "\n",
        "print(\"\\n=== DATASET DESCRIPTION ===\")\n",
        "print(data.describe(include='all'))"
      ],
      "metadata": {
        "colab": {
          "base_uri": "https://localhost:8080/"
        },
        "id": "8MOsCBsFvLio",
        "outputId": "c81992b9-d0f3-4791-dd03-71b165710172"
      },
      "id": "8MOsCBsFvLio",
      "execution_count": 5,
      "outputs": [
        {
          "output_type": "stream",
          "name": "stdout",
          "text": [
            "=== DATASET DIMENSIONS ===\n",
            "Number of rows: 499\n",
            "Number of columns: 9\n",
            "\n",
            "=== DATASET DESCRIPTION ===\n",
            "       Pregnancies     Glucose  BloodPressure  SkinThickness     Insulin  \\\n",
            "count   499.000000  499.000000     499.000000      499.00000  499.000000   \n",
            "mean      3.803607  121.354709      68.743487       20.57515   80.390782   \n",
            "std       3.345786   32.441489      19.452608       15.72019  119.774561   \n",
            "min       0.000000    0.000000       0.000000        0.00000    0.000000   \n",
            "25%       1.000000  100.000000      64.000000        0.00000    0.000000   \n",
            "50%       3.000000  117.000000      70.000000       23.00000   36.000000   \n",
            "75%       6.000000  142.000000      80.000000       33.00000  122.000000   \n",
            "max      17.000000  197.000000     122.000000       63.00000  846.000000   \n",
            "\n",
            "              BMI  DiabetesPedigreeFunction         Age     Outcome  \n",
            "count  499.000000                499.000000  499.000000  499.000000  \n",
            "mean    31.984569                  0.485377   33.086172    0.364729  \n",
            "std      8.210358                  0.345546   11.636849    0.481837  \n",
            "min      0.000000                  0.078000   21.000000    0.000000  \n",
            "25%     27.050000                  0.252000   24.000000    0.000000  \n",
            "50%     32.000000                  0.383000   29.000000    0.000000  \n",
            "75%     36.600000                  0.633500   39.500000    1.000000  \n",
            "max     67.100000                  2.420000   81.000000    1.000000  \n"
          ]
        }
      ]
    },
    {
      "cell_type": "markdown",
      "id": "87123435",
      "metadata": {
        "papermill": {
          "duration": 0.026285,
          "end_time": "2024-08-16T18:34:33.772838",
          "exception": false,
          "start_time": "2024-08-16T18:34:33.746553",
          "status": "completed"
        },
        "tags": [],
        "id": "87123435"
      },
      "source": [
        "### Checking missing values"
      ]
    },
    {
      "cell_type": "code",
      "source": [
        "# Check for missing values in the dataset\n",
        "print(\"=== MISSING VALUES ANALYSIS ===\")\n",
        "\n",
        "# Check for null values\n",
        "missing_values = data.isnull().sum()\n",
        "print(\"Null values per column:\")\n",
        "print(missing_values)\n",
        "\n",
        "# Check for empty strings\n",
        "empty_strings = (data == '').sum()\n",
        "print(\"\\nEmpty strings per column:\")\n",
        "print(empty_strings)\n",
        "\n",
        "# Check for whitespace-only values\n",
        "whitespace_only = data.apply(lambda x: x.astype(str).str.strip().eq('').sum())\n",
        "print(\"\\nWhitespace-only values per column:\")\n",
        "print(whitespace_only)\n",
        "\n",
        "# Total missing data\n",
        "total_missing = missing_values.sum() + empty_strings.sum() + whitespace_only.sum()\n",
        "print(f\"\\nTotal missing values in dataset: {total_missing}\")\n",
        "\n",
        "if total_missing == 0:\n",
        "    print(\"✅ Great! No missing values found in the dataset.\")\n",
        "else:\n",
        "    print(\"⚠️ Missing values detected and need to be handled.\")"
      ],
      "metadata": {
        "colab": {
          "base_uri": "https://localhost:8080/"
        },
        "id": "4oRCkv4yxxXn",
        "outputId": "f7f775f8-8544-43e0-8d0d-b95dbe10e798"
      },
      "id": "4oRCkv4yxxXn",
      "execution_count": 6,
      "outputs": [
        {
          "output_type": "stream",
          "name": "stdout",
          "text": [
            "=== MISSING VALUES ANALYSIS ===\n",
            "Null values per column:\n",
            "Pregnancies                 0\n",
            "Glucose                     0\n",
            "BloodPressure               0\n",
            "SkinThickness               0\n",
            "Insulin                     0\n",
            "BMI                         0\n",
            "DiabetesPedigreeFunction    0\n",
            "Age                         0\n",
            "Outcome                     0\n",
            "dtype: int64\n",
            "\n",
            "Empty strings per column:\n",
            "Pregnancies                 0\n",
            "Glucose                     0\n",
            "BloodPressure               0\n",
            "SkinThickness               0\n",
            "Insulin                     0\n",
            "BMI                         0\n",
            "DiabetesPedigreeFunction    0\n",
            "Age                         0\n",
            "Outcome                     0\n",
            "dtype: int64\n",
            "\n",
            "Whitespace-only values per column:\n",
            "Pregnancies                 0\n",
            "Glucose                     0\n",
            "BloodPressure               0\n",
            "SkinThickness               0\n",
            "Insulin                     0\n",
            "BMI                         0\n",
            "DiabetesPedigreeFunction    0\n",
            "Age                         0\n",
            "Outcome                     0\n",
            "dtype: int64\n",
            "\n",
            "Total missing values in dataset: 0\n",
            "✅ Great! No missing values found in the dataset.\n"
          ]
        }
      ]
    },
    {
      "cell_type": "markdown",
      "source": [
        "# Visualize data ( first two features only)"
      ],
      "metadata": {
        "id": "9yzKlgZWxS5F"
      },
      "id": "9yzKlgZWxS5F"
    },
    {
      "cell_type": "code",
      "source": [
        "# Visualize the first two features (Pregnancies and Glucose)\n",
        "plt.figure(figsize=(8, 6))\n",
        "plt.scatter(data['Pregnancies'], data['Glucose'], alpha=0.5)\n",
        "plt.title('Scatter plot')\n",
        "#plt.xlabel('Pregnancies')\n",
        "#plt.ylabel('Glucose')\n",
        "plt.grid(True)\n",
        "plt.show()"
      ],
      "metadata": {
        "colab": {
          "base_uri": "https://localhost:8080/",
          "height": 545
        },
        "id": "sHmyx26GxYAv",
        "outputId": "e417fc1f-cd4c-4616-aa9e-c86bf180f1d2"
      },
      "id": "sHmyx26GxYAv",
      "execution_count": 15,
      "outputs": [
        {
          "output_type": "display_data",
          "data": {
            "text/plain": [
              "<Figure size 800x600 with 1 Axes>"
            ],
            "image/png": "[encoded data removed]"
          },
          "metadata": {}
        }
      ]
    },
    {
      "cell_type": "markdown",
      "id": "513f4c74",
      "metadata": {
        "papermill": {
          "duration": 0.027628,
          "end_time": "2024-08-16T18:34:34.730958",
          "exception": false,
          "start_time": "2024-08-16T18:34:34.703330",
          "status": "completed"
        },
        "tags": [],
        "id": "513f4c74"
      },
      "source": [
        "## Seperate dependent and independent variables"
      ]
    },
    {
      "cell_type": "code",
      "source": [
        "# Separate dependent and independent variables\n",
        "print(\"=== SEPARATING FEATURES AND TARGET ===\")\n",
        "\n",
        "# Independent variables (features) - all columns except the target\n",
        "X = data.drop('Outcome', axis=1)\n",
        "print(\"Independent variables (Features):\")\n",
        "print(f\"Feature columns: {list(X.columns)}\")\n",
        "print(f\"Features shape: {X.shape}\")\n",
        "\n",
        "# Dependent variable (target)\n",
        "y = data['Outcome']\n",
        "print(f\"\\nDependent variable (Target): 'Outcome'\")\n",
        "print(f\"Target shape: {y.shape}\")\n",
        "\n",
        "# Show feature statistics\n",
        "print(\"\\n=== FEATURE STATISTICS ===\")\n",
        "print(X.describe())\n",
        "\n",
        "# Show target distribution\n",
        "print(\"\\n=== TARGET VARIABLE DISTRIBUTION ===\")\n",
        "target_distribution = y.value_counts().sort_index()\n",
        "print(target_distribution)\n",
        "\n",
        "# Show target percentages\n",
        "target_percentages = (y.value_counts(normalize=True) * 100).round(2).sort_index()\n",
        "print(\"\\nTarget percentages:\")\n",
        "for value, percentage in target_percentages.items():\n",
        "    count = target_distribution[value]\n",
        "    print(f\"Class {value}: {count} samples ({percentage}%)\")\n",
        "\n",
        "print(f\"\\nDataset is ready for machine learning!\")\n",
        "print(f\"Total samples: {X.shape[0]}\")\n",
        "print(f\"Total features: {X.shape[1]}\")\n",
        "print(f\"Target classes: {len(y.unique())}\")"
      ],
      "metadata": {
        "colab": {
          "base_uri": "https://localhost:8080/"
        },
        "id": "dFjz0AH-youX",
        "outputId": "1a207492-92f6-4d1e-e76d-dbfa66565456"
      },
      "id": "dFjz0AH-youX",
      "execution_count": 10,
      "outputs": [
        {
          "output_type": "stream",
          "name": "stdout",
          "text": [
            "=== SEPARATING FEATURES AND TARGET ===\n",
            "Independent variables (Features):\n",
            "Feature columns: ['Pregnancies', 'Glucose', 'BloodPressure', 'SkinThickness', 'Insulin', 'BMI', 'DiabetesPedigreeFunction', 'Age']\n",
            "Features shape: (499, 8)\n",
            "\n",
            "Dependent variable (Target): 'Outcome'\n",
            "Target shape: (499,)\n",
            "\n",
            "=== FEATURE STATISTICS ===\n",
            "       Pregnancies     Glucose  BloodPressure  SkinThickness     Insulin  \\\n",
            "count   499.000000  499.000000     499.000000      499.00000  499.000000   \n",
            "mean      3.803607  121.354709      68.743487       20.57515   80.390782   \n",
            "std       3.345786   32.441489      19.452608       15.72019  119.774561   \n",
            "min       0.000000    0.000000       0.000000        0.00000    0.000000   \n",
            "25%       1.000000  100.000000      64.000000        0.00000    0.000000   \n",
            "50%       3.000000  117.000000      70.000000       23.00000   36.000000   \n",
            "75%       6.000000  142.000000      80.000000       33.00000  122.000000   \n",
            "max      17.000000  197.000000     122.000000       63.00000  846.000000   \n",
            "\n",
            "              BMI  DiabetesPedigreeFunction         Age  \n",
            "count  499.000000                499.000000  499.000000  \n",
            "mean    31.984569                  0.485377   33.086172  \n",
            "std      8.210358                  0.345546   11.636849  \n",
            "min      0.000000                  0.078000   21.000000  \n",
            "25%     27.050000                  0.252000   24.000000  \n",
            "50%     32.000000                  0.383000   29.000000  \n",
            "75%     36.600000                  0.633500   39.500000  \n",
            "max     67.100000                  2.420000   81.000000  \n",
            "\n",
            "=== TARGET VARIABLE DISTRIBUTION ===\n",
            "Outcome\n",
            "0    317\n",
            "1    182\n",
            "Name: count, dtype: int64\n",
            "\n",
            "Target percentages:\n",
            "Class 0: 317 samples (63.53%)\n",
            "Class 1: 182 samples (36.47%)\n",
            "\n",
            "Dataset is ready for machine learning!\n",
            "Total samples: 499\n",
            "Total features: 8\n",
            "Target classes: 2\n"
          ]
        }
      ]
    },
    {
      "cell_type": "markdown",
      "id": "f8debfe7",
      "metadata": {
        "papermill": {
          "duration": 0.030549,
          "end_time": "2024-08-16T18:34:34.867335",
          "exception": false,
          "start_time": "2024-08-16T18:34:34.836786",
          "status": "completed"
        },
        "tags": [],
        "id": "f8debfe7"
      },
      "source": [
        "## Split the data into training and test data"
      ]
    },
    {
      "cell_type": "code",
      "source": [
        "# Split the data into training and testing sets\n",
        "from sklearn.model_selection import train_test_split\n",
        "print(\"=== SPLITTING DATA INTO TRAIN AND TEST SETS ===\")\n",
        "\n",
        "# Perform the split (80% training, 20% testing)\n",
        "X_train, X_test, y_train, y_test = train_test_split(\n",
        "    X, y,\n",
        "    test_size=0.2,\n",
        "    random_state=42,\n",
        "    stratify=y  # Ensure balanced split across all classes\n",
        ")\n",
        "\n",
        "print(\"Data split completed successfully!\")\n",
        "print(f\"\\nTraining set:\")\n",
        "print(f\"  X_train shape: {X_train.shape}\")\n",
        "print(f\"  y_train shape: {y_train.shape}\")\n",
        "\n",
        "print(f\"\\nTesting set:\")\n",
        "print(f\"  X_test shape: {X_test.shape}\")\n",
        "print(f\"  y_test shape: {y_test.shape}\")\n",
        "\n",
        "# Verify the split ratios\n",
        "print(f\"\\nSplit ratios:\")\n",
        "print(f\"  Training: {len(X_train)/len(X)*100:.1f}%\")\n",
        "print(f\"  Testing: {len(X_test)/len(X)*100:.1f}%\")\n",
        "\n",
        "# Check class distribution in training and testing sets\n",
        "print(f\"\\n=== CLASS DISTRIBUTION AFTER SPLIT ===\")\n",
        "print(\"Training set class distribution:\")\n",
        "train_dist = y_train.value_counts().sort_index()\n",
        "for class_val, count in train_dist.items():\n",
        "    percentage = (count / len(y_train) * 100)\n",
        "    print(f\"  Class {class_val}: {count} samples ({percentage:.1f}%)\")\n",
        "\n",
        "print(\"\\nTesting set class distribution:\")\n",
        "test_dist = y_test.value_counts().sort_index()\n",
        "for class_val, count in test_dist.items():\n",
        "    percentage = (count / len(y_test) * 100)\n",
        "    print(f\"  Class {class_val}: {count} samples ({percentage:.1f}%)\")\n",
        "\n",
        "print(\"\\n✅ Data preprocessing completed successfully!\")\n",
        "print(\"The dataset is now ready for machine learning algorithms.\")"
      ],
      "metadata": {
        "colab": {
          "base_uri": "https://localhost:8080/"
        },
        "id": "QirN9B3fysAY",
        "outputId": "4fb3219d-5b44-41f3-be78-17bf7de57cb4"
      },
      "id": "QirN9B3fysAY",
      "execution_count": 11,
      "outputs": [
        {
          "output_type": "stream",
          "name": "stdout",
          "text": [
            "=== SPLITTING DATA INTO TRAIN AND TEST SETS ===\n",
            "Data split completed successfully!\n",
            "\n",
            "Training set:\n",
            "  X_train shape: (399, 8)\n",
            "  y_train shape: (399,)\n",
            "\n",
            "Testing set:\n",
            "  X_test shape: (100, 8)\n",
            "  y_test shape: (100,)\n",
            "\n",
            "Split ratios:\n",
            "  Training: 80.0%\n",
            "  Testing: 20.0%\n",
            "\n",
            "=== CLASS DISTRIBUTION AFTER SPLIT ===\n",
            "Training set class distribution:\n",
            "  Class 0: 253 samples (63.4%)\n",
            "  Class 1: 146 samples (36.6%)\n",
            "\n",
            "Testing set class distribution:\n",
            "  Class 0: 64 samples (64.0%)\n",
            "  Class 1: 36 samples (36.0%)\n",
            "\n",
            "✅ Data preprocessing completed successfully!\n",
            "The dataset is now ready for machine learning algorithms.\n"
          ]
        }
      ]
    },
    {
      "cell_type": "code",
      "source": [
        "from sklearn.neighbors import KNeighborsClassifier\n",
        "\n",
        "# Initialize the KNN classifier\n",
        "knn_classifier = KNeighborsClassifier(n_neighbors=5)  # You can adjust n_neighbors\n",
        "\n",
        "# Train the classifier on the training data\n",
        "knn_classifier.fit(X_train, y_train)\n",
        "\n",
        "print(\"KNN classifier trained successfully!\")"
      ],
      "metadata": {
        "id": "6SdmvFnxyuMD",
        "colab": {
          "base_uri": "https://localhost:8080/"
        },
        "outputId": "eab6bdf7-c48a-4b0e-ff36-dec3f5093eff"
      },
      "id": "6SdmvFnxyuMD",
      "execution_count": 16,
      "outputs": [
        {
          "output_type": "stream",
          "name": "stdout",
          "text": [
            "KNN classifier trained successfully!\n"
          ]
        }
      ]
    },
    {
      "cell_type": "code",
      "metadata": {
        "colab": {
          "base_uri": "https://localhost:8080/"
        },
        "id": "20cafbe0",
        "outputId": "94c88b74-002a-44dd-c7bc-18df28ea12a8"
      },
      "source": [
        "from sklearn.metrics import accuracy_score, precision_score, recall_score, f1_score, confusion_matrix\n",
        "\n",
        "# Make predictions on the test data\n",
        "y_pred = knn_classifier.predict(X_test)\n",
        "\n",
        "# Evaluate the model\n",
        "accuracy = accuracy_score(y_test, y_pred)\n",
        "precision = precision_score(y_test, y_pred)\n",
        "recall = recall_score(y_test, y_pred)\n",
        "f1 = f1_score(y_test, y_pred)\n",
        "conf_matrix = confusion_matrix(y_test, y_pred)\n",
        "\n",
        "print(\"=== MODEL EVALUATION ===\")\n",
        "print(f\"Accuracy: {accuracy:.4f}\")\n",
        "print(f\"Precision: {precision:.4f}\")\n",
        "print(f\"Recall: {recall:.4f}\")\n",
        "print(f\"F1-score: {f1:.4f}\")\n",
        "print(\"\\nConfusion Matrix:\")\n",
        "print(conf_matrix)"
      ],
      "id": "20cafbe0",
      "execution_count": 17,
      "outputs": [
        {
          "output_type": "stream",
          "name": "stdout",
          "text": [
            "=== MODEL EVALUATION ===\n",
            "Accuracy: 0.6100\n",
            "Precision: 0.4444\n",
            "Recall: 0.3333\n",
            "F1-score: 0.3810\n",
            "\n",
            "Confusion Matrix:\n",
            "[[49 15]\n",
            " [24 12]]\n"
          ]
        }
      ]
    },
    {
      "cell_type": "markdown",
      "metadata": {
        "id": "3c3a6135"
      },
      "source": [
        "# Task\n",
        "Use the KNN algorithm to train and evaluate a model on the data. Iterate through odd K values from 5 to 51 with a step of 2. For each K value, calculate and store the accuracy, precision, recall, and F1-score. Finally, present these metrics for all K values in a tabulated format."
      ],
      "id": "3c3a6135"
    },
    {
      "cell_type": "markdown",
      "metadata": {
        "id": "f962750d"
      },
      "source": [
        "## Iterate through k values\n",
        "\n",
        "### Subtask:\n",
        "Loop through odd numbers from 5 to 51 with a step of 2.\n"
      ],
      "id": "f962750d"
    },
    {
      "cell_type": "markdown",
      "metadata": {
        "id": "bdee6ebf"
      },
      "source": [
        "**Reasoning**:\n",
        "Initialize empty lists to store performance metrics and the k values, then create a loop to iterate through the specified range of odd numbers for k.\n",
        "\n"
      ],
      "id": "bdee6ebf"
    },
    {
      "cell_type": "code",
      "metadata": {
        "id": "13a12744"
      },
      "source": [
        "# Initialize lists to store metrics and k values\n",
        "accuracies = []\n",
        "precisions = []\n",
        "recalLs = []\n",
        "f1_scores = []\n",
        "k_values = []\n",
        "\n",
        "# Loop through odd k values from 5 to 51\n",
        "for k in range(5, 52, 2):\n",
        "    k_values.append(k)"
      ],
      "id": "13a12744",
      "execution_count": 20,
      "outputs": []
    },
    {
      "cell_type": "markdown",
      "metadata": {
        "id": "10d6ffb9"
      },
      "source": [
        "## Train and evaluate model\n",
        "\n",
        "### Subtask:\n",
        "Inside the loop, for each k value, train a KNN classifier and evaluate its performance using accuracy, precision, recall, and F1-score on the test set. Store the results.\n"
      ],
      "id": "10d6ffb9"
    },
    {
      "cell_type": "markdown",
      "metadata": {
        "id": "565227d4"
      },
      "source": [
        "**Reasoning**:\n",
        "The subtask is to train the KNN model and evaluate its performance for each k value inside the loop. This involves initializing the classifier, training it, making predictions, calculating metrics, and storing them in the predefined lists.\n",
        "\n"
      ],
      "id": "565227d4"
    },
    {
      "cell_type": "code",
      "metadata": {
        "colab": {
          "base_uri": "https://localhost:8080/"
        },
        "id": "5093895a",
        "outputId": "058fec68-c0e8-4f4a-a7e0-7598e2be6fa2"
      },
      "source": [
        "from sklearn.neighbors import KNeighborsClassifier\n",
        "from sklearn.metrics import accuracy_score, precision_score, recall_score, f1_score\n",
        "\n",
        "# Initialize lists to store metrics and k values\n",
        "accuracies = []\n",
        "precisions = []\n",
        "recalLs = []\n",
        "f1_scores = []\n",
        "k_values = []\n",
        "\n",
        "# Loop through odd k values from 5 to 51\n",
        "for k in range(5, 52, 2):\n",
        "    k_values.append(k)\n",
        "\n",
        "    # Initialize the KNN classifier\n",
        "    knn_classifier = KNeighborsClassifier(n_neighbors=k)\n",
        "\n",
        "    # Train the classifier on the training data\n",
        "    knn_classifier.fit(X_train, y_train)\n",
        "\n",
        "    # Make predictions on the test data\n",
        "    y_pred = knn_classifier.predict(X_test)\n",
        "\n",
        "    # Calculate the metrics\n",
        "    accuracy = accuracy_score(y_test, y_pred)\n",
        "    precision = precision_score(y_test, y_pred)\n",
        "    recall = recall_score(y_test, y_pred)\n",
        "    f1 = f1_score(y_test, y_pred)\n",
        "\n",
        "    # Append the calculated metrics to the respective lists\n",
        "    accuracies.append(accuracy)\n",
        "    precisions.append(precision)\n",
        "    recalLs.append(recall)\n",
        "    f1_scores.append(f1)\n",
        "\n",
        "print(\"Model training and evaluation completed for all k values.\")"
      ],
      "id": "5093895a",
      "execution_count": 21,
      "outputs": [
        {
          "output_type": "stream",
          "name": "stdout",
          "text": [
            "Model training and evaluation completed for all k values.\n"
          ]
        }
      ]
    },
    {
      "cell_type": "markdown",
      "metadata": {
        "id": "b88976ec"
      },
      "source": [
        "## Present results\n",
        "\n",
        "### Subtask:\n",
        "After the loop, create a pandas DataFrame to store the results and display it in a tabulated format.\n"
      ],
      "id": "b88976ec"
    },
    {
      "cell_type": "markdown",
      "metadata": {
        "id": "31a78657"
      },
      "source": [
        "**Reasoning**:\n",
        "I will now create a pandas DataFrame from the lists of metrics and k values that were populated in the previous subtasks. Then, I will display the DataFrame to present the results in a clear, tabulated format as requested by the user.\n",
        "\n"
      ],
      "id": "31a78657"
    },
    {
      "cell_type": "code",
      "metadata": {
        "colab": {
          "base_uri": "https://localhost:8080/"
        },
        "id": "960f06a0",
        "outputId": "8f8b0818-0969-4c4c-cb01-2029189e6de2"
      },
      "source": [
        "results_dict = {\n",
        "    'K': k_values,\n",
        "    'Accuracy': accuracies,\n",
        "    'Precision': precisions,\n",
        "    'Recall': recalLs,\n",
        "    'F1-score': f1_scores\n",
        "}\n",
        "\n",
        "results_df = pd.DataFrame(results_dict)\n",
        "print(results_df)"
      ],
      "id": "960f06a0",
      "execution_count": 22,
      "outputs": [
        {
          "output_type": "stream",
          "name": "stdout",
          "text": [
            "     K  Accuracy  Precision    Recall  F1-score\n",
            "0    5      0.61   0.444444  0.333333  0.380952\n",
            "1    7      0.60   0.433333  0.361111  0.393939\n",
            "2    9      0.58   0.400000  0.333333  0.363636\n",
            "3   11      0.63   0.483871  0.416667  0.447761\n",
            "4   13      0.62   0.466667  0.388889  0.424242\n",
            "5   15      0.63   0.482759  0.388889  0.430769\n",
            "6   17      0.62   0.464286  0.361111  0.406250\n",
            "7   19      0.61   0.448276  0.361111  0.400000\n",
            "8   21      0.63   0.482759  0.388889  0.430769\n",
            "9   23      0.62   0.468750  0.416667  0.441176\n",
            "10  25      0.63   0.482759  0.388889  0.430769\n",
            "11  27      0.61   0.444444  0.333333  0.380952\n",
            "12  29      0.61   0.444444  0.333333  0.380952\n",
            "13  31      0.61   0.444444  0.333333  0.380952\n",
            "14  33      0.61   0.440000  0.305556  0.360656\n",
            "15  35      0.59   0.400000  0.277778  0.327869\n",
            "16  37      0.61   0.440000  0.305556  0.360656\n",
            "17  39      0.61   0.434783  0.277778  0.338983\n",
            "18  41      0.62   0.454545  0.277778  0.344828\n",
            "19  43      0.60   0.416667  0.277778  0.333333\n",
            "20  45      0.60   0.416667  0.277778  0.333333\n",
            "21  47      0.61   0.440000  0.305556  0.360656\n",
            "22  49      0.61   0.434783  0.277778  0.338983\n",
            "23  51      0.61   0.434783  0.277778  0.338983\n"
          ]
        }
      ]
    },
    {
      "cell_type": "markdown",
      "metadata": {
        "id": "09d3960e"
      },
      "source": [
        "## Summary:\n",
        "\n",
        "### Q&A\n",
        "**What is the optimal K value for the KNN model based on the evaluation metrics?**\n",
        "\n",
        "Based on the evaluation, the optimal K value is 11. This is because at K=11, the model achieves the highest accuracy (0.63) and F1-score (0.447761) among all the tested K values.\n",
        "\n",
        "### Data Analysis Key Findings\n",
        "* The KNN model's performance varies significantly with the choice of the hyperparameter K.\n",
        "* The highest accuracy of 0.63 and F1-score of 0.447761 are achieved when K is 11.\n",
        "* As K increases beyond 11, there is a general trend of decreasing performance across all metrics, with the F1-score dropping to 0.338983 at K=51.\n",
        "* The model with K=5 achieves an accuracy of 0.61 and an F1-score of 0.380952.\n",
        "\n",
        "### Insights or Next Steps\n",
        "* **Hyperparameter Tuning:** Although K=11 is the best-performing value in the tested range, a more granular search around this value (e.g., testing K=10, 12) could potentially yield even better results.\n",
        "* **Feature Engineering:** To further improve the model's predictive power, consider exploring feature engineering techniques or evaluating the importance of existing features.\n"
      ],
      "id": "09d3960e"
    },
    {
      "cell_type": "code",
      "metadata": {
        "colab": {
          "base_uri": "https://localhost:8080/",
          "height": 718
        },
        "id": "0041a999",
        "outputId": "5b4e2d48-f4bf-4af5-9664-7286125838ea"
      },
      "source": [
        "# Plotting the metrics against k values\n",
        "plt.figure(figsize=(12, 8))\n",
        "\n",
        "plt.plot(results_df['K'], results_df['Accuracy'], marker='o', label='Accuracy')\n",
        "plt.plot(results_df['K'], results_df['Precision'], marker='o', label='Precision')\n",
        "plt.plot(results_df['K'], results_df['Recall'], marker='o', label='Recall')\n",
        "plt.plot(results_df['K'], results_df['F1-score'], marker='o', label='F1-score')\n",
        "\n",
        "plt.title('KNN Model Performance vs. K Value')\n",
        "plt.xlabel('Number of Neighbors (K)')\n",
        "plt.ylabel('Metric Value')\n",
        "plt.xticks(results_df['K'])\n",
        "plt.grid(True)\n",
        "plt.legend()\n",
        "plt.show()"
      ],
      "id": "0041a999",
      "execution_count": 23,
      "outputs": [
        {
          "output_type": "display_data",
          "data": {
            "text/plain": [
              "<Figure size 1200x800 with 1 Axes>"
            ],
            "image/png": "[encoded data removed]"
          },
          "metadata": {}
        }
      ]
    },
    {
      "cell_type": "markdown",
      "metadata": {
        "id": "599967a6"
      },
      "source": [
        "## Train and Evaluate with Optimal K\n",
        "\n",
        "Now that we have identified an optimal K value (K=11), let's train and evaluate the KNN model using this value."
      ],
      "id": "599967a6"
    },
    {
      "cell_type": "code",
      "metadata": {
        "colab": {
          "base_uri": "https://localhost:8080/"
        },
        "id": "b3abe98a",
        "outputId": "0d7adc0d-4de6-4585-889d-d6bfb51754a6"
      },
      "source": [
        "from sklearn.neighbors import KNeighborsClassifier\n",
        "from sklearn.metrics import accuracy_score, precision_score, recall_score, f1_score, confusion_matrix\n",
        "\n",
        "# Initialize the KNN classifier with the optimal K value\n",
        "optimal_k = 11\n",
        "knn_optimal = KNeighborsClassifier(n_neighbors=optimal_k)\n",
        "\n",
        "# Train the classifier on the training data\n",
        "knn_optimal.fit(X_train, y_train)\n",
        "\n",
        "print(f\"KNN classifier trained successfully with K = {optimal_k}!\")\n",
        "\n",
        "# Make predictions on the test data\n",
        "y_pred_optimal = knn_optimal.predict(X_test)\n",
        "\n",
        "# Evaluate the model\n",
        "accuracy_optimal = accuracy_score(y_test, y_pred_optimal)\n",
        "precision_optimal = precision_score(y_test, y_pred_optimal)\n",
        "recall_optimal = recall_score(y_test, y_pred_optimal)\n",
        "f1_optimal = f1_score(y_test, y_pred_optimal)\n",
        "conf_matrix_optimal = confusion_matrix(y_test, y_pred_optimal)\n",
        "\n",
        "print(\"\\n=== MODEL EVALUATION with Optimal K ===\")\n",
        "print(f\"Accuracy (K={optimal_k}): {accuracy_optimal:.4f}\")\n",
        "print(f\"Precision (K={optimal_k}): {precision_optimal:.4f}\")\n",
        "print(f\"Recall (K={optimal_k}): {recall_optimal:.4f}\")\n",
        "print(f\"F1-score (K={optimal_k}): {f1_optimal:.4f}\")\n",
        "print(\"\\nConfusion Matrix:\")\n",
        "print(conf_matrix_optimal)"
      ],
      "id": "b3abe98a",
      "execution_count": 24,
      "outputs": [
        {
          "output_type": "stream",
          "name": "stdout",
          "text": [
            "KNN classifier trained successfully with K = 11!\n",
            "\n",
            "=== MODEL EVALUATION with Optimal K ===\n",
            "Accuracy (K=11): 0.6300\n",
            "Precision (K=11): 0.4839\n",
            "Recall (K=11): 0.4167\n",
            "F1-score (K=11): 0.4478\n",
            "\n",
            "Confusion Matrix:\n",
            "[[48 16]\n",
            " [21 15]]\n"
          ]
        }
      ]
    },
    {
      "cell_type": "markdown",
      "metadata": {
        "id": "d74152fe"
      },
      "source": [
        "## Feature Scaling\n",
        "\n",
        "Let's explore feature scaling to see if it improves the model's performance. We will use StandardScaler to standardize the features."
      ],
      "id": "d74152fe"
    },
    {
      "cell_type": "code",
      "metadata": {
        "colab": {
          "base_uri": "https://localhost:8080/"
        },
        "id": "a19e5f07",
        "outputId": "f0e5641a-561d-4bd4-c92d-be6b8fc617cc"
      },
      "source": [
        "from sklearn.preprocessing import StandardScaler\n",
        "\n",
        "# Initialize the StandardScaler\n",
        "scaler = StandardScaler()\n",
        "\n",
        "# Fit the scaler on the training data and transform both training and test data\n",
        "X_train_scaled = scaler.fit_transform(X_train)\n",
        "X_test_scaled = scaler.transform(X_test)\n",
        "\n",
        "print(\"Features scaled successfully!\")\n",
        "print(\"\\nScaled Training data shape:\", X_train_scaled.shape)\n",
        "print(\"Scaled Testing data shape:\", X_test_scaled.shape)"
      ],
      "id": "a19e5f07",
      "execution_count": 25,
      "outputs": [
        {
          "output_type": "stream",
          "name": "stdout",
          "text": [
            "Features scaled successfully!\n",
            "\n",
            "Scaled Training data shape: (399, 8)\n",
            "Scaled Testing data shape: (100, 8)\n"
          ]
        }
      ]
    },
    {
      "cell_type": "code",
      "metadata": {
        "colab": {
          "base_uri": "https://localhost:8080/"
        },
        "id": "1c9b3c42",
        "outputId": "97f64688-a96b-4500-9d37-63ef8ddfa801"
      },
      "source": [
        "from sklearn.neighbors import KNeighborsClassifier\n",
        "from sklearn.metrics import accuracy_score, precision_score, recall_score, f1_score, confusion_matrix\n",
        "\n",
        "# Initialize the KNN classifier (using the optimal K value identified earlier)\n",
        "knn_scaled = KNeighborsClassifier(n_neighbors=optimal_k)\n",
        "\n",
        "# Train the classifier on the scaled training data\n",
        "knn_scaled.fit(X_train_scaled, y_train)\n",
        "\n",
        "print(f\"KNN classifier trained successfully with scaled data (K = {optimal_k})!\")\n",
        "\n",
        "# Make predictions on the scaled test data\n",
        "y_pred_scaled = knn_scaled.predict(X_test_scaled)\n",
        "\n",
        "# Evaluate the model with scaled data\n",
        "accuracy_scaled = accuracy_score(y_test, y_pred_scaled)\n",
        "precision_scaled = precision_score(y_test, y_pred_scaled)\n",
        "recall_scaled = recall_score(y_test, y_pred_scaled)\n",
        "f1_scaled = f1_score(y_test, y_pred_scaled)\n",
        "conf_matrix_scaled = confusion_matrix(y_test, y_pred_scaled)\n",
        "\n",
        "print(\"\\n=== MODEL EVALUATION with Scaled Data ===\")\n",
        "print(f\"Accuracy (Scaled, K={optimal_k}): {accuracy_scaled:.4f}\")\n",
        "print(f\"Precision (Scaled, K={optimal_k}): {precision_scaled:.4f}\")\n",
        "print(f\"Recall (Scaled, K={optimal_k}): {recall_scaled:.4f}\")\n",
        "print(f\"F1-score (Scaled, K={optimal_k}): {f1_scaled:.4f}\")\n",
        "print(\"\\nConfusion Matrix:\")\n",
        "print(conf_matrix_scaled)"
      ],
      "id": "1c9b3c42",
      "execution_count": 26,
      "outputs": [
        {
          "output_type": "stream",
          "name": "stdout",
          "text": [
            "KNN classifier trained successfully with scaled data (K = 11)!\n",
            "\n",
            "=== MODEL EVALUATION with Scaled Data ===\n",
            "Accuracy (Scaled, K=11): 0.6800\n",
            "Precision (Scaled, K=11): 0.5769\n",
            "Recall (Scaled, K=11): 0.4167\n",
            "F1-score (Scaled, K=11): 0.4839\n",
            "\n",
            "Confusion Matrix:\n",
            "[[53 11]\n",
            " [21 15]]\n"
          ]
        }
      ]
    },
    {
      "cell_type": "code",
      "metadata": {
        "colab": {
          "base_uri": "https://localhost:8080/"
        },
        "id": "4bc2ddbd",
        "outputId": "6813610e-0ce6-4a80-feb5-f50761537cce"
      },
      "source": [
        "print(\"=== PERFORMANCE COMPARISON (Unscaled vs. Scaled Data) ===\")\n",
        "\n",
        "print(\"\\n--- Unscaled Data (K={}) ---\".format(optimal_k))\n",
        "print(f\"Accuracy: {accuracy_optimal:.4f}\")\n",
        "print(f\"Precision: {precision_optimal:.4f}\")\n",
        "print(f\"Recall: {recall_optimal:.4f}\")\n",
        "print(f\"F1-score: {f1_optimal:.4f}\")\n",
        "\n",
        "print(\"\\n--- Scaled Data (K={}) ---\".format(optimal_k))\n",
        "print(f\"Accuracy: {accuracy_scaled:.4f}\")\n",
        "print(f\"Precision: {precision_scaled:.4f}\")\n",
        "print(f\"Recall: {recall_scaled:.4f}\")\n",
        "print(f\"F1-score: {f1_scaled:.4f}\")\n",
        "\n",
        "print(\"\\nConclusion: Feature scaling improved the model's performance in terms of Accuracy and Precision.\")"
      ],
      "id": "4bc2ddbd",
      "execution_count": 27,
      "outputs": [
        {
          "output_type": "stream",
          "name": "stdout",
          "text": [
            "=== PERFORMANCE COMPARISON (Unscaled vs. Scaled Data) ===\n",
            "\n",
            "--- Unscaled Data (K=11) ---\n",
            "Accuracy: 0.6300\n",
            "Precision: 0.4839\n",
            "Recall: 0.4167\n",
            "F1-score: 0.4478\n",
            "\n",
            "--- Scaled Data (K=11) ---\n",
            "Accuracy: 0.6800\n",
            "Precision: 0.5769\n",
            "Recall: 0.4167\n",
            "F1-score: 0.4839\n",
            "\n",
            "Conclusion: Feature scaling improved the model's performance in terms of Accuracy and Precision.\n"
          ]
        }
      ]
    },
    {
      "cell_type": "markdown",
      "metadata": {
        "id": "83a65067"
      },
      "source": [
        "## Summary of Findings\n",
        "\n",
        "Based on the analysis of the KNN model for diabetes prediction:\n",
        "\n",
        "*   **Optimal K Value:** By iterating through odd K values from 5 to 51, we found that a K value of 11 resulted in the best performance in terms of both Accuracy (0.6300) and F1-score (0.4478) on the unscaled data within the tested range.\n",
        "*   **Impact of Feature Scaling:** Applying StandardScaler to the features significantly improved the model's performance. With feature scaling and using K=11, the model achieved an Accuracy of 0.6800 and an F1-score of 0.4839. This indicates that scaling the features helped the KNN algorithm by ensuring that all features contribute equally to the distance calculations.\n",
        "\n",
        "**Conclusion:** Feature scaling is a crucial step for improving the performance of distance-based algorithms like KNN on this dataset. The model trained with scaled data and an optimal K value of 11 showed better predictive capability compared to the unscaled data.\n",
        "\n",
        "**Next Steps:**\n",
        "\n",
        "*   While K=11 was optimal in the tested range, a more granular search around this value with scaled data could potentially yield even better results.\n",
        "*   Exploring other machine learning algorithms (e.g., Logistic Regression, Support Vector Machines, Decision Trees, Random Forests) could provide further insights and potentially better performance.\n",
        "*   Investigating other preprocessing techniques, such as handling potential outliers or exploring different feature transformations, might also improve the model."
      ],
      "id": "83a65067"
    },
    {
      "cell_type": "code",
      "source": [],
      "metadata": {
        "id": "h4AGdKr73KCm"
      },
      "id": "h4AGdKr73KCm",
      "execution_count": null,
      "outputs": []
    }
  ],
  "metadata": {
    "kaggle": {
      "accelerator": "none",
      "dataSources": [
        {
          "datasetId": 2298,
          "sourceId": 3884,
          "sourceType": "datasetVersion"
        }
      ],
      "dockerImageVersionId": 30746,
      "isGpuEnabled": false,
      "isInternetEnabled": true,
      "language": "python",
      "sourceType": "notebook"
    },
    "kernelspec": {
      "display_name": "Anjali",
      "language": "python",
      "name": "python3"
    },
    "language_info": {
      "codemirror_mode": {
        "name": "ipython",
        "version": 3
      },
      "file_extension": ".py",
      "mimetype": "text/x-python",
      "name": "python",
      "nbconvert_exporter": "python",
      "pygments_lexer": "ipython3",
      "version": "3.12.1"
    },
    "papermill": {
      "default_parameters": {},
      "duration": 13.89258,
      "end_time": "2024-08-16T18:34:39.073033",
      "environment_variables": {},
      "exception": null,
      "input_path": "__notebook__.ipynb",
      "output_path": "__notebook__.ipynb",
      "parameters": {},
      "start_time": "2024-08-16T18:34:25.180453",
      "version": "2.5.0"
    },
    "colab": {
      "provenance": []
    }
  },
  "nbformat": 4,
  "nbformat_minor": 5
}